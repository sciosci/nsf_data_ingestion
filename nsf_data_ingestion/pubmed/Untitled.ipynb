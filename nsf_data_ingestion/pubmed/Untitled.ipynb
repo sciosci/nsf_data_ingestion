{
 "cells": [
  {
   "cell_type": "code",
   "execution_count": 3,
   "metadata": {},
   "outputs": [],
   "source": [
    "import sys\n",
    "sys.path.append('/home/ananth/nsf_data_ingestion/')\n",
    "from nsf_data_ingestion.config import nsf_config\n",
    "from nsf_data_ingestion.objects import data_source_params\n",
    "\n",
    "import os\n",
    "from shutil import copyfile\n",
    "from shutil import rmtree\n",
    "import tarfile\n",
    "import shutil\n",
    "import zipfile\n",
    "from ftplib import FTP\n",
    "import logging\n",
    "import calendar\n",
    "import time\n",
    "logging.getLogger().setLevel(logging.INFO)\n",
    "\n",
    "def download_pubmed_data(param_list):\n",
    "\n",
    "    directory_path_data = param_list.get('download_path')\n",
    "    if os.path.exists(directory_path_data):\n",
    "        rmtree(directory_path_data)\n",
    "\n",
    "    os.makedirs(directory_path_data)\n",
    "    ftp = FTP('ftp.ncbi.nlm.nih.gov')\n",
    "    ftp.login(user='', passwd = '')\n",
    "    ftp.cwd(\"/pub/pmc/oa_bulk/\")\n",
    "    archive_file_list = get_archive_file_list()\n",
    "    print(archive_file_list)\n",
    "    for i, val in enumerate(archive_file_list):\n",
    "        localfile = open(directory_path_data+val, 'wb')\n",
    "        ftp.retrbinary(\"RETR \" + val ,localfile.write)\n",
    "        logging.info('Downloading Pleae Wait.................')\n",
    "    ftp.quit()\n",
    "    localfile.close()\n",
    "    logging.info('Download Complete..........................')\n",
    "\n",
    "\n",
    "def download(data_source_name):\n",
    "    download_med_data(data_source_params.mapping.get(data_source_name))"
   ]
  },
  {
   "cell_type": "code",
   "execution_count": null,
   "metadata": {},
   "outputs": [],
   "source": []
  }
 ],
 "metadata": {
  "kernelspec": {
   "display_name": "Python 3",
   "language": "python",
   "name": "python3"
  },
  "language_info": {
   "codemirror_mode": {
    "name": "ipython",
    "version": 3
   },
   "file_extension": ".py",
   "mimetype": "text/x-python",
   "name": "python",
   "nbconvert_exporter": "python",
   "pygments_lexer": "ipython3",
   "version": "3.6.5"
  }
 },
 "nbformat": 4,
 "nbformat_minor": 2
}
