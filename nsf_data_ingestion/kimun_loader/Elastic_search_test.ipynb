{
 "cells": [
  {
   "cell_type": "code",
   "execution_count": 43,
   "metadata": {},
   "outputs": [],
   "source": [
    "import subprocess\n",
    "import os\n",
    "import logging"
   ]
  },
  {
   "cell_type": "code",
   "execution_count": 44,
   "metadata": {},
   "outputs": [],
   "source": [
    "# command = 'curl -XGET \"http://128.230.247.186:9201/_cat/indices\"'\n",
    "healthcheck = 'curl -XGET \"http://128.230.247.186:9201/_cat/indices\"'"
   ]
  },
  {
   "cell_type": "code",
   "execution_count": 45,
   "metadata": {},
   "outputs": [],
   "source": [
    "\n",
    "p_healthcheck = subprocess.Popen(healthcheck, shell=True, stdout=subprocess.PIPE, stderr=subprocess.PIPE)\n"
   ]
  },
  {
   "cell_type": "code",
   "execution_count": 46,
   "metadata": {},
   "outputs": [],
   "source": [
    "out_health, err_health = p_healthcheck.communicate()"
   ]
  },
  {
   "cell_type": "code",
   "execution_count": 47,
   "metadata": {},
   "outputs": [
    {
     "name": "stdout",
     "output_type": "stream",
     "text": [
      "Last Snap Shot :  b'yellow open blogs                           MpHcw2GCTK2CgbdIlcI0MA 5 1        3       0   7.6kb   7.6kb\\nyellow open kimun_version5                  bUWAdseQTiOvbVObgMCrrA 5 1        0       0   1.2kb   1.2kb\\ngreen  open .monitoring-es-6-2020.02.09     r-tiXolUS8-H-lt4pZX1Aw 1 0   310232    2775 174.8mb 174.8mb\\nyellow open my_index                        OazYD5yUT9O1He0mxiAb8A 5 1        0       0   1.2kb   1.2kb\\ngreen  open .monitoring-es-6-2020.02.13     r7HpsqBpQtOJLIe263cByQ 1 0   256923    2379 130.8mb 130.8mb\\nyellow open eileen_keyword_count_index_3    ChZ6oKn1Tw-qnZBN_aXtOw 5 1   838503       0  78.3mb  78.3mb\\ngreen  open .monitoring-kibana-6-2020.02.12 sajNacrQQXuJpHriEgTJvQ 1 0       97       0 109.6kb 109.6kb\\nyellow open test                            GUqlh2oMS82qjnwD6v5E0g 5 1        1       0   4.4kb   4.4kb\\nyellow open kimun2                          73pCZTonQJ2hNslUMzDzjw 5 1        0       0   1.2kb   1.2kb\\nyellow open eileen_keyword_index_1          Ui5vb5zTSWyhbt8qzKxRUA 5 1 10829103       0   1.3gb   1.3gb\\ngreen  open .monitoring-kibana-6-2020.02.09 5iHL0aPrT0qJWbVXHzR4iA 1 0    43195       0   4.5mb   4.5mb\\ngreen  open .monitoring-kibana-6-2020.02.13 vusMK34WRjGLbjMjaY9DvA 1 0    73609       0   7.3mb   7.3mb\\nyellow open pubmed_index                    LUPIVF-KQNmQsjpkt6cf1A 5 1        1       0   5.5kb   5.5kb\\nyellow open eileen_keyword_count_index_temp zOIQ0M7FQNybyrbV9SRRLw 5 1   838503       0  80.1mb  80.1mb\\nyellow open eileen_keyword_index            oLNVGifnT6uWrFJ2JkwCqQ 5 1 11935459       0   1.6gb   1.6gb\\ngreen  open .monitoring-kibana-6-2020.02.08 w_yKXQ2HRKizzktx0pyqGQ 1 0    43200       0   4.4mb   4.4mb\\nyellow open kimun_filtered                  emlUS8zrRQK_iL_OLU6cdA 5 1      359       0   2.6mb   2.6mb\\nyellow open company                         w1XBarASR6qnQBjzhLceRg 5 1        0       0   1.2kb   1.2kb\\nyellow open eileen_keyword_count_index      sxkSkMGgROi1R--Fa6wOgA 5 1  5102703       0   489mb   489mb\\ngreen  open .kibana                         7uTO-999S4eFIjrH-Cib0g 1 0        9       0  48.3kb  48.3kb\\nyellow open kimun                           FRzANCF_R4KOlcjXOD5X3g 5 1 27999431       0   142gb   142gb\\ngreen  open .monitoring-es-6-2020.02.14     Xv8dd8QPRY-5XyBAhyI0jw 1 0   134833     726  84.6mb  84.6mb\\ngreen  open .monitoring-kibana-6-2020.02.10 NrH_4WJHT6y2_M5L68cEMw 1 0    26680       0   2.7mb   2.7mb\\nyellow open eileen_keyword_index_na         wVvYJDnTQ362dgRGUt04tQ 5 1 10829103       0   1.2gb   1.2gb\\nyellow open kimun_version4                  Bxq_pJiqTNOF0UEgD2SFew 5 1 25871670 5749145 276.6gb 276.6gb\\ngreen  open .monitoring-es-6-2020.02.12     xzLMY_thTnmYdxqiOcjE0A 1 0      573       0 180.8kb 180.8kb\\ngreen  open .monitoring-es-6-2020.02.08     EeJpKpgNROCiZnkUkuuZlA 1 0   315881    2220 170.3mb 170.3mb\\ngreen  open .monitoring-kibana-6-2020.02.14 5iDeh4SORW-7a0N1po9Q6Q 1 0    38160       0   7.2mb   7.2mb\\nyellow open posts                           RJ0FJvWOQ3KplAHa99H7EA 5 1        0       0   1.2kb   1.2kb\\ngreen  open .monitoring-es-6-2020.02.10     ynWZORkuTsaGh2n7DnGGKQ 1 0   182542   40543 102.9mb 102.9mb\\n'\n"
     ]
    }
   ],
   "source": [
    "\n",
    "logging.info(\"Last Snap Shot : \",out_health)\n",
    "print(\"Last Snap Shot : \",out_health)"
   ]
  },
  {
   "cell_type": "code",
   "execution_count": 48,
   "metadata": {},
   "outputs": [],
   "source": [
    "delete_kimun = 'curl -XDELETE \"http://128.230.247.186:9201/kimun_version5\"'"
   ]
  },
  {
   "cell_type": "code",
   "execution_count": 49,
   "metadata": {},
   "outputs": [],
   "source": [
    "\n",
    "p_deletekimun = subprocess.Popen(delete_kimun, shell=True, stdout=subprocess.PIPE, stderr=subprocess.PIPE)"
   ]
  },
  {
   "cell_type": "code",
   "execution_count": 50,
   "metadata": {},
   "outputs": [],
   "source": [
    "out_delete, err_delete = p_deletekimun.communicate()"
   ]
  },
  {
   "cell_type": "code",
   "execution_count": 51,
   "metadata": {},
   "outputs": [
    {
     "name": "stdout",
     "output_type": "stream",
     "text": [
      "Last Snap Shot :  b'{\"acknowledged\":true}'\n"
     ]
    }
   ],
   "source": [
    "logging.info(\"Last Snap Shot : \",out_delete)\n",
    "print(\"Last Snap Shot : \",out_delete)"
   ]
  },
  {
   "cell_type": "code",
   "execution_count": null,
   "metadata": {},
   "outputs": [],
   "source": []
  }
 ],
 "metadata": {
  "kernelspec": {
   "display_name": "Python 3",
   "language": "python",
   "name": "python3"
  },
  "language_info": {
   "codemirror_mode": {
    "name": "ipython",
    "version": 3
   },
   "file_extension": ".py",
   "mimetype": "text/x-python",
   "name": "python",
   "nbconvert_exporter": "python",
   "pygments_lexer": "ipython3",
   "version": "3.7.3"
  }
 },
 "nbformat": 4,
 "nbformat_minor": 2
}
