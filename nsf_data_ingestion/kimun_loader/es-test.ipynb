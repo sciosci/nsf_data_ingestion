{
 "cells": [
  {
   "cell_type": "code",
   "execution_count": 1,
   "metadata": {},
   "outputs": [],
   "source": [
    "import subprocess\n",
    "import os\n",
    "import logging\n",
    "import pandas as pd"
   ]
  },
  {
   "cell_type": "code",
   "execution_count": 2,
   "metadata": {},
   "outputs": [],
   "source": [
    "if __name__ == '__main__':\n",
    "\n",
    "#     string = pd.read_csv(\"kimun_index_structure.txt\")\n",
    "#     command = string\n",
    "    command = \"{  'settings': {    'analysis': {          'filter': {            'alphabets_char_filter': {              'pattern': '[^a-zA-Z]',              'type': 'pattern_replace',              'replacement': ''            },            'word_joiner': {              'catenate_all': 'true',              'type': 'word_delimiter'            },            'autocomplete_flter': {              'type': 'edge_ngram',              'min_gram': '1',              'max_gram': '150'            },            'edge_ngram': {              'token_chars': [                'letter',                'digit'              ],              'min_gram': '1',              'type': 'edgeNGram',              'max_gram': '50'            },            'english_poss_stemmer': {              'name': 'possessive_english',              'type': 'stemmer'            },            'filter_stop':{             'type':'stop',             'stopwords':  '_english_'          },            'filter_shingle':{             'type':'shingle',             'max_shingle_size':4,             'min_shingle_size':2,             'output_unigrams':'true'          }          },          'analyzer': {            'keyword_analyzer': {              'filter': [                'lowercase',                'alphabets_char_filter',                'trim',                'english_poss_stemmer'              ],              'tokenizer': 'standard'            },            'autocomplete': {              'filter': [                'lowercase',                'word_joiner',                'autocomplete_flter'              ],              'type': 'custom',              'tokenizer': 'my_tokenizer'            },            'edge_ngram_analyzer': {              'filter': [                'lowercase',                'alphabets_char_filter',                'trim',                'english_poss_stemmer',                'edge_ngram'              ],              'tokenizer': 'standard'            },            'analyzer_shingle':{              'tokenizer':'standard',               'filter':['standard', 'lowercase', 'stop', 'filter_shingle']            },            'english_analyzer': {              'type': 'standard',              'stopwords': '_english_'            }          },          'tokenizer': {            'my_tokenizer': {              'pattern': ';',              'type': 'pattern'            }          }        }  },    'mappings': {      'documents': {        'properties': {          'date': {            'type': 'text',            'fields': {              'keyword': {                'type': 'keyword',                'ignore_above': 256              }            }          },          'documentType': {            'type': 'text',            'fields': {              'keyword': {                'type': 'keyword',                'ignore_above': 256              }            }          },          'id': {            'type': 'text',            'fields': {              'keyword': {                'type': 'keyword',                'ignore_above': 256              }            }          },          'organizations': {            'type': 'text',            'fields': {              'keyword': {                'type': 'keyword',                'ignore_above': 256              }            }          },          'scientists': {            'type': 'text',            'fields': {              'scientists_search': {                'type' : 'text',                'search_analyzer': 'keyword_analyzer',                'analyzer': 'edge_ngram_analyzer'              },              'keyword': {                'type': 'keyword',                'ignore_above': 256              }            },            'search_analyzer': 'keyword_analyzer',            'analyzer': 'edge_ngram_analyzer'          },          'source': {            'type': 'text',            'fields': {              'keyword': {                'type': 'keyword',                'ignore_above': 256              }            }          },          'sourceID': {            'type': 'text',            'fields': {              'keyword': {                'type': 'keyword',                'ignore_above': 256              }            }          },          'summary': {            'type': 'text',            'fields': {                'summary_search' : {                  'type' : 'text',                  'analyzer': 'analyzer_shingle',                  'search_analyzer':'analyzer_shingle'                },                'summary_text' : {                  'type': 'text',                  'analyzer': 'english_analyzer'                },                'keyword': {                'type': 'keyword',                'ignore_above': 256              }              }          },          'text': {            'type': 'text',            'analyzer': 'english_analyzer',            'fields': {              'keyword': {                'type': 'keyword',                'ignore_above': 256              }            }          },          'title': {            'type': 'text',            'fields': {                'title_search' : {                  'type' : 'text',                  'analyzer': 'analyzer_shingle',                  'search_analyzer':'analyzer_shingle'                },                'title_text' : {                  'type': 'text',                  'analyzer': 'english_analyzer'                },                'keyword': {                'type': 'keyword',                'ignore_above': 256              }              }          },          'topicNorm': {            'type': 'float'          },          'venue': {            'type': 'text',            'fields': {              'keyword': {                'type': 'keyword',                'ignore_above': 256              }            }          }        }      }    }}\"\n",
    "\n"
   ]
  },
  {
   "cell_type": "code",
   "execution_count": 3,
   "metadata": {},
   "outputs": [],
   "source": [
    "header = \"Content-Type: application/json\""
   ]
  },
  {
   "cell_type": "code",
   "execution_count": 4,
   "metadata": {},
   "outputs": [],
   "source": [
    "command = 'curl -XPUT \"http://128.230.247.186:9201/kimun_version6\" -H '+header+' d '+command "
   ]
  },
  {
   "cell_type": "code",
   "execution_count": 5,
   "metadata": {},
   "outputs": [],
   "source": [
    "p = subprocess.Popen(command, shell=True, stdout=subprocess.PIPE, stderr=subprocess.PIPE)"
   ]
  },
  {
   "cell_type": "code",
   "execution_count": 6,
   "metadata": {},
   "outputs": [],
   "source": [
    "out, err = p.communicate()"
   ]
  },
  {
   "cell_type": "code",
   "execution_count": 7,
   "metadata": {},
   "outputs": [
    {
     "name": "stdout",
     "output_type": "stream",
     "text": [
      "Create index result : \n",
      " b'{\"acknowledged\":true,\"shards_acknowledged\":true,\"index\":\"kimun_version6\"}'\n",
      "\n",
      "\n",
      "\n",
      "Create index error : \n",
      " b'  % Total    % Received % Xferd  Average Speed   Time    Time     Time  Current\\n                                 Dload  Upload   Total   Spent    Left  Speed\\n\\r  0     0    0     0    0     0      0      0 --:--:-- --:--:-- --:--:--     0\\r100    73  100    73    0     0    658      0 --:--:-- --:--:-- --:--:--   663\\ncurl: (6) Could not resolve host: application\\ncurl: (6) Could not resolve host: d\\ncurl: (3) [globbing] unmatched brace in column 1\\ncurl: (6) Could not resolve host: settings\\ncurl: (3) [globbing] unmatched brace in column 1\\ncurl: (6) Could not resolve host: analysis\\ncurl: (3) [globbing] unmatched brace in column 1\\ncurl: (6) Could not resolve host: filter\\ncurl: (3) [globbing] unmatched brace in column 1\\ncurl: (6) Could not resolve host: alphabets_char_filter\\ncurl: (3) [globbing] unmatched brace in column 1\\ncurl: (6) Could not resolve host: pattern\\ncurl: (3) [globbing] bad range specification in column 2\\ncurl: (6) Could not resolve host: type\\ncurl: (6) Could not resolve host: pattern_replace,\\ncurl: (6) Could not resolve host: replacement\\ncurl: (3) <url> malformed\\ncurl: (3) [globbing] unmatched close brace/bracket in column 1\\ncurl: (6) Could not resolve host: word_joiner\\ncurl: (3) [globbing] unmatched brace in column 1\\ncurl: (6) Could not resolve host: catenate_all\\ncurl: (6) Could not resolve host: true,\\ncurl: (6) Could not resolve host: type\\ncurl: (6) Could not resolve host: word_delimiter\\ncurl: (3) [globbing] unmatched close brace/bracket in column 1\\ncurl: (6) Could not resolve host: autocomplete_flter\\ncurl: (3) [globbing] unmatched brace in column 1\\ncurl: (6) Could not resolve host: type\\ncurl: (6) Could not resolve host: edge_ngram,\\ncurl: (6) Could not resolve host: min_gram\\ncurl: (6) Could not resolve host: 1,\\ncurl: (6) Could not resolve host: max_gram\\ncurl: (7) Could not resolve host: max_gram\\ncurl: (3) [globbing] unmatched close brace/bracket in column 1\\ncurl: (6) Could not resolve host: edge_ngram\\ncurl: (3) [globbing] unmatched brace in column 1\\ncurl: (6) Could not resolve host: token_chars\\ncurl: (3) [globbing] bad range specification in column 2\\ncurl: (6) Could not resolve host: letter,\\ncurl: (6) Could not resolve host: digit\\ncurl: (3) [globbing] unmatched close brace/bracket in column 1\\ncurl: (6) Could not resolve host: min_gram\\ncurl: (6) Could not resolve host: 1,\\ncurl: (6) Could not resolve host: type\\ncurl: (6) Could not resolve host: edgeNGram,\\ncurl: (6) Could not resolve host: max_gram\\ncurl: (7) Could not resolve host: max_gram\\ncurl: (3) [globbing] unmatched close brace/bracket in column 1\\ncurl: (6) Could not resolve host: english_poss_stemmer\\ncurl: (3) [globbing] unmatched brace in column 1\\ncurl: (6) Could not resolve host: name\\ncurl: (6) Could not resolve host: possessive_english,\\ncurl: (6) Could not resolve host: type\\ncurl: (6) Could not resolve host: stemmer\\ncurl: (3) [globbing] unmatched close brace/bracket in column 1\\ncurl: (3) [globbing] unmatched brace in column 13\\ncurl: (6) Could not resolve host: type\\ncurl: (6) Could not resolve host: stopwords\\ncurl: (6) Could not resolve host: _english_\\ncurl: (3) [globbing] unmatched close brace/bracket in column 1\\ncurl: (3) [globbing] unmatched brace in column 16\\ncurl: (6) Could not resolve host: type\\ncurl: (6) Could not resolve host: max_shingle_size\\ncurl: (6) Could not resolve host: min_shingle_size\\ncurl: (6) Could not resolve host: output_unigrams\\ncurl: (3) [globbing] unmatched close brace/bracket in column 1\\ncurl: (3) [globbing] unmatched close brace/bracket in column 1\\ncurl: (6) Could not resolve host: analyzer\\ncurl: (3) [globbing] unmatched brace in column 1\\ncurl: (6) Could not resolve host: keyword_analyzer\\ncurl: (3) [globbing] unmatched brace in column 1\\ncurl: (6) Could not resolve host: filter\\ncurl: (3) [globbing] bad range specification in column 2\\ncurl: (6) Could not resolve host: lowercase,\\ncurl: (6) Could not resolve host: alphabets_char_filter,\\ncurl: (6) Could not resolve host: trim,\\ncurl: (6) Could not resolve host: english_poss_stemmer\\ncurl: (3) [globbing] unmatched close brace/bracket in column 1\\ncurl: (6) Could not resolve host: tokenizer\\ncurl: (6) Could not resolve host: standard\\ncurl: (3) [globbing] unmatched close brace/bracket in column 1\\ncurl: (6) Could not resolve host: autocomplete\\ncurl: (3) [globbing] unmatched brace in column 1\\ncurl: (6) Could not resolve host: filter\\ncurl: (3) [globbing] bad range specification in column 2\\ncurl: (6) Could not resolve host: lowercase,\\ncurl: (6) Could not resolve host: word_joiner,\\ncurl: (6) Could not resolve host: autocomplete_flter\\ncurl: (3) [globbing] unmatched close brace/bracket in column 1\\ncurl: (6) Could not resolve host: type\\ncurl: (6) Could not resolve host: custom,\\ncurl: (6) Could not resolve host: tokenizer\\ncurl: (6) Could not resolve host: my_tokenizer\\ncurl: (3) [globbing] unmatched close brace/bracket in column 1\\ncurl: (6) Could not resolve host: edge_ngram_analyzer\\ncurl: (3) [globbing] unmatched brace in column 1\\ncurl: (6) Could not resolve host: filter\\ncurl: (3) [globbing] bad range specification in column 2\\ncurl: (6) Could not resolve host: lowercase,\\ncurl: (6) Could not resolve host: alphabets_char_filter,\\ncurl: (6) Could not resolve host: trim,\\ncurl: (6) Could not resolve host: english_poss_stemmer,\\ncurl: (6) Could not resolve host: edge_ngram\\ncurl: (3) [globbing] unmatched close brace/bracket in column 1\\ncurl: (6) Could not resolve host: tokenizer\\ncurl: (6) Could not resolve host: standard\\ncurl: (3) [globbing] unmatched close brace/bracket in column 1\\ncurl: (3) [globbing] unmatched brace in column 18\\ncurl: (6) Could not resolve host: tokenizer\\ncurl: (3) [globbing] bad range in column 9\\ncurl: (6) Could not resolve host: lowercase,\\ncurl: (6) Could not resolve host: stop,\\ncurl: (3) [globbing] unmatched close brace/bracket in column 15\\ncurl: (3) [globbing] unmatched close brace/bracket in column 1\\ncurl: (6) Could not resolve host: english_analyzer\\ncurl: (3) [globbing] unmatched brace in column 1\\ncurl: (6) Could not resolve host: type\\ncurl: (6) Could not resolve host: standard,\\ncurl: (6) Could not resolve host: stopwords\\ncurl: (6) Could not resolve host: _english_\\ncurl: (3) [globbing] unmatched close brace/bracket in column 1\\ncurl: (3) [globbing] unmatched close brace/bracket in column 1\\ncurl: (6) Could not resolve host: tokenizer\\ncurl: (3) [globbing] unmatched brace in column 1\\ncurl: (6) Could not resolve host: my_tokenizer\\ncurl: (3) [globbing] unmatched brace in column 1\\ncurl: (6) Could not resolve host: pattern\\ncurl: (6) Could not resolve host: ;,\\ncurl: (6) Could not resolve host: type\\ncurl: (6) Could not resolve host: pattern\\ncurl: (3) [globbing] unmatched close brace/bracket in column 1\\ncurl: (3) [globbing] unmatched close brace/bracket in column 1\\ncurl: (3) [globbing] unmatched close brace/bracket in column 1\\ncurl: (3) [globbing] unmatched close brace/bracket in column 1\\ncurl: (6) Could not resolve host: mappings\\ncurl: (3) [globbing] unmatched brace in column 1\\ncurl: (6) Could not resolve host: documents\\ncurl: (3) [globbing] unmatched brace in column 1\\ncurl: (6) Could not resolve host: properties\\ncurl: (3) [globbing] unmatched brace in column 1\\ncurl: (6) Could not resolve host: date\\ncurl: (3) [globbing] unmatched brace in column 1\\ncurl: (6) Could not resolve host: type\\ncurl: (6) Could not resolve host: text,\\ncurl: (6) Could not resolve host: fields\\ncurl: (3) [globbing] unmatched brace in column 1\\ncurl: (6) Could not resolve host: keyword\\ncurl: (3) [globbing] unmatched brace in column 1\\ncurl: (6) Could not resolve host: type\\ncurl: (6) Could not resolve host: keyword,\\ncurl: (6) Could not resolve host: ignore_above\\ncurl: (7) Could not resolve host: ignore_above\\ncurl: (3) [globbing] unmatched close brace/bracket in column 1\\ncurl: (3) [globbing] unmatched close brace/bracket in column 1\\ncurl: (3) [globbing] unmatched close brace/bracket in column 1\\ncurl: (6) Could not resolve host: documentType\\ncurl: (3) [globbing] unmatched brace in column 1\\ncurl: (6) Could not resolve host: type\\ncurl: (6) Could not resolve host: text,\\ncurl: (6) Could not resolve host: fields\\ncurl: (3) [globbing] unmatched brace in column 1\\ncurl: (6) Could not resolve host: keyword\\ncurl: (3) [globbing] unmatched brace in column 1\\ncurl: (6) Could not resolve host: type\\ncurl: (6) Could not resolve host: keyword,\\ncurl: (6) Could not resolve host: ignore_above\\ncurl: (7) Could not resolve host: ignore_above\\ncurl: (3) [globbing] unmatched close brace/bracket in column 1\\ncurl: (3) [globbing] unmatched close brace/bracket in column 1\\ncurl: (3) [globbing] unmatched close brace/bracket in column 1\\ncurl: (6) Could not resolve host: id\\ncurl: (3) [globbing] unmatched brace in column 1\\ncurl: (6) Could not resolve host: type\\ncurl: (6) Could not resolve host: text,\\ncurl: (6) Could not resolve host: fields\\ncurl: (3) [globbing] unmatched brace in column 1\\ncurl: (6) Could not resolve host: keyword\\ncurl: (3) [globbing] unmatched brace in column 1\\ncurl: (6) Could not resolve host: type\\ncurl: (6) Could not resolve host: keyword,\\ncurl: (6) Could not resolve host: ignore_above\\ncurl: (7) Could not resolve host: ignore_above\\ncurl: (3) [globbing] unmatched close brace/bracket in column 1\\ncurl: (3) [globbing] unmatched close brace/bracket in column 1\\ncurl: (3) [globbing] unmatched close brace/bracket in column 1\\ncurl: (6) Could not resolve host: organizations\\ncurl: (3) [globbing] unmatched brace in column 1\\ncurl: (6) Could not resolve host: type\\ncurl: (6) Could not resolve host: text,\\ncurl: (6) Could not resolve host: fields\\ncurl: (3) [globbing] unmatched brace in column 1\\ncurl: (6) Could not resolve host: keyword\\ncurl: (3) [globbing] unmatched brace in column 1\\ncurl: (6) Could not resolve host: type\\ncurl: (6) Could not resolve host: keyword,\\ncurl: (6) Could not resolve host: ignore_above\\ncurl: (7) Could not resolve host: ignore_above\\ncurl: (3) [globbing] unmatched close brace/bracket in column 1\\ncurl: (3) [globbing] unmatched close brace/bracket in column 1\\ncurl: (3) [globbing] unmatched close brace/bracket in column 1\\ncurl: (6) Could not resolve host: scientists\\ncurl: (3) [globbing] unmatched brace in column 1\\ncurl: (6) Could not resolve host: type\\ncurl: (6) Could not resolve host: text,\\ncurl: (6) Could not resolve host: fields\\ncurl: (3) [globbing] unmatched brace in column 1\\ncurl: (6) Could not resolve host: scientists_search\\ncurl: (3) [globbing] unmatched brace in column 1\\ncurl: (6) Could not resolve host: type\\ncurl: (6) Could not resolve host: \\ncurl: (6) Could not resolve host: text,\\ncurl: (6) Could not resolve host: search_analyzer\\ncurl: (6) Could not resolve host: keyword_analyzer,\\ncurl: (6) Could not resolve host: analyzer\\ncurl: (6) Could not resolve host: edge_ngram_analyzer\\ncurl: (3) [globbing] unmatched close brace/bracket in column 1\\ncurl: (6) Could not resolve host: keyword\\ncurl: (3) [globbing] unmatched brace in column 1\\ncurl: (6) Could not resolve host: type\\ncurl: (6) Could not resolve host: keyword,\\ncurl: (6) Could not resolve host: ignore_above\\ncurl: (7) Could not resolve host: ignore_above\\ncurl: (3) [globbing] unmatched close brace/bracket in column 1\\ncurl: (3) [globbing] unmatched close brace/bracket in column 1\\ncurl: (6) Could not resolve host: search_analyzer\\ncurl: (6) Could not resolve host: keyword_analyzer,\\ncurl: (6) Could not resolve host: analyzer\\ncurl: (6) Could not resolve host: edge_ngram_analyzer\\ncurl: (3) [globbing] unmatched close brace/bracket in column 1\\ncurl: (6) Could not resolve host: source\\ncurl: (3) [globbing] unmatched brace in column 1\\ncurl: (6) Could not resolve host: type\\ncurl: (6) Could not resolve host: text,\\ncurl: (6) Could not resolve host: fields\\ncurl: (3) [globbing] unmatched brace in column 1\\ncurl: (6) Could not resolve host: keyword\\ncurl: (3) [globbing] unmatched brace in column 1\\ncurl: (6) Could not resolve host: type\\ncurl: (6) Could not resolve host: keyword,\\ncurl: (6) Could not resolve host: ignore_above\\ncurl: (7) Could not resolve host: ignore_above\\ncurl: (3) [globbing] unmatched close brace/bracket in column 1\\ncurl: (3) [globbing] unmatched close brace/bracket in column 1\\ncurl: (3) [globbing] unmatched close brace/bracket in column 1\\ncurl: (6) Could not resolve host: sourceID\\ncurl: (3) [globbing] unmatched brace in column 1\\ncurl: (6) Could not resolve host: type\\ncurl: (6) Could not resolve host: text,\\ncurl: (6) Could not resolve host: fields\\ncurl: (3) [globbing] unmatched brace in column 1\\ncurl: (6) Could not resolve host: keyword\\ncurl: (3) [globbing] unmatched brace in column 1\\ncurl: (6) Could not resolve host: type\\ncurl: (6) Could not resolve host: keyword,\\ncurl: (6) Could not resolve host: ignore_above\\ncurl: (7) Could not resolve host: ignore_above\\ncurl: (3) [globbing] unmatched close brace/bracket in column 1\\ncurl: (3) [globbing] unmatched close brace/bracket in column 1\\ncurl: (3) [globbing] unmatched close brace/bracket in column 1\\ncurl: (6) Could not resolve host: summary\\ncurl: (3) [globbing] unmatched brace in column 1\\ncurl: (6) Could not resolve host: type\\ncurl: (6) Could not resolve host: text,\\ncurl: (6) Could not resolve host: fields\\ncurl: (3) [globbing] unmatched brace in column 1\\ncurl: (6) Could not resolve host: summary_search\\ncurl: (6) Could not resolve host: \\ncurl: (3) [globbing] unmatched brace in column 1\\ncurl: (6) Could not resolve host: type\\ncurl: (6) Could not resolve host: \\ncurl: (6) Could not resolve host: text,\\ncurl: (6) Could not resolve host: analyzer\\ncurl: (6) Could not resolve host: analyzer_shingle,\\ncurl: (6) Could not resolve host: search_analyzer\\ncurl: (3) [globbing] unmatched close brace/bracket in column 1\\ncurl: (6) Could not resolve host: summary_text\\ncurl: (6) Could not resolve host: \\ncurl: (3) [globbing] unmatched brace in column 1\\ncurl: (6) Could not resolve host: type\\ncurl: (6) Could not resolve host: text,\\ncurl: (6) Could not resolve host: analyzer\\ncurl: (6) Could not resolve host: english_analyzer\\ncurl: (3) [globbing] unmatched close brace/bracket in column 1\\ncurl: (6) Could not resolve host: keyword\\ncurl: (3) [globbing] unmatched brace in column 1\\ncurl: (6) Could not resolve host: type\\ncurl: (6) Could not resolve host: keyword,\\ncurl: (6) Could not resolve host: ignore_above\\ncurl: (7) Could not resolve host: ignore_above\\ncurl: (3) [globbing] unmatched close brace/bracket in column 1\\ncurl: (3) [globbing] unmatched close brace/bracket in column 1\\ncurl: (3) [globbing] unmatched close brace/bracket in column 1\\n\\r  0     0    0     0    0     0      0      0 --:--:-- --:--:-- --:--:--     0curl: (6) Could not resolve host: text\\ncurl: (3) [globbing] unmatched brace in column 1\\ncurl: (6) Could not resolve host: type\\ncurl: (6) Could not resolve host: text,\\ncurl: (6) Could not resolve host: analyzer\\ncurl: (6) Could not resolve host: english_analyzer,\\ncurl: (6) Could not resolve host: fields\\ncurl: (3) [globbing] unmatched brace in column 1\\ncurl: (6) Could not resolve host: keyword\\ncurl: (3) [globbing] unmatched brace in column 1\\ncurl: (6) Could not resolve host: type\\ncurl: (6) Could not resolve host: keyword,\\ncurl: (6) Could not resolve host: ignore_above\\ncurl: (7) Could not resolve host: ignore_above\\ncurl: (3) [globbing] unmatched close brace/bracket in column 1\\ncurl: (3) [globbing] unmatched close brace/bracket in column 1\\ncurl: (3) [globbing] unmatched close brace/bracket in column 1\\ncurl: (6) Could not resolve host: title\\ncurl: (3) [globbing] unmatched brace in column 1\\ncurl: (6) Could not resolve host: type\\ncurl: (6) Could not resolve host: text,\\ncurl: (6) Could not resolve host: fields\\ncurl: (3) [globbing] unmatched brace in column 1\\ncurl: (6) Could not resolve host: title_search\\ncurl: (6) Could not resolve host: \\ncurl: (3) [globbing] unmatched brace in column 1\\ncurl: (6) Could not resolve host: type\\ncurl: (6) Could not resolve host: \\ncurl: (6) Could not resolve host: text,\\ncurl: (6) Could not resolve host: analyzer\\ncurl: (6) Could not resolve host: analyzer_shingle,\\ncurl: (6) Could not resolve host: search_analyzer\\ncurl: (3) [globbing] unmatched close brace/bracket in column 1\\ncurl: (6) Could not resolve host: title_text\\ncurl: (6) Could not resolve host: \\ncurl: (3) [globbing] unmatched brace in column 1\\ncurl: (6) Could not resolve host: type\\ncurl: (6) Could not resolve host: text,\\ncurl: (6) Could not resolve host: analyzer\\ncurl: (6) Could not resolve host: english_analyzer\\ncurl: (3) [globbing] unmatched close brace/bracket in column 1\\ncurl: (6) Could not resolve host: keyword\\ncurl: (3) [globbing] unmatched brace in column 1\\ncurl: (6) Could not resolve host: type\\ncurl: (6) Could not resolve host: keyword,\\ncurl: (6) Could not resolve host: ignore_above\\ncurl: (7) Could not resolve host: ignore_above\\ncurl: (3) [globbing] unmatched close brace/bracket in column 1\\ncurl: (3) [globbing] unmatched close brace/bracket in column 1\\ncurl: (3) [globbing] unmatched close brace/bracket in column 1\\ncurl: (6) Could not resolve host: topicNorm\\ncurl: (3) [globbing] unmatched brace in column 1\\ncurl: (6) Could not resolve host: type\\ncurl: (6) Could not resolve host: float\\ncurl: (3) [globbing] unmatched close brace/bracket in column 1\\ncurl: (6) Could not resolve host: venue\\ncurl: (3) [globbing] unmatched brace in column 1\\ncurl: (6) Could not resolve host: type\\ncurl: (6) Could not resolve host: text,\\ncurl: (6) Could not resolve host: fields\\ncurl: (3) [globbing] unmatched brace in column 1\\ncurl: (6) Could not resolve host: keyword\\ncurl: (3) [globbing] unmatched brace in column 1\\ncurl: (6) Could not resolve host: type\\ncurl: (6) Could not resolve host: keyword,\\ncurl: (6) Could not resolve host: ignore_above\\ncurl: (7) Could not resolve host: ignore_above\\ncurl: (3) [globbing] unmatched close brace/bracket in column 1\\ncurl: (3) [globbing] unmatched close brace/bracket in column 1\\ncurl: (3) [globbing] unmatched close brace/bracket in column 1\\ncurl: (3) [globbing] unmatched close brace/bracket in column 1\\ncurl: (3) [globbing] unmatched close brace/bracket in column 1\\ncurl: (3) [globbing] unmatched close brace/bracket in column 1\\n'\n"
     ]
    }
   ],
   "source": [
    "logging.info(\"Create index result : \\n\",out)\n",
    "print(\"Create index result : \\n\",out)\n",
    "logging.info(\"\\n\\n\\nCreate index error : \\n\",err)\n",
    "print(\"\\n\\n\\nCreate index error : \\n\",err)"
   ]
  },
  {
   "cell_type": "code",
   "execution_count": 8,
   "metadata": {},
   "outputs": [],
   "source": [
    "import os\n",
    "import findspark\n",
    "findspark.init('/opt/cloudera/parcels/SPARK2-2.3.0.cloudera3-1.cdh5.13.3.p0.458809/lib/spark2/')\n",
    "import pyspark\n",
    "from pyspark.sql import functions\n",
    "from pyspark.sql import SparkSession\n",
    "from pyspark import SparkContext\n",
    "from pyspark.sql import SQLContext\n",
    "import scipy.sparse\n",
    "import logging\n",
    "from pyspark.ml.linalg import Vectors, _convert_to_vector, VectorUDT\n",
    "from pyspark.sql.functions import udf, col\n",
    "from pyspark.sql.functions import unix_timestamp\n",
    "from pyspark.sql.functions import from_unixtime\n",
    "from pyspark.sql.functions import coalesce, to_date\n",
    "from pyspark.sql import functions as F\n",
    "from pyspark.sql.functions import coalesce, to_date\n",
    "import numpy as np\n",
    "import json"
   ]
  },
  {
   "cell_type": "code",
   "execution_count": 9,
   "metadata": {},
   "outputs": [],
   "source": [
    "def create_session():\n",
    "    spark = SparkSession.builder.config(\"spark.executor.instances\", '5')        .config(\"spark.executor.memory\", '40g')        .config('spark.executor.cores', '9')        .config('spark.cores.max', '9')        .config('spark.jars', '/home/eileen/nsf_data_ingestion/libraries/elasticsearch-hadoop-6.7.1.jar')        .appName('kimun_loader')        .getOrCreate()\n",
    "    return spark"
   ]
  },
  {
   "cell_type": "code",
   "execution_count": 10,
   "metadata": {},
   "outputs": [],
   "source": [
    "def parse(tup):\n",
    "    d = {}\n",
    "    d['id']=tup['id']\n",
    "    d['city']=tup['city']\n",
    "    d['country'] = tup['country']\n",
    "    d['date'] = tup['date']\n",
    "    d['documentType'] = tup['type']\n",
    "    d['endDate'] = tup['end_date']\n",
    "    d['organizations'] = tup['organizations']\n",
    "    d['otherID'] = tup['other_id']\n",
    "    d['scientists'] = tup['scientists']\n",
    "    d['sourceID'] = tup['source_id']\n",
    "    d['summary'] = tup['abstract']\n",
    "    d['text'] = tup['content']\n",
    "    d['title'] = tup['title']\n",
    "    d['venue']=tup['venue']\n",
    "#     d['topicNorm'] = list(tup['topic'])\n",
    "    return (d['id'], json.dumps(d))"
   ]
  },
  {
   "cell_type": "code",
   "execution_count": 11,
   "metadata": {},
   "outputs": [],
   "source": [
    "def dense_to_sparse(vector):\n",
    "    sparse = _convert_to_vector(scipy.sparse.csc_matrix(vector.toArray()).T)\n",
    "    #matrix = np.array(sparse.toArray()).as_matrix().reshape(-1,1)\n",
    "    return sparse"
   ]
  },
  {
   "cell_type": "code",
   "execution_count": 16,
   "metadata": {},
   "outputs": [],
   "source": [
    "def elastic_push(result):\n",
    "    es_write_conf = {\n",
    "            \"es.nodes\" : \"128.230.247.186\",\n",
    "            \"es.port\" : \"9201\",\n",
    "            \"es.resource\" : 'kimun_version5/documents',\n",
    "            \"es.input.json\": \"yes\",\n",
    "            \"es.mapping.id\": \"id\",\n",
    "            \"es.batch.size.entries\": \"5000\",\n",
    "            \"es.batch.write.retry.wait\": \"3000\",\n",
    "            \"es.index.read.missing.as.empty\": True\n",
    "        }\n",
    "    result.saveAsNewAPIHadoopFile(\n",
    "            path='-',\n",
    "            outputFormatClass=\"org.elasticsearch.hadoop.mr.EsOutputFormat\", keyClass=\"org.apache.hadoop.io.NullWritable\",\n",
    "            valueClass=\"org.elasticsearch.hadoop.mr.LinkedMapWritable\",\n",
    "            conf=es_write_conf)\n"
   ]
  },
  {
   "cell_type": "code",
   "execution_count": 17,
   "metadata": {},
   "outputs": [],
   "source": [
    "def to_date_(col, formats=(\"MM/dd/yyyy\", \"yyyy\")):\n",
    "    # Spark 2.2 or later syntax, for < 2.2 use unix_timestamp and cast\n",
    "    return coalesce(*[to_date(col, f) for f in formats])"
   ]
  },
  {
   "cell_type": "code",
   "execution_count": 18,
   "metadata": {},
   "outputs": [],
   "source": [
    "def kimun_load():\n",
    "    logging.info(\" this is kimun loading start\")\n",
    "    spark = create_session()\n",
    "    sqlContext = SQLContext(spark.sparkContext)\n",
    "    topic_df = sqlContext.read.parquet('/user/eileen/tfidf.parquet/')\n",
    "    #new date formatting\n",
    "    topic_df.date = topic_df.select('date', from_unixtime(unix_timestamp('date', 'yyy')).alias('date'))\n",
    "    split_col = pyspark.sql.functions.split(topic_df['date'], '-')\n",
    "    topic_df = topic_df.withColumn('date', split_col.getItem(0))\n",
    "    topic_df = topic_df.withColumn(\"formatted_date\", to_date_(\"date\"))\n",
    "    topic_df.formatted_date =                          topic_df.select('formatted_date',from_unixtime(unix_timestamp('formatted_date','yyy')).alias('formatted_date'))\n",
    "    split_col = pyspark.sql.functions.split(topic_df['formatted_date'], '-')\n",
    "    topic_df = topic_df.withColumn('formatted_date', split_col.getItem(0))\n",
    "    topic_df.date = topic_df.select(topic_df.formatted_date).alias('date')\n",
    "    columns = topic_df.columns\n",
    "    topic_df = topic_df.drop('date')\n",
    "    topic_df = topic_df.withColumnRenamed('formatted_date', 'date')\n",
    "    topic_df =             topic_df             .withColumn(\"title\", F.regexp_replace(F.regexp_replace(F.regexp_replace(\"title\", \"\\\\]\\\\[\", \"\"), \"\\\\[\",\"\"),\"\\\\]\",\"\"))\n",
    "    topic_df = topic_df.withColumn(\"abstract\", F.regexp_replace(F.regexp_replace(F.regexp_replace                                                                          (\"abstract\", \"\\\\]\\\\[\", \"\"), \"\\\\[\", \"\"), \"\\\\]\", \"\"))\n",
    "    columns = topic_df.columns\n",
    "    val2 = topic_df.select(columns).groupBy(['title', 'scientists', 'venue']).agg(F.min('date'))\n",
    "    val2 = val2.withColumnRenamed('min(date)', 'date')\n",
    "    val3 = val2.join(topic_df, ['title', 'scientists', 'venue', 'date'])\n",
    "    val3 = val3.withColumn(\"date\", val3[\"date\"].cast(\"int\"))\n",
    "    val3 = val3.withColumn(\"date\", val3[\"date\"].cast(\"string\"))\n",
    "    #date formatting end\n",
    "    sc = spark.sparkContext\n",
    "    print(\"before conf \")\n",
    "    es_write_conf = {\n",
    "            \"es.nodes\" : \"128.230.247.186\",\\\n",
    "            \"es.port\" : \"9201\",\\\n",
    "            \"es.resource\" : 'kimun_version5/documents',\\\n",
    "            \"es.input.json\": \"yes\",\\\n",
    "            \"es.mapping.id\": \"id\",\\\n",
    "            \"es.batch.size.entries\": \"5000\",\\\n",
    "            \"es.batch.write.retry.wait\": \"3000\"\n",
    "        }\n",
    "\n",
    "\n",
    "    rdd = sc.newAPIHadoopRDD(\"org.elasticsearch.hadoop.mr.EsInputFormat\", \"org.apache.hadoop.io.NullWritable\", \"org.elasticsearch.hadoop.mr.LinkedMapWritable\", conf=es_write_conf)\n",
    "    topic_rdd = val3.rdd\n",
    "    result = topic_rdd.map(parse)\n",
    "    result = result.repartition(1)\n",
    "    print(\"after repartition\")\n",
    "\n",
    "\n",
    "    result.saveAsNewAPIHadoopFile(        path='-',        outputFormatClass=\"org.elasticsearch.hadoop.mr.EsOutputFormat\", keyClass=\"org.apache.hadoop.io.NullWritable\",        valueClass=\"org.elasticsearch.hadoop.mr.LinkedMapWritable\",        conf=es_write_conf)\n",
    "\n",
    "    logging.info(\"Data Loaded in Elastic Search check kibana index count\")\n",
    "    spark.stop()\n",
    "\n"
   ]
  },
  {
   "cell_type": "code",
   "execution_count": null,
   "metadata": {},
   "outputs": [],
   "source": []
  }
 ],
 "metadata": {
  "kernelspec": {
   "display_name": "Python 3",
   "language": "python",
   "name": "python3"
  },
  "language_info": {
   "codemirror_mode": {
    "name": "ipython",
    "version": 3
   },
   "file_extension": ".py",
   "mimetype": "text/x-python",
   "name": "python",
   "nbconvert_exporter": "python",
   "pygments_lexer": "ipython3",
   "version": "3.7.3"
  }
 },
 "nbformat": 4,
 "nbformat_minor": 2
}
