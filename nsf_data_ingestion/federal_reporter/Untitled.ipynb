{
 "cells": [
  {
   "cell_type": "code",
   "execution_count": 1,
   "metadata": {},
   "outputs": [],
   "source": [
    "import sys\n",
    "sys.path.append('/home/ananth/nsf_data_ingestion/')\n",
    "from nsf_data_ingestion.config import spark_config\n",
    "from nsf_data_ingestion.config.spark_config import *\n",
    "from pyspark.sql import SparkSession"
   ]
  },
  {
   "cell_type": "code",
   "execution_count": 5,
   "metadata": {},
   "outputs": [
    {
     "name": "stderr",
     "output_type": "stream",
     "text": [
      "INFO:root:Creating Spark Session....\n",
      "INFO:root:Adding Libraries/home/ananth/nsf_data_ingestion/libraries/pubmed_parser_lib.zip\n",
      "INFO:root:Adding Libraries/home/ananth/nsf_data_ingestion/libraries/unidecode_lib.zip\n"
     ]
    },
    {
     "name": "stdout",
     "output_type": "stream",
     "text": [
      "Reading from /user/ananth/medline/medline_data/ and writing to /user/ananth/medline/parquet/.\n",
      "+--------+-----------+-----------+-------------+------+--------------------+------------+-------+--------+--------------------+----------+-------------+--------+----------+--------+-------+--------------------+\n",
      "|abstract|affiliation|     author|      country|delete|           file_name|issn_linking|journal|keywords|          medline_ta|mesh_terms|nlm_unique_id|other_id|       pmc|    pmid|pubdate|               title|\n",
      "+--------+-----------+-----------+-------------+------+--------------------+------------+-------+--------+--------------------+----------+-------------+--------+----------+--------+-------+--------------------+\n",
      "|        |           |JS Hildreth|United States| false|medline16n0001.xm...|   0065-9533|       |        |Trans Am Ophthalm...|          |      7506106|        |PMC1361495|16691646|   1865|Statement of Case...|\n",
      "|        |           |BJ Jeffries|United States| false|medline16n0001.xm...|   0065-9533|       |        |Trans Am Ophthalm...|          |      7506106|        |PMC1361494|16691647|   1865|Report on the Pro...|\n",
      "|        |           |   HD Noyes|United States| false|medline16n0001.xm...|   0065-9533|       |        |Trans Am Ophthalm...|          |      7506106|        |PMC1361498|16691648|   1865|SPECIALTIES IN ME...|\n",
      "|        |           |   CM Allin|United States| false|medline16n0001.xm...|   0065-9533|       |        |Trans Am Ophthalm...|          |      7506106|        |PMC1361371|16691649|   1866|Case of Sudden Mo...|\n",
      "|        |           |     E Dyer|United States| false|medline16n0001.xm...|   0065-9533|       |        |Trans Am Ophthalm...|          |      7506106|        |PMC1361372|16691650|   1866|Fracture of the L...|\n",
      "|        |           |JG Hildreth|United States| false|medline16n0001.xm...|   0065-9533|       |        |Trans Am Ophthalm...|          |      7506106|        |PMC1361373|16691651|   1866|Extracts from Obs...|\n",
      "|        |           |   HB Sands|United States| false|medline16n0001.xm...|   0065-9533|       |        |Trans Am Ophthalm...|          |      7506106|        |PMC1361370|16691652|   1866|Sudden Monocular ...|\n",
      "|        |           |      G Hay|United States| false|medline16n0001.xm...|   0065-9533|       |        |Trans Am Ophthalm...|          |      7506106|        |PMC1361374|16691653|   1866|Refraction of a S...|\n",
      "|        |           |    H Derby|United States| false|medline16n0001.xm...|   0065-9533|       |        |Trans Am Ophthalm...|          |      7506106|        |PMC1361375|16691654|   1866|On the Necessity ...|\n",
      "|        |           |   CR Agnew|United States| false|medline16n0001.xm...|   0065-9533|       |        |Trans Am Ophthalm...|          |      7506106|        |PMC1361376|16691655|   1866|A Method of Opera...|\n",
      "|        |           |   HD Noyes|United States| false|medline16n0001.xm...|   0065-9533|       |        |Trans Am Ophthalm...|          |      7506106|        |PMC1361377|16691656|   1866|Amblyopia produce...|\n",
      "|        |           |      Noyes|United States| false|medline16n0001.xm...|   0065-9533|       |        |Trans Am Ophthalm...|          |      7506106|        |PMC1361378|16691657|   1866|Cases of Sub-Reti...|\n",
      "|        |           |BJ Jeffries|United States| false|medline16n0001.xm...|   0065-9533|       |        |Trans Am Ophthalm...|          |      7506106|        |PMC1361379|16691658|   1866|Anatomy and Physi...|\n",
      "|        |           |HW Williams|United States| false|medline16n0001.xm...|   0065-9533|       |        |Trans Am Ophthalm...|          |      7506106|        |PMC1361380|16691659|   1866|Suture of the Fla...|\n",
      "|        |           |   DB Roosa|United States| false|medline16n0001.xm...|   0065-9533|       |        |Trans Am Ophthalm...|          |      7506106|        |PMC1361415|16691660|   1869|Vascular Tumor of...|\n",
      "|        |           |    J Green|United States| false|medline16n0001.xm...|   0065-9533|       |        |Trans Am Ophthalm...|          |      7506106|        |PMC1361416|16691661|   1869|Remarks on the us...|\n",
      "|        |           |  EG Loring|United States| false|medline16n0001.xm...|   0065-9533|       |        |Trans Am Ophthalm...|          |      7506106|        |PMC1361417|16691662|   1869|Relative Accommod...|\n",
      "|        |           |BJ Jeffries|United States| false|medline16n0001.xm...|   0065-9533|       |        |Trans Am Ophthalm...|          |      7506106|        |PMC1361418|16691663|   1869|Test Types and th...|\n",
      "|        |           |   DB Roosa|United States| false|medline16n0001.xm...|   0065-9533|       |        |Trans Am Ophthalm...|          |      7506106|        |PMC1361419|16691664|   1869|Monocular Glaucom...|\n",
      "|        |           |  EG Loring|United States| false|medline16n0001.xm...|   0065-9533|       |        |Trans Am Ophthalm...|          |      7506106|        |PMC1361420|16691665|   1869|A Modification of...|\n",
      "+--------+-----------+-----------+-------------+------+--------------------+------------+-------+--------+--------------------+----------+-------------+--------+----------+--------+-------+--------------------+\n",
      "only showing top 20 rows\n",
      "\n"
     ]
    }
   ],
   "source": [
    "spark = SparkSession.builder.getOrCreate()\n",
    "spark.sparkContext.addPyFile('/home/ananth/nsf_data_ingestion/dist/nsf_data_ingestion-0.0.1-py3.6.egg') \n",
    "import nsf_data_ingestion\n",
    "from nsf_data_ingestion.medline import medline_parquet_write\n",
    "medline_parquet_write.cluster_run()"
   ]
  },
  {
   "cell_type": "code",
   "execution_count": null,
   "metadata": {},
   "outputs": [],
   "source": []
  }
 ],
 "metadata": {
  "kernelspec": {
   "display_name": "Python 3",
   "language": "python",
   "name": "python3"
  },
  "language_info": {
   "codemirror_mode": {
    "name": "ipython",
    "version": 3
   },
   "file_extension": ".py",
   "mimetype": "text/x-python",
   "name": "python",
   "nbconvert_exporter": "python",
   "pygments_lexer": "ipython3",
   "version": "3.6.5"
  }
 },
 "nbformat": 4,
 "nbformat_minor": 2
}
