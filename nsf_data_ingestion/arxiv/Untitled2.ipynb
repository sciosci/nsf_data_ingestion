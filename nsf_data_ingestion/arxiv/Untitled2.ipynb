{
 "cells": [
  {
   "cell_type": "code",
   "execution_count": 2,
   "metadata": {},
   "outputs": [
    {
     "name": "stderr",
     "output_type": "stream",
     "text": [
      "/opt/cloudera/parcels/SPARK2-2.3.0.cloudera3-1.cdh5.13.3.p0.458809/lib/spark2/python/pyspark/sql/session.py:360: UserWarning: Using RDD of dict to inferSchema is deprecated. Use pyspark.sql.Row instead\n",
      "  warnings.warn(\"Using RDD of dict to inferSchema is deprecated. \"\n"
     ]
    }
   ],
   "source": [
    "import findspark\n",
    "findspark.init('/opt/cloudera/parcels/SPARK2-2.3.0.cloudera3-1.cdh5.13.3.p0.458809/lib/spark2/')\n",
    "import xml.etree.ElementTree as ET\n",
    "import findspark\n",
    "import os\n",
    "import sys\n",
    "findspark.init()\n",
    "from pyspark.sql import SparkSession\n",
    "\n",
    "\n",
    "def process(file):\n",
    "    \"\"\"\n",
    "    Process an Arvix XML file and generates a dictionary with its contents\n",
    "    :param file: XML file\n",
    "    :return: list of dictionaries with contents\n",
    "    \"\"\"\n",
    "    prefix = \"{http://www.openarchives.org/OAI/2.0/}\"\n",
    "    prefix2 = \"{http://purl.org/dc/elements/1.1/}\"\n",
    "\n",
    "    content = file[1].decode(\"utf-8\")\n",
    "    data = []\n",
    "    try:\n",
    "        root = ET.fromstring(content)\n",
    "        records = root.find(prefix + \"ListRecords\")\n",
    "        for record in records.findall(prefix + \"record\"):\n",
    "            identifier = record[0][0].text\n",
    "            datastamp = record[0][1].text\n",
    "            subjects = []\n",
    "            for subject in record[0].findall(prefix + \"setSpec\"):\n",
    "                subjects.append(subject.text)\n",
    "            if len(subjects) == 0:\n",
    "                subjects.append(\"none\")\n",
    "\n",
    "            dc = record[1][0]\n",
    "            title = dc[0].text\n",
    "            authors = []\n",
    "            for author in dc.findall(prefix2 + \"creator\"):\n",
    "                authors.append(author.text)\n",
    "            abstract = dc.find(prefix2 + \"description\").text\n",
    "\n",
    "            d = {\"id\": identifier, \"datastamp\": datastamp, \"title\": title, \"subjects\": subjects, \"authors\": authors,\n",
    "                 \"abstract\": abstract}\n",
    "            data.append(d)\n",
    "        return data\n",
    "    except:\n",
    "        return data\n",
    "\n",
    "if __name__ == '__main__':\n",
    "    xmlpath = '/user/ananth/arxiv_data/arxiv_data/'\n",
    "    parpath = '/user/ananth/arxiv/parquet/'\n",
    "    spark = SparkSession.builder.getOrCreate()\n",
    "    sc = spark.sparkContext\n",
    "    filep = os.path.join(xmlpath, \"papers_*.xml\")\n",
    "    xmlfiles = sc.binaryFiles(filep)\n",
    "    xmldf = xmlfiles.flatMap(process).toDF()\n",
    "    xmldf.count()\n",
    "    xmldf.write.parquet(parpath)"
   ]
  },
  {
   "cell_type": "code",
   "execution_count": null,
   "metadata": {},
   "outputs": [],
   "source": []
  }
 ],
 "metadata": {
  "kernelspec": {
   "display_name": "Python 3",
   "language": "python",
   "name": "python3"
  },
  "language_info": {
   "codemirror_mode": {
    "name": "ipython",
    "version": 3
   },
   "file_extension": ".py",
   "mimetype": "text/x-python",
   "name": "python",
   "nbconvert_exporter": "python",
   "pygments_lexer": "ipython3",
   "version": "3.6.5"
  }
 },
 "nbformat": 4,
 "nbformat_minor": 2
}
