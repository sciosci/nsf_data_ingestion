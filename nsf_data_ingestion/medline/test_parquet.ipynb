{
 "cells": [
  {
   "cell_type": "code",
   "execution_count": 1,
   "metadata": {},
   "outputs": [],
   "source": [
    "import findspark\n",
    "findspark.init('/opt/cloudera/parcels/SPARK2-2.4.0.cloudera2-1.cdh5.13.3.p0.1041012/lib/spark2/')\n",
    "import os, findspark\n",
    "os.environ['PYSPARK_PYTHON'] = '/home/tozeng/anaconda3/bin/python'\n",
    "os.environ['PYSPARK_DRIVER_PYTHON'] = '/home/tozeng/anaconda3/bin/python'\n",
    "import sys\n",
    "sys.path.append('/home/eileen/nsf_data_ingestion/')\n",
    "import zipfile\n",
    "import zipimport\n",
    "import io\n",
    "import logging\n",
    "logging.getLogger().setLevel(logging.INFO)\n",
    "from pyspark.sql import functions\n",
    "from pyspark.sql import SparkSession\n",
    "from pyspark import SparkContext\n",
    "from pyspark.sql import Row\n",
    "from pyspark.sql import Window\n",
    "from pyspark.sql.functions import rank, max, sum, desc\n",
    "import zlib\n",
    "import importlib\n",
    "import os\n",
    "from os import path\n",
    "from shutil import copyfile\n",
    "from shutil import rmtree\n",
    "from subprocess import call\n",
    "import pubmed_parser as pp\n",
    "from nsf_data_ingestion.config import spark_config\n",
    "from nsf_data_ingestion.objects import data_source_params\n",
    "\n"
   ]
  },
  {
   "cell_type": "code",
   "execution_count": 7,
   "metadata": {},
   "outputs": [
    {
     "output_type": "stream",
     "name": "stderr",
     "text": [
      "INFO:root:Creating Spark Session....\n"
     ]
    }
   ],
   "source": [
    "def create_session():\n",
    "    logging.info('Creating Spark Session....')\n",
    "    spark = SparkSession.builder.config(\"spark.executor.instances\", spark_config.exec_instance).\\\n",
    "                                 config(\"spark.executor.memory\", spark_config.exec_mem).\\\n",
    "                                 config('spark.executor.cores', spark_config.exec_cores).\\\n",
    "                                 config('spark.cores.max', spark_config.exec_max_cores).\\\n",
    "                                 config('spark.jars', '/home/eileen/nsf_data_ingestion/libraries/spark-xml_2.11-0.5.0.jar').\\\n",
    "                                 appName('medline_parquet_test').getOrCreate()\n",
    "    spark.sparkContext.addPyFile('/home/eileen/nsf_data_ingestion/libraries/pubmed_parser-0.1.0-py3.6.egg')\n",
    "    spark.sparkContext.addPyFile('/home/eileen/nsf_data_ingestion/libraries/Unidecode-1.1.1-py3.6.egg')\n",
    "#         logging.info('Adding Libraries' + str(library))\n",
    "#         spark.sparkContext.addPyFile(library)    # adding libraries\n",
    "#         spark.sparkContext.addPyFile(library)\n",
    "\n",
    "        \n",
    "    return spark\n",
    "spark = create_session()\n",
    "sc = spark.sparkContext\n",
    "\n",
    "def parse_gzip_medline_str(gzip_str):\n",
    "    import pubmed_parser as pp\n",
    "    import unidecode\n",
    "    \n",
    "    filepath = gzip_str[0]\n",
    "    xml_string = gzip_str[1]\n",
    "    _, file_name = path.split(filepath)\n",
    "\n",
    "    articles = pp.parse_medline_xml(xml_string)\n",
    "    return [Row(file_name=file_name, **article_dict)\n",
    "            for article_dict in articles]\n"
   ]
  },
  {
   "cell_type": "code",
   "execution_count": 4,
   "metadata": {
    "scrolled": false
   },
   "outputs": [
    {
     "output_type": "stream",
     "name": "stdout",
     "text": [
      "Found 9 items\n-rw-r--r--   1 eileen eileen   19679504 2021-04-05 18:02 test/test/pubmed21n0001.xml.gz\n-rw-r--r--   1 eileen eileen   17730921 2021-04-05 18:02 test/test/pubmed21n0002.xml.gz\n-rw-r--r--   1 eileen eileen   16411857 2021-04-05 18:02 test/test/pubmed21n0003.xml.gz\n-rw-r--r--   1 eileen eileen   18077954 2021-04-05 18:02 test/test/pubmed21n0004.xml.gz\n-rw-r--r--   1 eileen eileen   17380728 2021-04-05 18:02 test/test/pubmed21n0005.xml.gz\n-rw-r--r--   1 eileen eileen   20394644 2021-04-05 18:02 test/test/pubmed21n0006.xml.gz\n-rw-r--r--   1 eileen eileen   20479714 2021-04-05 18:02 test/test/pubmed21n0007.xml.gz\n-rw-r--r--   1 eileen eileen   19611972 2021-04-05 18:02 test/test/pubmed21n0008.xml.gz\n-rw-r--r--   1 eileen eileen    9127378 2021-04-05 18:02 test/test/pubmed21n0009.xml.gz\n"
     ]
    }
   ],
   "source": [
    "!hdfs dfs -ls test/test"
   ]
  },
  {
   "cell_type": "code",
   "execution_count": 10,
   "metadata": {},
   "outputs": [],
   "source": [
    "docs = sc.wholeTextFiles('test/test/pubmed21n0001.xml.gz').repartition(1000)\n",
    "dicts = docs.flatMap(parse_gzip_medline_str)\n",
    "medline_df = dicts.toDF()"
   ]
  },
  {
   "cell_type": "code",
   "execution_count": 12,
   "metadata": {},
   "outputs": [
    {
     "output_type": "stream",
     "name": "stdout",
     "text": [
      "+--------+-----------+--------------------+-------------+------+--------------------+------------+-------+--------+--------------------+--------------------+-------------+--------+---+----+-------+--------------------+\n|abstract|affiliation|              author|      country|delete|           file_name|issn_linking|journal|keywords|          medline_ta|          mesh_terms|nlm_unique_id|other_id|pmc|pmid|pubdate|               title|\n+--------+-----------+--------------------+-------------+------+--------------------+------------+-------+--------+--------------------+--------------------+-------------+--------+---+----+-------+--------------------+\n|        |           |AB Makar; KE McMa...|United States| false|pubmed21n0001.xml.gz|   0006-2944|       |        |         Biochem Med|D000445:Aldehyde ...|      0151424|        |   |   1|   1975|Formate assay in ...|\n|        |           |   KS Bose; RH Sarma|United States| false|pubmed21n0001.xml.gz|   0006-291X|       |        |Biochem Biophys R...|D005583:Fourier A...|      0372516|        |   |   2|   1975|Delineation of th...|\n|        |           | RJ Smith; RG Bryant|United States| false|pubmed21n0001.xml.gz|   0006-291X|       |        |Biochem Biophys R...|D000818:Animals; ...|      0372516|        |   |   3|   1975|Metal substitutio...|\n|        |           |UN Wiesmann; S Di...|United States| false|pubmed21n0001.xml.gz|   0006-291X|       |        |Biochem Biophys R...|D001692:Biologica...|      0372516|        |   |   4|   1975|Effect of chloroq...|\n|        |           |WA Hendrickson; K...|United States| false|pubmed21n0001.xml.gz|   0006-291X|       |        |Biochem Biophys R...|D000818:Animals; ...|      0372516|        |   |   5|   1975|Atomic models for...|\n|        |           |YW Chow; R Pietra...|United States| false|pubmed21n0001.xml.gz|   0006-291X|       |        |Biochem Biophys R...|D001665:Binding S...|      0372516|        |   |   6|   1975|Studies of oxygen...|\n|        |           |TR Anderson; TA S...|      England| false|pubmed21n0001.xml.gz|   0006-2952|       |        |   Biochem Pharmacol|D000313:Adrenal M...|      0101032|        |   |   7|   1975|Maturation of the...|\n|        |           |     K Moroi; T Sato|      England| false|pubmed21n0001.xml.gz|   0006-2952|       |        |   Biochem Pharmacol|D000581:Amidohydr...|      0101032|        |   |   8|   1975|Comparison betwee...|\n|        |           |J Marniemi; MG Pa...|      England| false|pubmed21n0001.xml.gz|   0006-2952|       |        |   Biochem Pharmacol|D000818:Animals; ...|      0101032|        |   |   9|   1975|Radiochemical ass...|\n|        |           |A Schmoldt; HF Be...|      England| false|pubmed21n0001.xml.gz|   0006-2952|       |        |   Biochem Pharmacol|D000818:Animals; ...|      0101032|        |   |  10|   1975|Digitoxin metabol...|\n|        |           |        RJ Lefkowitz|      England| false|pubmed21n0001.xml.gz|   0006-2952|       |        |   Biochem Pharmacol|D000262:Adenylyl ...|      0101032|        |   |  11|   1975|Identification of...|\n|        |           |            JM Stein|      England| false|pubmed21n0001.xml.gz|   0006-2952|       |        |   Biochem Pharmacol|D000255:Adenosine...|      0101032|        |   |  12|   1975|The effect of adr...|\n|        |           |J Järvisalo; NE S...|      England| false|pubmed21n0001.xml.gz|   0006-2952|       |        |   Biochem Pharmacol|D000251:Adenosine...|      0101032|        |   |  13|   1975|Action of propran...|\n|        |           |VM Bhagwat; BV Ra...|      England| false|pubmed21n0001.xml.gz|   0006-2952|       |        |   Biochem Pharmacol|D000818:Animals; ...|      0101032|        |   |  14|   1975|Malathion A and B...|\n|        |           |N Akamatsu; H Nak...|      England| false|pubmed21n0001.xml.gz|   0006-2952|       |        |   Biochem Pharmacol|D000106:Acetate-C...|      0101032|        |   |  15|   1975|Increase in acety...|\n|        |           |  AJ Turner; PE Hick|      England| false|pubmed21n0001.xml.gz|   0006-2952|       |        |   Biochem Pharmacol|D000445:Aldehyde ...|      0101032|        |   |  16|   1975|Inhibition of ald...|\n|        |           |B Renaud; M Buda;...|      England| false|pubmed21n0001.xml.gz|   0006-2952|       |        |   Biochem Pharmacol|D015115:5,6-Dihyd...|      0101032|        |   |  17|   1975|Effects of 5,6-di...|\n|        |           |MM Ris; RA Deitri...|      England| false|pubmed21n0001.xml.gz|   0006-2952|       |        |   Biochem Pharmacol|D000445:Aldehyde ...|      0101032|        |   |  18|   1975|Inhibition of ald...|\n|        |           |AE Halaris; KT Be...|      England| false|pubmed21n0001.xml.gz|   0006-2952|       |        |   Biochem Pharmacol|D000818:Animals; ...|      0101032|        |   |  19|   1975|Antidepressant dr...|\n|        |           |W Barthel; F Mark...|      England| false|pubmed21n0001.xml.gz|   0006-2952|       |        |   Biochem Pharmacol|D000818:Animals; ...|      0101032|        |   |  20|   1975|Aggregation of bl...|\n+--------+-----------+--------------------+-------------+------+--------------------+------------+-------+--------+--------------------+--------------------+-------------+--------+---+----+-------+--------------------+\nonly showing top 20 rows\n\n"
     ]
    }
   ],
   "source": [
    "medline_df.s"
   ]
  },
  {
   "cell_type": "code",
   "execution_count": 27,
   "metadata": {},
   "outputs": [
    {
     "name": "stdout",
     "output_type": "stream",
     "text": [
      "journal\n"
     ]
    }
   ],
   "source": [
    "for col in df.columns:\n",
    "    if (col != 'delete' and not \"\".join(df[col])):\n",
    "        print(col)\n",
    "        "
   ]
  },
  {
   "cell_type": "code",
   "execution_count": null,
   "metadata": {},
   "outputs": [],
   "source": [
    "rdd0 = sc.parallelize(list(range(10000))).repartition(1000)"
   ]
  },
  {
   "cell_type": "code",
   "execution_count": null,
   "metadata": {},
   "outputs": [],
   "source": [
    "def get_hostnode(e):\n",
    "    import sys\n",
    "    import socket\n",
    "    \n",
    "    return str(sys.version_info), str(socket.gethostname())\n"
   ]
  },
  {
   "cell_type": "code",
   "execution_count": null,
   "metadata": {},
   "outputs": [],
   "source": [
    "def check_version(e):\n",
    "    import pyarrow as pa\n",
    "    hdfs = pa.hdfs.connect()\n",
    "    \n",
    "    return str(pa.__version__), str(hdfs)"
   ]
  },
  {
   "cell_type": "code",
   "execution_count": null,
   "metadata": {
    "scrolled": true
   },
   "outputs": [],
   "source": [
    "rdd0.map(check_version).distinct().collect()"
   ]
  },
  {
   "cell_type": "code",
   "execution_count": null,
   "metadata": {},
   "outputs": [],
   "source": [
    "hdfs = pa.hdfs.connect()"
   ]
  },
  {
   "cell_type": "code",
   "execution_count": null,
   "metadata": {},
   "outputs": [],
   "source": [
    "print(hdfs)"
   ]
  },
  {
   "cell_type": "code",
   "execution_count": null,
   "metadata": {
    "scrolled": true
   },
   "outputs": [],
   "source": [
    "rdd0.map(get_hostnode).distinct().collect()"
   ]
  },
  {
   "cell_type": "code",
   "execution_count": null,
   "metadata": {},
   "outputs": [],
   "source": [
    "get_hostnode(2)"
   ]
  },
  {
   "cell_type": "code",
   "execution_count": null,
   "metadata": {},
   "outputs": [],
   "source": [
    "!/home/tozeng/anaconda3/bin/python --version"
   ]
  },
  {
   "cell_type": "code",
   "execution_count": null,
   "metadata": {},
   "outputs": [],
   "source": []
  },
  {
   "cell_type": "code",
   "execution_count": 35,
   "metadata": {},
   "outputs": [
    {
     "data": {
      "text/plain": [
       "'2.2.1'"
      ]
     },
     "execution_count": 35,
     "metadata": {},
     "output_type": "execute_result"
    }
   ],
   "source": [
    "re.__version__"
   ]
  },
  {
   "cell_type": "code",
   "execution_count": null,
   "metadata": {},
   "outputs": [],
   "source": [
    "test_p = spark.sparkContext.parallelize(file_paths)\n",
    "test_p.collect()"
   ]
  },
  {
   "cell_type": "code",
   "execution_count": 38,
   "metadata": {},
   "outputs": [],
   "source": [
    "def find_journal(gzip):\n",
    "    import re\n",
    "    l = re.findall('<Title>[\\s\\S]*?<\\/Title>', gzip[1])\n",
    "\n",
    "    return(l)"
   ]
  },
  {
   "cell_type": "code",
   "execution_count": null,
   "metadata": {},
   "outputs": [],
   "source": [
    "def test_medline_parquet(gzip):\n",
    "    import pubmed_parser as pa\n",
    "    dicts = pa.parse_medline_xml(gzip[1])\n",
    "    return [Row(**doc) for doc in dicts]"
   ]
  },
  {
   "cell_type": "code",
   "execution_count": null,
   "metadata": {},
   "outputs": [],
   "source": [
    "docs = spark.sparkContext.wholeTextFiles('test/test/pubmed21n0001.xml.gz')\n",
    "dicts = docs.flatMap(find_journal)\n",
    "dicts.take(10)"
   ]
  },
  {
   "cell_type": "code",
   "execution_count": null,
   "metadata": {},
   "outputs": [],
   "source": [
    "\n",
    "def parse_gzip_medline_str(gzip_str):\n",
    "    import pubmed_parser as pp\n",
    "    import unidecode\n",
    "    \n",
    "    filepath = gzip_str[0]\n",
    "    xml_string = gzip_str[1]\n",
    "    _, file_name = path.split(filepath)\n",
    "    # decompress gzip\n",
    "\n",
    "    articles = pp.parse_medline_xml(xml_string)\n",
    "    return [Row(file_name=file_name, **article_dict)\n",
    "            for article_dict in articles]\n",
    "\n"
   ]
  },
  {
   "cell_type": "code",
   "execution_count": null,
   "metadata": {
    "scrolled": true
   },
   "outputs": [],
   "source": [
    "docs = spark.sparkContext.wholeTextFiles('test/test/pubmed21n0001.xml.gz')\n",
    "dicts = docs.flatMap(parse_gzip_medline_str)\n",
    "dicts.take(10)\n",
    "\n"
   ]
  },
  {
   "cell_type": "code",
   "execution_count": null,
   "metadata": {},
   "outputs": [],
   "source": [
    "!hdfs dfs "
   ]
  },
  {
   "cell_type": "code",
   "execution_count": null,
   "metadata": {},
   "outputs": [],
   "source": [
    "spark.stop()"
   ]
  },
  {
   "cell_type": "code",
   "execution_count": null,
   "metadata": {},
   "outputs": [],
   "source": [
    "def test_medline_parquet(file_path):\n",
    "    import subprocess\n",
    "    (ret, out, err)= run_cmd(['hdfs', 'dfs', '-ls', 'test/test/'])\n",
    "    \n",
    "    return (out,err)"
   ]
  },
  {
   "cell_type": "code",
   "execution_count": null,
   "metadata": {},
   "outputs": [],
   "source": [
    "def run_cmd(args_list):\n",
    "        \"\"\"\n",
    "        run linux commands\n",
    "        \"\"\"\n",
    "        # import subprocess\n",
    "        print('Running system command: {0}'.format(' '.join(args_list)))\n",
    "        proc = subprocess.Popen(args_list, stdout=subprocess.PIPE, stderr=subprocess.PIPE)\n",
    "        s_output, s_err = proc.communicate()\n",
    "        s_return =  proc.returncode\n",
    "        return s_return, s_output, s_err "
   ]
  },
  {
   "cell_type": "code",
   "execution_count": null,
   "metadata": {},
   "outputs": [],
   "source": [
    "(ret, out, err)= run_cmd(['hdfs', 'dfs', '-ls', 'test/test/'])\n",
    "out.decode('ascii').split('\\n')"
   ]
  },
  {
   "cell_type": "code",
   "execution_count": null,
   "metadata": {
    "scrolled": false
   },
   "outputs": [],
   "source": [
    "err = test_p.map(test_medline_parquet).take(1)"
   ]
  },
  {
   "cell_type": "code",
   "execution_count": null,
   "metadata": {},
   "outputs": [],
   "source": [
    "err[0][1].decode('ascii').split('\\n')"
   ]
  },
  {
   "cell_type": "code",
   "execution_count": null,
   "metadata": {},
   "outputs": [],
   "source": [
    "tet = spark.sparkContext.wholeTextFiles('test/test/*.xml.gz')"
   ]
  },
  {
   "cell_type": "code",
   "execution_count": null,
   "metadata": {},
   "outputs": [],
   "source": [
    "tet.map(lambda x : x[0]).take(1)"
   ]
  },
  {
   "cell_type": "code",
   "execution_count": null,
   "metadata": {},
   "outputs": [],
   "source": [
    "pa.hdfs.connect()"
   ]
  },
  {
   "cell_type": "code",
   "execution_count": null,
   "metadata": {},
   "outputs": [],
   "source": [
    "spark.stop()"
   ]
  }
 ],
 "metadata": {
  "kernelspec": {
   "name": "python373jvsc74a57bd09f9127846a4e2991673c18367713baaab9c118995b914f01a7998576a1f0d8bf",
   "display_name": "Python 3.7.3 64-bit ('base': conda)"
  },
  "language_info": {
   "codemirror_mode": {
    "name": "ipython",
    "version": 3
   },
   "file_extension": ".py",
   "mimetype": "text/x-python",
   "name": "python",
   "nbconvert_exporter": "python",
   "pygments_lexer": "ipython3",
   "version": "3.7.3"
  },
  "metadata": {
   "interpreter": {
    "hash": "9f9127846a4e2991673c18367713baaab9c118995b914f01a7998576a1f0d8bf"
   }
  }
 },
 "nbformat": 4,
 "nbformat_minor": 2
}