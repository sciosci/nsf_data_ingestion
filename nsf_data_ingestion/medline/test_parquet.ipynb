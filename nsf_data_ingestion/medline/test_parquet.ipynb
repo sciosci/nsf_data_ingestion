{
 "cells": [
  {
   "cell_type": "code",
   "execution_count": 42,
   "metadata": {},
   "outputs": [],
   "source": [
    "spark.stop()"
   ]
  },
  {
   "cell_type": "code",
   "execution_count": 43,
   "metadata": {},
   "outputs": [
    {
     "output_type": "stream",
     "name": "stderr",
     "text": [
      "INFO:root:Creating Spark Session....\n",
      "INFO:root:Spark Session....Created\n"
     ]
    }
   ],
   "source": [
    "import findspark\n",
    "findspark.init('/opt/cloudera/parcels/SPARK2-2.4.0.cloudera2-1.cdh5.13.3.p0.1041012/lib/spark2/')\n",
    "import os, findspark\n",
    "os.environ['PYSPARK_PYTHON'] = '/home/tozeng/anaconda3/bin/python'\n",
    "os.environ['PYSPARK_DRIVER_PYTHON'] = '/home/tozeng/anaconda3/bin/python'\n",
    "import sys\n",
    "sys.path.append('/home/eileen/nsf_data_ingestion/')\n",
    "import zipfile\n",
    "import zipimport\n",
    "import io\n",
    "import logging\n",
    "logging.getLogger().setLevel(logging.INFO)\n",
    "from pyspark.sql import functions\n",
    "from pyspark.sql import SparkSession\n",
    "from pyspark import SparkContext\n",
    "from pyspark.sql import Row\n",
    "from pyspark.sql import Window\n",
    "from pyspark.sql.functions import rank, max, sum, desc\n",
    "import zlib\n",
    "import importlib\n",
    "import os\n",
    "from os import path\n",
    "from shutil import copyfile\n",
    "from shutil import rmtree\n",
    "from subprocess import call\n",
    "import pubmed_parser as pp\n",
    "\n",
    "#sys.path.append('/home/ananth/nsf_data_ingestion/')\n",
    "\n",
    "from nsf_data_ingestion.config import spark_config\n",
    "from nsf_data_ingestion.objects import data_source_params\n",
    "\n",
    "\n",
    "def create_session():\n",
    "    logging.info('Creating Spark Session....')\n",
    "    spark = SparkSession.builder.\\\n",
    "            appName('test_pubmed_parser').\\\n",
    "            config('spark.driver.memory', '20g').\\\n",
    "            config('spark.network.timeout', '600s').\\\n",
    "            config('spark.driver.maxResultSize', '10g').\\\n",
    "            config('spark.executor.memory', '15g').\\\n",
    "            config('spark.kryoserializer.buffer.max', '1g').\\\n",
    "            config('spark.cores.max', '50').\\\n",
    "            getOrCreate()\n",
    "    spark.sparkContext.addPyFile('/home/eileen/nsf_data_ingestion/libraries/pubmed_parser-0.2.2-py3.7.egg')\n",
    "    spark.sparkContext.addPyFile('/home/eileen/nsf_data_ingestion/libraries/Unidecode-1.1.1-py3.6.egg')\n",
    "#         logging.info('Adding Libraries' + str(library))\n",
    "#         spark.sparkContext.addPyFile(library)    # adding libraries\n",
    "#         spark.sparkContext.addPyFile(library)\n",
    "\n",
    "    logging.info(\"Spark Session....Created\")\n",
    "    return spark\n",
    "\n",
    "def parse_gzip_medline_str(gzip_str):\n",
    "    import pubmed_parser as pp\n",
    "    import unidecode\n",
    "    \n",
    "    filepath = gzip_str[0]\n",
    "    xml_string = gzip_str[1]\n",
    "    _, file_name = path.split(filepath)\n",
    "\n",
    "    articles = pp.parse_medline_xml(xml_string)\n",
    "    return [Row(file_name=file_name, **article_dict)\n",
    "            for article_dict in articles]\n",
    "\n",
    "spark = create_session()\n",
    "sc = spark.sparkContext"
   ]
  },
  {
   "cell_type": "code",
   "execution_count": 40,
   "metadata": {},
   "outputs": [
    {
     "output_type": "error",
     "ename": "Py4JJavaError",
     "evalue": "An error occurred while calling z:org.apache.spark.api.python.PythonRDD.collectAndServe.\n: org.apache.spark.SparkException: Job aborted due to stage failure: Total size of serialized results of 1002 tasks (1133.6 MB) is bigger than spark.driver.maxResultSize (1024.0 MB)\n\tat org.apache.spark.scheduler.DAGScheduler.org$apache$spark$scheduler$DAGScheduler$$failJobAndIndependentStages(DAGScheduler.scala:1889)\n\tat org.apache.spark.scheduler.DAGScheduler$$anonfun$abortStage$1.apply(DAGScheduler.scala:1877)\n\tat org.apache.spark.scheduler.DAGScheduler$$anonfun$abortStage$1.apply(DAGScheduler.scala:1876)\n\tat scala.collection.mutable.ResizableArray$class.foreach(ResizableArray.scala:59)\n\tat scala.collection.mutable.ArrayBuffer.foreach(ArrayBuffer.scala:48)\n\tat org.apache.spark.scheduler.DAGScheduler.abortStage(DAGScheduler.scala:1876)\n\tat org.apache.spark.scheduler.DAGScheduler$$anonfun$handleTaskSetFailed$1.apply(DAGScheduler.scala:926)\n\tat org.apache.spark.scheduler.DAGScheduler$$anonfun$handleTaskSetFailed$1.apply(DAGScheduler.scala:926)\n\tat scala.Option.foreach(Option.scala:257)\n\tat org.apache.spark.scheduler.DAGScheduler.handleTaskSetFailed(DAGScheduler.scala:926)\n\tat org.apache.spark.scheduler.DAGSchedulerEventProcessLoop.doOnReceive(DAGScheduler.scala:2110)\n\tat org.apache.spark.scheduler.DAGSchedulerEventProcessLoop.onReceive(DAGScheduler.scala:2059)\n\tat org.apache.spark.scheduler.DAGSchedulerEventProcessLoop.onReceive(DAGScheduler.scala:2048)\n\tat org.apache.spark.util.EventLoop$$anon$1.run(EventLoop.scala:49)\n\tat org.apache.spark.scheduler.DAGScheduler.runJob(DAGScheduler.scala:737)\n\tat org.apache.spark.SparkContext.runJob(SparkContext.scala:2061)\n\tat org.apache.spark.SparkContext.runJob(SparkContext.scala:2082)\n\tat org.apache.spark.SparkContext.runJob(SparkContext.scala:2101)\n\tat org.apache.spark.SparkContext.runJob(SparkContext.scala:2126)\n\tat org.apache.spark.rdd.RDD$$anonfun$collect$1.apply(RDD.scala:945)\n\tat org.apache.spark.rdd.RDDOperationScope$.withScope(RDDOperationScope.scala:151)\n\tat org.apache.spark.rdd.RDDOperationScope$.withScope(RDDOperationScope.scala:112)\n\tat org.apache.spark.rdd.RDD.withScope(RDD.scala:363)\n\tat org.apache.spark.rdd.RDD.collect(RDD.scala:944)\n\tat org.apache.spark.api.python.PythonRDD$.collectAndServe(PythonRDD.scala:166)\n\tat org.apache.spark.api.python.PythonRDD.collectAndServe(PythonRDD.scala)\n\tat sun.reflect.NativeMethodAccessorImpl.invoke0(Native Method)\n\tat sun.reflect.NativeMethodAccessorImpl.invoke(NativeMethodAccessorImpl.java:62)\n\tat sun.reflect.DelegatingMethodAccessorImpl.invoke(DelegatingMethodAccessorImpl.java:43)\n\tat java.lang.reflect.Method.invoke(Method.java:498)\n\tat py4j.reflection.MethodInvoker.invoke(MethodInvoker.java:244)\n\tat py4j.reflection.ReflectionEngine.invoke(ReflectionEngine.java:357)\n\tat py4j.Gateway.invoke(Gateway.java:282)\n\tat py4j.commands.AbstractCommand.invokeMethod(AbstractCommand.java:132)\n\tat py4j.commands.CallCommand.execute(CallCommand.java:79)\n\tat py4j.GatewayConnection.run(GatewayConnection.java:238)\n\tat java.lang.Thread.run(Thread.java:748)\n",
     "traceback": [
      "\u001b[0;31m---------------------------------------------------------------------------\u001b[0m",
      "\u001b[0;31mPy4JJavaError\u001b[0m                             Traceback (most recent call last)",
      "\u001b[0;32m<ipython-input-40-896ab68edb85>\u001b[0m in \u001b[0;36m<module>\u001b[0;34m\u001b[0m\n\u001b[1;32m      3\u001b[0m \u001b[0;34m\u001b[0m\u001b[0m\n\u001b[1;32m      4\u001b[0m \u001b[0mdocs\u001b[0m \u001b[0;34m=\u001b[0m \u001b[0msc\u001b[0m\u001b[0;34m.\u001b[0m\u001b[0mwholeTextFiles\u001b[0m\u001b[0;34m(\u001b[0m\u001b[0;34m'test/test/pubmed21n0001.xml.gz'\u001b[0m\u001b[0;34m)\u001b[0m\u001b[0;34m.\u001b[0m\u001b[0mrepartition\u001b[0m\u001b[0;34m(\u001b[0m\u001b[0;36m1000\u001b[0m\u001b[0;34m)\u001b[0m\u001b[0;34m\u001b[0m\u001b[0;34m\u001b[0m\u001b[0m\n\u001b[0;32m----> 5\u001b[0;31m \u001b[0mgzip_str\u001b[0m \u001b[0;34m=\u001b[0m \u001b[0mdocs\u001b[0m\u001b[0;34m.\u001b[0m\u001b[0mflatMap\u001b[0m\u001b[0;34m(\u001b[0m\u001b[0mtestf\u001b[0m\u001b[0;34m)\u001b[0m\u001b[0;34m.\u001b[0m\u001b[0mcollect\u001b[0m\u001b[0;34m(\u001b[0m\u001b[0;34m)\u001b[0m\u001b[0;34m\u001b[0m\u001b[0;34m\u001b[0m\u001b[0m\n\u001b[0m\u001b[1;32m      6\u001b[0m \u001b[0mpp\u001b[0m\u001b[0;34m.\u001b[0m\u001b[0mparse_medline_xml\u001b[0m\u001b[0;34m(\u001b[0m\u001b[0mgzip_str\u001b[0m\u001b[0;34m)\u001b[0m\u001b[0;34m\u001b[0m\u001b[0;34m\u001b[0m\u001b[0m\n",
      "\u001b[0;32m/opt/cloudera/parcels/SPARK2-2.4.0.cloudera2-1.cdh5.13.3.p0.1041012/lib/spark2/python/pyspark/rdd.py\u001b[0m in \u001b[0;36mcollect\u001b[0;34m(self)\u001b[0m\n\u001b[1;32m    814\u001b[0m         \"\"\"\n\u001b[1;32m    815\u001b[0m         \u001b[0;32mwith\u001b[0m \u001b[0mSCCallSiteSync\u001b[0m\u001b[0;34m(\u001b[0m\u001b[0mself\u001b[0m\u001b[0;34m.\u001b[0m\u001b[0mcontext\u001b[0m\u001b[0;34m)\u001b[0m \u001b[0;32mas\u001b[0m \u001b[0mcss\u001b[0m\u001b[0;34m:\u001b[0m\u001b[0;34m\u001b[0m\u001b[0;34m\u001b[0m\u001b[0m\n\u001b[0;32m--> 816\u001b[0;31m             \u001b[0msock_info\u001b[0m \u001b[0;34m=\u001b[0m \u001b[0mself\u001b[0m\u001b[0;34m.\u001b[0m\u001b[0mctx\u001b[0m\u001b[0;34m.\u001b[0m\u001b[0m_jvm\u001b[0m\u001b[0;34m.\u001b[0m\u001b[0mPythonRDD\u001b[0m\u001b[0;34m.\u001b[0m\u001b[0mcollectAndServe\u001b[0m\u001b[0;34m(\u001b[0m\u001b[0mself\u001b[0m\u001b[0;34m.\u001b[0m\u001b[0m_jrdd\u001b[0m\u001b[0;34m.\u001b[0m\u001b[0mrdd\u001b[0m\u001b[0;34m(\u001b[0m\u001b[0;34m)\u001b[0m\u001b[0;34m)\u001b[0m\u001b[0;34m\u001b[0m\u001b[0;34m\u001b[0m\u001b[0m\n\u001b[0m\u001b[1;32m    817\u001b[0m         \u001b[0;32mreturn\u001b[0m \u001b[0mlist\u001b[0m\u001b[0;34m(\u001b[0m\u001b[0m_load_from_socket\u001b[0m\u001b[0;34m(\u001b[0m\u001b[0msock_info\u001b[0m\u001b[0;34m,\u001b[0m \u001b[0mself\u001b[0m\u001b[0;34m.\u001b[0m\u001b[0m_jrdd_deserializer\u001b[0m\u001b[0;34m)\u001b[0m\u001b[0;34m)\u001b[0m\u001b[0;34m\u001b[0m\u001b[0;34m\u001b[0m\u001b[0m\n\u001b[1;32m    818\u001b[0m \u001b[0;34m\u001b[0m\u001b[0m\n",
      "\u001b[0;32m/opt/cloudera/parcels/SPARK2-2.4.0.cloudera2-1.cdh5.13.3.p0.1041012/lib/spark2/python/lib/py4j-0.10.7-src.zip/py4j/java_gateway.py\u001b[0m in \u001b[0;36m__call__\u001b[0;34m(self, *args)\u001b[0m\n\u001b[1;32m   1255\u001b[0m         \u001b[0manswer\u001b[0m \u001b[0;34m=\u001b[0m \u001b[0mself\u001b[0m\u001b[0;34m.\u001b[0m\u001b[0mgateway_client\u001b[0m\u001b[0;34m.\u001b[0m\u001b[0msend_command\u001b[0m\u001b[0;34m(\u001b[0m\u001b[0mcommand\u001b[0m\u001b[0;34m)\u001b[0m\u001b[0;34m\u001b[0m\u001b[0;34m\u001b[0m\u001b[0m\n\u001b[1;32m   1256\u001b[0m         return_value = get_return_value(\n\u001b[0;32m-> 1257\u001b[0;31m             answer, self.gateway_client, self.target_id, self.name)\n\u001b[0m\u001b[1;32m   1258\u001b[0m \u001b[0;34m\u001b[0m\u001b[0m\n\u001b[1;32m   1259\u001b[0m         \u001b[0;32mfor\u001b[0m \u001b[0mtemp_arg\u001b[0m \u001b[0;32min\u001b[0m \u001b[0mtemp_args\u001b[0m\u001b[0;34m:\u001b[0m\u001b[0;34m\u001b[0m\u001b[0;34m\u001b[0m\u001b[0m\n",
      "\u001b[0;32m/opt/cloudera/parcels/SPARK2-2.4.0.cloudera2-1.cdh5.13.3.p0.1041012/lib/spark2/python/pyspark/sql/utils.py\u001b[0m in \u001b[0;36mdeco\u001b[0;34m(*a, **kw)\u001b[0m\n\u001b[1;32m     61\u001b[0m     \u001b[0;32mdef\u001b[0m \u001b[0mdeco\u001b[0m\u001b[0;34m(\u001b[0m\u001b[0;34m*\u001b[0m\u001b[0ma\u001b[0m\u001b[0;34m,\u001b[0m \u001b[0;34m**\u001b[0m\u001b[0mkw\u001b[0m\u001b[0;34m)\u001b[0m\u001b[0;34m:\u001b[0m\u001b[0;34m\u001b[0m\u001b[0;34m\u001b[0m\u001b[0m\n\u001b[1;32m     62\u001b[0m         \u001b[0;32mtry\u001b[0m\u001b[0;34m:\u001b[0m\u001b[0;34m\u001b[0m\u001b[0;34m\u001b[0m\u001b[0m\n\u001b[0;32m---> 63\u001b[0;31m             \u001b[0;32mreturn\u001b[0m \u001b[0mf\u001b[0m\u001b[0;34m(\u001b[0m\u001b[0;34m*\u001b[0m\u001b[0ma\u001b[0m\u001b[0;34m,\u001b[0m \u001b[0;34m**\u001b[0m\u001b[0mkw\u001b[0m\u001b[0;34m)\u001b[0m\u001b[0;34m\u001b[0m\u001b[0;34m\u001b[0m\u001b[0m\n\u001b[0m\u001b[1;32m     64\u001b[0m         \u001b[0;32mexcept\u001b[0m \u001b[0mpy4j\u001b[0m\u001b[0;34m.\u001b[0m\u001b[0mprotocol\u001b[0m\u001b[0;34m.\u001b[0m\u001b[0mPy4JJavaError\u001b[0m \u001b[0;32mas\u001b[0m \u001b[0me\u001b[0m\u001b[0;34m:\u001b[0m\u001b[0;34m\u001b[0m\u001b[0;34m\u001b[0m\u001b[0m\n\u001b[1;32m     65\u001b[0m             \u001b[0ms\u001b[0m \u001b[0;34m=\u001b[0m \u001b[0me\u001b[0m\u001b[0;34m.\u001b[0m\u001b[0mjava_exception\u001b[0m\u001b[0;34m.\u001b[0m\u001b[0mtoString\u001b[0m\u001b[0;34m(\u001b[0m\u001b[0;34m)\u001b[0m\u001b[0;34m\u001b[0m\u001b[0;34m\u001b[0m\u001b[0m\n",
      "\u001b[0;32m/opt/cloudera/parcels/SPARK2-2.4.0.cloudera2-1.cdh5.13.3.p0.1041012/lib/spark2/python/lib/py4j-0.10.7-src.zip/py4j/protocol.py\u001b[0m in \u001b[0;36mget_return_value\u001b[0;34m(answer, gateway_client, target_id, name)\u001b[0m\n\u001b[1;32m    326\u001b[0m                 raise Py4JJavaError(\n\u001b[1;32m    327\u001b[0m                     \u001b[0;34m\"An error occurred while calling {0}{1}{2}.\\n\"\u001b[0m\u001b[0;34m.\u001b[0m\u001b[0;34m\u001b[0m\u001b[0;34m\u001b[0m\u001b[0m\n\u001b[0;32m--> 328\u001b[0;31m                     format(target_id, \".\", name), value)\n\u001b[0m\u001b[1;32m    329\u001b[0m             \u001b[0;32melse\u001b[0m\u001b[0;34m:\u001b[0m\u001b[0;34m\u001b[0m\u001b[0;34m\u001b[0m\u001b[0m\n\u001b[1;32m    330\u001b[0m                 raise Py4JError(\n",
      "\u001b[0;31mPy4JJavaError\u001b[0m: An error occurred while calling z:org.apache.spark.api.python.PythonRDD.collectAndServe.\n: org.apache.spark.SparkException: Job aborted due to stage failure: Total size of serialized results of 1002 tasks (1133.6 MB) is bigger than spark.driver.maxResultSize (1024.0 MB)\n\tat org.apache.spark.scheduler.DAGScheduler.org$apache$spark$scheduler$DAGScheduler$$failJobAndIndependentStages(DAGScheduler.scala:1889)\n\tat org.apache.spark.scheduler.DAGScheduler$$anonfun$abortStage$1.apply(DAGScheduler.scala:1877)\n\tat org.apache.spark.scheduler.DAGScheduler$$anonfun$abortStage$1.apply(DAGScheduler.scala:1876)\n\tat scala.collection.mutable.ResizableArray$class.foreach(ResizableArray.scala:59)\n\tat scala.collection.mutable.ArrayBuffer.foreach(ArrayBuffer.scala:48)\n\tat org.apache.spark.scheduler.DAGScheduler.abortStage(DAGScheduler.scala:1876)\n\tat org.apache.spark.scheduler.DAGScheduler$$anonfun$handleTaskSetFailed$1.apply(DAGScheduler.scala:926)\n\tat org.apache.spark.scheduler.DAGScheduler$$anonfun$handleTaskSetFailed$1.apply(DAGScheduler.scala:926)\n\tat scala.Option.foreach(Option.scala:257)\n\tat org.apache.spark.scheduler.DAGScheduler.handleTaskSetFailed(DAGScheduler.scala:926)\n\tat org.apache.spark.scheduler.DAGSchedulerEventProcessLoop.doOnReceive(DAGScheduler.scala:2110)\n\tat org.apache.spark.scheduler.DAGSchedulerEventProcessLoop.onReceive(DAGScheduler.scala:2059)\n\tat org.apache.spark.scheduler.DAGSchedulerEventProcessLoop.onReceive(DAGScheduler.scala:2048)\n\tat org.apache.spark.util.EventLoop$$anon$1.run(EventLoop.scala:49)\n\tat org.apache.spark.scheduler.DAGScheduler.runJob(DAGScheduler.scala:737)\n\tat org.apache.spark.SparkContext.runJob(SparkContext.scala:2061)\n\tat org.apache.spark.SparkContext.runJob(SparkContext.scala:2082)\n\tat org.apache.spark.SparkContext.runJob(SparkContext.scala:2101)\n\tat org.apache.spark.SparkContext.runJob(SparkContext.scala:2126)\n\tat org.apache.spark.rdd.RDD$$anonfun$collect$1.apply(RDD.scala:945)\n\tat org.apache.spark.rdd.RDDOperationScope$.withScope(RDDOperationScope.scala:151)\n\tat org.apache.spark.rdd.RDDOperationScope$.withScope(RDDOperationScope.scala:112)\n\tat org.apache.spark.rdd.RDD.withScope(RDD.scala:363)\n\tat org.apache.spark.rdd.RDD.collect(RDD.scala:944)\n\tat org.apache.spark.api.python.PythonRDD$.collectAndServe(PythonRDD.scala:166)\n\tat org.apache.spark.api.python.PythonRDD.collectAndServe(PythonRDD.scala)\n\tat sun.reflect.NativeMethodAccessorImpl.invoke0(Native Method)\n\tat sun.reflect.NativeMethodAccessorImpl.invoke(NativeMethodAccessorImpl.java:62)\n\tat sun.reflect.DelegatingMethodAccessorImpl.invoke(DelegatingMethodAccessorImpl.java:43)\n\tat java.lang.reflect.Method.invoke(Method.java:498)\n\tat py4j.reflection.MethodInvoker.invoke(MethodInvoker.java:244)\n\tat py4j.reflection.ReflectionEngine.invoke(ReflectionEngine.java:357)\n\tat py4j.Gateway.invoke(Gateway.java:282)\n\tat py4j.commands.AbstractCommand.invokeMethod(AbstractCommand.java:132)\n\tat py4j.commands.CallCommand.execute(CallCommand.java:79)\n\tat py4j.GatewayConnection.run(GatewayConnection.java:238)\n\tat java.lang.Thread.run(Thread.java:748)\n"
     ]
    }
   ],
   "source": [
    "def testf(gzip_str):\n",
    "    return gzip_str[1]\n",
    "\n",
    "docs = sc.wholeTextFiles('test/test/pubmed21n0001.xml.gz').repartition(1000)\n",
    "gzip_str = docs.flatMap(testf).collect()\n",
    "pp.parse_medline_xml(gzip_str)"
   ]
  },
  {
   "cell_type": "code",
   "execution_count": null,
   "metadata": {},
   "outputs": [],
   "source": []
  },
  {
   "cell_type": "code",
   "execution_count": null,
   "metadata": {},
   "outputs": [],
   "source": []
  },
  {
   "cell_type": "code",
   "execution_count": null,
   "metadata": {},
   "outputs": [],
   "source": []
  },
  {
   "cell_type": "code",
   "execution_count": null,
   "metadata": {},
   "outputs": [],
   "source": []
  },
  {
   "cell_type": "code",
   "execution_count": null,
   "metadata": {},
   "outputs": [],
   "source": []
  },
  {
   "cell_type": "code",
   "execution_count": null,
   "metadata": {},
   "outputs": [],
   "source": []
  },
  {
   "cell_type": "code",
   "execution_count": null,
   "metadata": {},
   "outputs": [],
   "source": []
  },
  {
   "cell_type": "code",
   "execution_count": null,
   "metadata": {},
   "outputs": [],
   "source": []
  },
  {
   "cell_type": "code",
   "execution_count": 25,
   "metadata": {},
   "outputs": [
    {
     "output_type": "error",
     "ename": "Py4JJavaError",
     "evalue": "An error occurred while calling z:org.apache.spark.api.python.PythonRDD.runJob.\n: org.apache.spark.SparkException: Job aborted due to stage failure: Task 236 in stage 69.0 failed 4 times, most recent failure: Lost task 236.3 in stage 69.0 (TID 4392, ist-deacuna-n2.syr.edu, executor 27): ExecutorLostFailure (executor 27 exited caused by one of the running tasks) Reason: Container from a bad node: container_1617388819238_0288_01_000037 on host: ist-deacuna-n2.syr.edu. Exit status: 1. Diagnostics: Exception from container-launch.\nContainer id: container_1617388819238_0288_01_000037\nExit code: 1\nStack trace: ExitCodeException exitCode=1: \n\tat org.apache.hadoop.util.Shell.runCommand(Shell.java:604)\n\tat org.apache.hadoop.util.Shell.run(Shell.java:507)\n\tat org.apache.hadoop.util.Shell$ShellCommandExecutor.execute(Shell.java:789)\n\tat org.apache.hadoop.yarn.server.nodemanager.LinuxContainerExecutor.launchContainer(LinuxContainerExecutor.java:399)\n\tat org.apache.hadoop.yarn.server.nodemanager.containermanager.launcher.ContainerLaunch.call(ContainerLaunch.java:302)\n\tat org.apache.hadoop.yarn.server.nodemanager.containermanager.launcher.ContainerLaunch.call(ContainerLaunch.java:82)\n\tat java.util.concurrent.FutureTask.run(FutureTask.java:266)\n\tat java.util.concurrent.ThreadPoolExecutor.runWorker(ThreadPoolExecutor.java:1149)\n\tat java.util.concurrent.ThreadPoolExecutor$Worker.run(ThreadPoolExecutor.java:624)\n\tat java.lang.Thread.run(Thread.java:748)\n\nShell output: main : command provided 1\nmain : run as user is nobody\nmain : requested yarn user is eileen\nWriting to tmp file /yarn/nm/nmPrivate/application_1617388819238_0288/container_1617388819238_0288_01_000037/container_1617388819238_0288_01_000037.pid.tmp\n\n\nContainer exited with a non-zero exit code 1\n.\nDriver stacktrace:\n\tat org.apache.spark.scheduler.DAGScheduler.org$apache$spark$scheduler$DAGScheduler$$failJobAndIndependentStages(DAGScheduler.scala:1889)\n\tat org.apache.spark.scheduler.DAGScheduler$$anonfun$abortStage$1.apply(DAGScheduler.scala:1877)\n\tat org.apache.spark.scheduler.DAGScheduler$$anonfun$abortStage$1.apply(DAGScheduler.scala:1876)\n\tat scala.collection.mutable.ResizableArray$class.foreach(ResizableArray.scala:59)\n\tat scala.collection.mutable.ArrayBuffer.foreach(ArrayBuffer.scala:48)\n\tat org.apache.spark.scheduler.DAGScheduler.abortStage(DAGScheduler.scala:1876)\n\tat org.apache.spark.scheduler.DAGScheduler$$anonfun$handleTaskSetFailed$1.apply(DAGScheduler.scala:926)\n\tat org.apache.spark.scheduler.DAGScheduler$$anonfun$handleTaskSetFailed$1.apply(DAGScheduler.scala:926)\n\tat scala.Option.foreach(Option.scala:257)\n\tat org.apache.spark.scheduler.DAGScheduler.handleTaskSetFailed(DAGScheduler.scala:926)\n\tat org.apache.spark.scheduler.DAGSchedulerEventProcessLoop.doOnReceive(DAGScheduler.scala:2110)\n\tat org.apache.spark.scheduler.DAGSchedulerEventProcessLoop.onReceive(DAGScheduler.scala:2059)\n\tat org.apache.spark.scheduler.DAGSchedulerEventProcessLoop.onReceive(DAGScheduler.scala:2048)\n\tat org.apache.spark.util.EventLoop$$anon$1.run(EventLoop.scala:49)\n\tat org.apache.spark.scheduler.DAGScheduler.runJob(DAGScheduler.scala:737)\n\tat org.apache.spark.SparkContext.runJob(SparkContext.scala:2061)\n\tat org.apache.spark.SparkContext.runJob(SparkContext.scala:2082)\n\tat org.apache.spark.SparkContext.runJob(SparkContext.scala:2101)\n\tat org.apache.spark.api.python.PythonRDD$.runJob(PythonRDD.scala:153)\n\tat org.apache.spark.api.python.PythonRDD.runJob(PythonRDD.scala)\n\tat sun.reflect.GeneratedMethodAccessor157.invoke(Unknown Source)\n\tat sun.reflect.DelegatingMethodAccessorImpl.invoke(DelegatingMethodAccessorImpl.java:43)\n\tat java.lang.reflect.Method.invoke(Method.java:498)\n\tat py4j.reflection.MethodInvoker.invoke(MethodInvoker.java:244)\n\tat py4j.reflection.ReflectionEngine.invoke(ReflectionEngine.java:357)\n\tat py4j.Gateway.invoke(Gateway.java:282)\n\tat py4j.commands.AbstractCommand.invokeMethod(AbstractCommand.java:132)\n\tat py4j.commands.CallCommand.execute(CallCommand.java:79)\n\tat py4j.GatewayConnection.run(GatewayConnection.java:238)\n\tat java.lang.Thread.run(Thread.java:748)\n",
     "traceback": [
      "\u001b[0;31m---------------------------------------------------------------------------\u001b[0m",
      "\u001b[0;31mPy4JJavaError\u001b[0m                             Traceback (most recent call last)",
      "\u001b[0;32m<ipython-input-25-615d9cd23b68>\u001b[0m in \u001b[0;36m<module>\u001b[0;34m\u001b[0m\n\u001b[1;32m      1\u001b[0m \u001b[0mdocs\u001b[0m \u001b[0;34m=\u001b[0m \u001b[0msc\u001b[0m\u001b[0;34m.\u001b[0m\u001b[0mwholeTextFiles\u001b[0m\u001b[0;34m(\u001b[0m\u001b[0;34m'test/test/pubmed21n0001.xml.gz'\u001b[0m\u001b[0;34m)\u001b[0m\u001b[0;34m.\u001b[0m\u001b[0mrepartition\u001b[0m\u001b[0;34m(\u001b[0m\u001b[0;36m1000\u001b[0m\u001b[0;34m)\u001b[0m\u001b[0;34m\u001b[0m\u001b[0;34m\u001b[0m\u001b[0m\n\u001b[1;32m      2\u001b[0m \u001b[0mdicts\u001b[0m \u001b[0;34m=\u001b[0m \u001b[0mdocs\u001b[0m\u001b[0;34m.\u001b[0m\u001b[0mflatMap\u001b[0m\u001b[0;34m(\u001b[0m\u001b[0mparse_gzip_medline_str\u001b[0m\u001b[0;34m)\u001b[0m\u001b[0;34m\u001b[0m\u001b[0;34m\u001b[0m\u001b[0m\n\u001b[0;32m----> 3\u001b[0;31m \u001b[0mmedline_df\u001b[0m \u001b[0;34m=\u001b[0m \u001b[0mdicts\u001b[0m\u001b[0;34m.\u001b[0m\u001b[0mtoDF\u001b[0m\u001b[0;34m(\u001b[0m\u001b[0;34m)\u001b[0m\u001b[0;34m\u001b[0m\u001b[0;34m\u001b[0m\u001b[0m\n\u001b[0m",
      "\u001b[0;32m/opt/cloudera/parcels/SPARK2-2.4.0.cloudera2-1.cdh5.13.3.p0.1041012/lib/spark2/python/pyspark/sql/session.py\u001b[0m in \u001b[0;36mtoDF\u001b[0;34m(self, schema, sampleRatio)\u001b[0m\n\u001b[1;32m     56\u001b[0m         \u001b[0;34m[\u001b[0m\u001b[0mRow\u001b[0m\u001b[0;34m(\u001b[0m\u001b[0mname\u001b[0m\u001b[0;34m=\u001b[0m\u001b[0;34mu'Alice'\u001b[0m\u001b[0;34m,\u001b[0m \u001b[0mage\u001b[0m\u001b[0;34m=\u001b[0m\u001b[0;36m1\u001b[0m\u001b[0;34m)\u001b[0m\u001b[0;34m]\u001b[0m\u001b[0;34m\u001b[0m\u001b[0;34m\u001b[0m\u001b[0m\n\u001b[1;32m     57\u001b[0m         \"\"\"\n\u001b[0;32m---> 58\u001b[0;31m         \u001b[0;32mreturn\u001b[0m \u001b[0msparkSession\u001b[0m\u001b[0;34m.\u001b[0m\u001b[0mcreateDataFrame\u001b[0m\u001b[0;34m(\u001b[0m\u001b[0mself\u001b[0m\u001b[0;34m,\u001b[0m \u001b[0mschema\u001b[0m\u001b[0;34m,\u001b[0m \u001b[0msampleRatio\u001b[0m\u001b[0;34m)\u001b[0m\u001b[0;34m\u001b[0m\u001b[0;34m\u001b[0m\u001b[0m\n\u001b[0m\u001b[1;32m     59\u001b[0m \u001b[0;34m\u001b[0m\u001b[0m\n\u001b[1;32m     60\u001b[0m     \u001b[0mRDD\u001b[0m\u001b[0;34m.\u001b[0m\u001b[0mtoDF\u001b[0m \u001b[0;34m=\u001b[0m \u001b[0mtoDF\u001b[0m\u001b[0;34m\u001b[0m\u001b[0;34m\u001b[0m\u001b[0m\n",
      "\u001b[0;32m/opt/cloudera/parcels/SPARK2-2.4.0.cloudera2-1.cdh5.13.3.p0.1041012/lib/spark2/python/pyspark/sql/session.py\u001b[0m in \u001b[0;36mcreateDataFrame\u001b[0;34m(self, data, schema, samplingRatio, verifySchema)\u001b[0m\n\u001b[1;32m    744\u001b[0m \u001b[0;34m\u001b[0m\u001b[0m\n\u001b[1;32m    745\u001b[0m         \u001b[0;32mif\u001b[0m \u001b[0misinstance\u001b[0m\u001b[0;34m(\u001b[0m\u001b[0mdata\u001b[0m\u001b[0;34m,\u001b[0m \u001b[0mRDD\u001b[0m\u001b[0;34m)\u001b[0m\u001b[0;34m:\u001b[0m\u001b[0;34m\u001b[0m\u001b[0;34m\u001b[0m\u001b[0m\n\u001b[0;32m--> 746\u001b[0;31m             \u001b[0mrdd\u001b[0m\u001b[0;34m,\u001b[0m \u001b[0mschema\u001b[0m \u001b[0;34m=\u001b[0m \u001b[0mself\u001b[0m\u001b[0;34m.\u001b[0m\u001b[0m_createFromRDD\u001b[0m\u001b[0;34m(\u001b[0m\u001b[0mdata\u001b[0m\u001b[0;34m.\u001b[0m\u001b[0mmap\u001b[0m\u001b[0;34m(\u001b[0m\u001b[0mprepare\u001b[0m\u001b[0;34m)\u001b[0m\u001b[0;34m,\u001b[0m \u001b[0mschema\u001b[0m\u001b[0;34m,\u001b[0m \u001b[0msamplingRatio\u001b[0m\u001b[0;34m)\u001b[0m\u001b[0;34m\u001b[0m\u001b[0;34m\u001b[0m\u001b[0m\n\u001b[0m\u001b[1;32m    747\u001b[0m         \u001b[0;32melse\u001b[0m\u001b[0;34m:\u001b[0m\u001b[0;34m\u001b[0m\u001b[0;34m\u001b[0m\u001b[0m\n\u001b[1;32m    748\u001b[0m             \u001b[0mrdd\u001b[0m\u001b[0;34m,\u001b[0m \u001b[0mschema\u001b[0m \u001b[0;34m=\u001b[0m \u001b[0mself\u001b[0m\u001b[0;34m.\u001b[0m\u001b[0m_createFromLocal\u001b[0m\u001b[0;34m(\u001b[0m\u001b[0mmap\u001b[0m\u001b[0;34m(\u001b[0m\u001b[0mprepare\u001b[0m\u001b[0;34m,\u001b[0m \u001b[0mdata\u001b[0m\u001b[0;34m)\u001b[0m\u001b[0;34m,\u001b[0m \u001b[0mschema\u001b[0m\u001b[0;34m)\u001b[0m\u001b[0;34m\u001b[0m\u001b[0;34m\u001b[0m\u001b[0m\n",
      "\u001b[0;32m/opt/cloudera/parcels/SPARK2-2.4.0.cloudera2-1.cdh5.13.3.p0.1041012/lib/spark2/python/pyspark/sql/session.py\u001b[0m in \u001b[0;36m_createFromRDD\u001b[0;34m(self, rdd, schema, samplingRatio)\u001b[0m\n\u001b[1;32m    388\u001b[0m         \"\"\"\n\u001b[1;32m    389\u001b[0m         \u001b[0;32mif\u001b[0m \u001b[0mschema\u001b[0m \u001b[0;32mis\u001b[0m \u001b[0;32mNone\u001b[0m \u001b[0;32mor\u001b[0m \u001b[0misinstance\u001b[0m\u001b[0;34m(\u001b[0m\u001b[0mschema\u001b[0m\u001b[0;34m,\u001b[0m \u001b[0;34m(\u001b[0m\u001b[0mlist\u001b[0m\u001b[0;34m,\u001b[0m \u001b[0mtuple\u001b[0m\u001b[0;34m)\u001b[0m\u001b[0;34m)\u001b[0m\u001b[0;34m:\u001b[0m\u001b[0;34m\u001b[0m\u001b[0;34m\u001b[0m\u001b[0m\n\u001b[0;32m--> 390\u001b[0;31m             \u001b[0mstruct\u001b[0m \u001b[0;34m=\u001b[0m \u001b[0mself\u001b[0m\u001b[0;34m.\u001b[0m\u001b[0m_inferSchema\u001b[0m\u001b[0;34m(\u001b[0m\u001b[0mrdd\u001b[0m\u001b[0;34m,\u001b[0m \u001b[0msamplingRatio\u001b[0m\u001b[0;34m,\u001b[0m \u001b[0mnames\u001b[0m\u001b[0;34m=\u001b[0m\u001b[0mschema\u001b[0m\u001b[0;34m)\u001b[0m\u001b[0;34m\u001b[0m\u001b[0;34m\u001b[0m\u001b[0m\n\u001b[0m\u001b[1;32m    391\u001b[0m             \u001b[0mconverter\u001b[0m \u001b[0;34m=\u001b[0m \u001b[0m_create_converter\u001b[0m\u001b[0;34m(\u001b[0m\u001b[0mstruct\u001b[0m\u001b[0;34m)\u001b[0m\u001b[0;34m\u001b[0m\u001b[0;34m\u001b[0m\u001b[0m\n\u001b[1;32m    392\u001b[0m             \u001b[0mrdd\u001b[0m \u001b[0;34m=\u001b[0m \u001b[0mrdd\u001b[0m\u001b[0;34m.\u001b[0m\u001b[0mmap\u001b[0m\u001b[0;34m(\u001b[0m\u001b[0mconverter\u001b[0m\u001b[0;34m)\u001b[0m\u001b[0;34m\u001b[0m\u001b[0;34m\u001b[0m\u001b[0m\n",
      "\u001b[0;32m/opt/cloudera/parcels/SPARK2-2.4.0.cloudera2-1.cdh5.13.3.p0.1041012/lib/spark2/python/pyspark/sql/session.py\u001b[0m in \u001b[0;36m_inferSchema\u001b[0;34m(self, rdd, samplingRatio, names)\u001b[0m\n\u001b[1;32m    359\u001b[0m         \u001b[0;34m:\u001b[0m\u001b[0;32mreturn\u001b[0m\u001b[0;34m:\u001b[0m \u001b[0;34m:\u001b[0m\u001b[0;32mclass\u001b[0m\u001b[0;34m:\u001b[0m\u001b[0;31m`\u001b[0m\u001b[0mpyspark\u001b[0m\u001b[0;34m.\u001b[0m\u001b[0msql\u001b[0m\u001b[0;34m.\u001b[0m\u001b[0mtypes\u001b[0m\u001b[0;34m.\u001b[0m\u001b[0mStructType\u001b[0m\u001b[0;31m`\u001b[0m\u001b[0;34m\u001b[0m\u001b[0;34m\u001b[0m\u001b[0m\n\u001b[1;32m    360\u001b[0m         \"\"\"\n\u001b[0;32m--> 361\u001b[0;31m         \u001b[0mfirst\u001b[0m \u001b[0;34m=\u001b[0m \u001b[0mrdd\u001b[0m\u001b[0;34m.\u001b[0m\u001b[0mfirst\u001b[0m\u001b[0;34m(\u001b[0m\u001b[0;34m)\u001b[0m\u001b[0;34m\u001b[0m\u001b[0;34m\u001b[0m\u001b[0m\n\u001b[0m\u001b[1;32m    362\u001b[0m         \u001b[0;32mif\u001b[0m \u001b[0;32mnot\u001b[0m \u001b[0mfirst\u001b[0m\u001b[0;34m:\u001b[0m\u001b[0;34m\u001b[0m\u001b[0;34m\u001b[0m\u001b[0m\n\u001b[1;32m    363\u001b[0m             raise ValueError(\"The first row in RDD is empty, \"\n",
      "\u001b[0;32m/opt/cloudera/parcels/SPARK2-2.4.0.cloudera2-1.cdh5.13.3.p0.1041012/lib/spark2/python/pyspark/rdd.py\u001b[0m in \u001b[0;36mfirst\u001b[0;34m(self)\u001b[0m\n\u001b[1;32m   1376\u001b[0m         \u001b[0mValueError\u001b[0m\u001b[0;34m:\u001b[0m \u001b[0mRDD\u001b[0m \u001b[0;32mis\u001b[0m \u001b[0mempty\u001b[0m\u001b[0;34m\u001b[0m\u001b[0;34m\u001b[0m\u001b[0m\n\u001b[1;32m   1377\u001b[0m         \"\"\"\n\u001b[0;32m-> 1378\u001b[0;31m         \u001b[0mrs\u001b[0m \u001b[0;34m=\u001b[0m \u001b[0mself\u001b[0m\u001b[0;34m.\u001b[0m\u001b[0mtake\u001b[0m\u001b[0;34m(\u001b[0m\u001b[0;36m1\u001b[0m\u001b[0;34m)\u001b[0m\u001b[0;34m\u001b[0m\u001b[0;34m\u001b[0m\u001b[0m\n\u001b[0m\u001b[1;32m   1379\u001b[0m         \u001b[0;32mif\u001b[0m \u001b[0mrs\u001b[0m\u001b[0;34m:\u001b[0m\u001b[0;34m\u001b[0m\u001b[0;34m\u001b[0m\u001b[0m\n\u001b[1;32m   1380\u001b[0m             \u001b[0;32mreturn\u001b[0m \u001b[0mrs\u001b[0m\u001b[0;34m[\u001b[0m\u001b[0;36m0\u001b[0m\u001b[0;34m]\u001b[0m\u001b[0;34m\u001b[0m\u001b[0;34m\u001b[0m\u001b[0m\n",
      "\u001b[0;32m/opt/cloudera/parcels/SPARK2-2.4.0.cloudera2-1.cdh5.13.3.p0.1041012/lib/spark2/python/pyspark/rdd.py\u001b[0m in \u001b[0;36mtake\u001b[0;34m(self, num)\u001b[0m\n\u001b[1;32m   1358\u001b[0m \u001b[0;34m\u001b[0m\u001b[0m\n\u001b[1;32m   1359\u001b[0m             \u001b[0mp\u001b[0m \u001b[0;34m=\u001b[0m \u001b[0mrange\u001b[0m\u001b[0;34m(\u001b[0m\u001b[0mpartsScanned\u001b[0m\u001b[0;34m,\u001b[0m \u001b[0mmin\u001b[0m\u001b[0;34m(\u001b[0m\u001b[0mpartsScanned\u001b[0m \u001b[0;34m+\u001b[0m \u001b[0mnumPartsToTry\u001b[0m\u001b[0;34m,\u001b[0m \u001b[0mtotalParts\u001b[0m\u001b[0;34m)\u001b[0m\u001b[0;34m)\u001b[0m\u001b[0;34m\u001b[0m\u001b[0;34m\u001b[0m\u001b[0m\n\u001b[0;32m-> 1360\u001b[0;31m             \u001b[0mres\u001b[0m \u001b[0;34m=\u001b[0m \u001b[0mself\u001b[0m\u001b[0;34m.\u001b[0m\u001b[0mcontext\u001b[0m\u001b[0;34m.\u001b[0m\u001b[0mrunJob\u001b[0m\u001b[0;34m(\u001b[0m\u001b[0mself\u001b[0m\u001b[0;34m,\u001b[0m \u001b[0mtakeUpToNumLeft\u001b[0m\u001b[0;34m,\u001b[0m \u001b[0mp\u001b[0m\u001b[0;34m)\u001b[0m\u001b[0;34m\u001b[0m\u001b[0;34m\u001b[0m\u001b[0m\n\u001b[0m\u001b[1;32m   1361\u001b[0m \u001b[0;34m\u001b[0m\u001b[0m\n\u001b[1;32m   1362\u001b[0m             \u001b[0mitems\u001b[0m \u001b[0;34m+=\u001b[0m \u001b[0mres\u001b[0m\u001b[0;34m\u001b[0m\u001b[0;34m\u001b[0m\u001b[0m\n",
      "\u001b[0;32m/opt/cloudera/parcels/SPARK2-2.4.0.cloudera2-1.cdh5.13.3.p0.1041012/lib/spark2/python/pyspark/context.py\u001b[0m in \u001b[0;36mrunJob\u001b[0;34m(self, rdd, partitionFunc, partitions, allowLocal)\u001b[0m\n\u001b[1;32m   1058\u001b[0m         \u001b[0;31m# SparkContext#runJob.\u001b[0m\u001b[0;34m\u001b[0m\u001b[0;34m\u001b[0m\u001b[0;34m\u001b[0m\u001b[0m\n\u001b[1;32m   1059\u001b[0m         \u001b[0mmappedRDD\u001b[0m \u001b[0;34m=\u001b[0m \u001b[0mrdd\u001b[0m\u001b[0;34m.\u001b[0m\u001b[0mmapPartitions\u001b[0m\u001b[0;34m(\u001b[0m\u001b[0mpartitionFunc\u001b[0m\u001b[0;34m)\u001b[0m\u001b[0;34m\u001b[0m\u001b[0;34m\u001b[0m\u001b[0m\n\u001b[0;32m-> 1060\u001b[0;31m         \u001b[0msock_info\u001b[0m \u001b[0;34m=\u001b[0m \u001b[0mself\u001b[0m\u001b[0;34m.\u001b[0m\u001b[0m_jvm\u001b[0m\u001b[0;34m.\u001b[0m\u001b[0mPythonRDD\u001b[0m\u001b[0;34m.\u001b[0m\u001b[0mrunJob\u001b[0m\u001b[0;34m(\u001b[0m\u001b[0mself\u001b[0m\u001b[0;34m.\u001b[0m\u001b[0m_jsc\u001b[0m\u001b[0;34m.\u001b[0m\u001b[0msc\u001b[0m\u001b[0;34m(\u001b[0m\u001b[0;34m)\u001b[0m\u001b[0;34m,\u001b[0m \u001b[0mmappedRDD\u001b[0m\u001b[0;34m.\u001b[0m\u001b[0m_jrdd\u001b[0m\u001b[0;34m,\u001b[0m \u001b[0mpartitions\u001b[0m\u001b[0;34m)\u001b[0m\u001b[0;34m\u001b[0m\u001b[0;34m\u001b[0m\u001b[0m\n\u001b[0m\u001b[1;32m   1061\u001b[0m         \u001b[0;32mreturn\u001b[0m \u001b[0mlist\u001b[0m\u001b[0;34m(\u001b[0m\u001b[0m_load_from_socket\u001b[0m\u001b[0;34m(\u001b[0m\u001b[0msock_info\u001b[0m\u001b[0;34m,\u001b[0m \u001b[0mmappedRDD\u001b[0m\u001b[0;34m.\u001b[0m\u001b[0m_jrdd_deserializer\u001b[0m\u001b[0;34m)\u001b[0m\u001b[0;34m)\u001b[0m\u001b[0;34m\u001b[0m\u001b[0;34m\u001b[0m\u001b[0m\n\u001b[1;32m   1062\u001b[0m \u001b[0;34m\u001b[0m\u001b[0m\n",
      "\u001b[0;32m/opt/cloudera/parcels/SPARK2-2.4.0.cloudera2-1.cdh5.13.3.p0.1041012/lib/spark2/python/lib/py4j-0.10.7-src.zip/py4j/java_gateway.py\u001b[0m in \u001b[0;36m__call__\u001b[0;34m(self, *args)\u001b[0m\n\u001b[1;32m   1255\u001b[0m         \u001b[0manswer\u001b[0m \u001b[0;34m=\u001b[0m \u001b[0mself\u001b[0m\u001b[0;34m.\u001b[0m\u001b[0mgateway_client\u001b[0m\u001b[0;34m.\u001b[0m\u001b[0msend_command\u001b[0m\u001b[0;34m(\u001b[0m\u001b[0mcommand\u001b[0m\u001b[0;34m)\u001b[0m\u001b[0;34m\u001b[0m\u001b[0;34m\u001b[0m\u001b[0m\n\u001b[1;32m   1256\u001b[0m         return_value = get_return_value(\n\u001b[0;32m-> 1257\u001b[0;31m             answer, self.gateway_client, self.target_id, self.name)\n\u001b[0m\u001b[1;32m   1258\u001b[0m \u001b[0;34m\u001b[0m\u001b[0m\n\u001b[1;32m   1259\u001b[0m         \u001b[0;32mfor\u001b[0m \u001b[0mtemp_arg\u001b[0m \u001b[0;32min\u001b[0m \u001b[0mtemp_args\u001b[0m\u001b[0;34m:\u001b[0m\u001b[0;34m\u001b[0m\u001b[0;34m\u001b[0m\u001b[0m\n",
      "\u001b[0;32m/opt/cloudera/parcels/SPARK2-2.4.0.cloudera2-1.cdh5.13.3.p0.1041012/lib/spark2/python/pyspark/sql/utils.py\u001b[0m in \u001b[0;36mdeco\u001b[0;34m(*a, **kw)\u001b[0m\n\u001b[1;32m     61\u001b[0m     \u001b[0;32mdef\u001b[0m \u001b[0mdeco\u001b[0m\u001b[0;34m(\u001b[0m\u001b[0;34m*\u001b[0m\u001b[0ma\u001b[0m\u001b[0;34m,\u001b[0m \u001b[0;34m**\u001b[0m\u001b[0mkw\u001b[0m\u001b[0;34m)\u001b[0m\u001b[0;34m:\u001b[0m\u001b[0;34m\u001b[0m\u001b[0;34m\u001b[0m\u001b[0m\n\u001b[1;32m     62\u001b[0m         \u001b[0;32mtry\u001b[0m\u001b[0;34m:\u001b[0m\u001b[0;34m\u001b[0m\u001b[0;34m\u001b[0m\u001b[0m\n\u001b[0;32m---> 63\u001b[0;31m             \u001b[0;32mreturn\u001b[0m \u001b[0mf\u001b[0m\u001b[0;34m(\u001b[0m\u001b[0;34m*\u001b[0m\u001b[0ma\u001b[0m\u001b[0;34m,\u001b[0m \u001b[0;34m**\u001b[0m\u001b[0mkw\u001b[0m\u001b[0;34m)\u001b[0m\u001b[0;34m\u001b[0m\u001b[0;34m\u001b[0m\u001b[0m\n\u001b[0m\u001b[1;32m     64\u001b[0m         \u001b[0;32mexcept\u001b[0m \u001b[0mpy4j\u001b[0m\u001b[0;34m.\u001b[0m\u001b[0mprotocol\u001b[0m\u001b[0;34m.\u001b[0m\u001b[0mPy4JJavaError\u001b[0m \u001b[0;32mas\u001b[0m \u001b[0me\u001b[0m\u001b[0;34m:\u001b[0m\u001b[0;34m\u001b[0m\u001b[0;34m\u001b[0m\u001b[0m\n\u001b[1;32m     65\u001b[0m             \u001b[0ms\u001b[0m \u001b[0;34m=\u001b[0m \u001b[0me\u001b[0m\u001b[0;34m.\u001b[0m\u001b[0mjava_exception\u001b[0m\u001b[0;34m.\u001b[0m\u001b[0mtoString\u001b[0m\u001b[0;34m(\u001b[0m\u001b[0;34m)\u001b[0m\u001b[0;34m\u001b[0m\u001b[0;34m\u001b[0m\u001b[0m\n",
      "\u001b[0;32m/opt/cloudera/parcels/SPARK2-2.4.0.cloudera2-1.cdh5.13.3.p0.1041012/lib/spark2/python/lib/py4j-0.10.7-src.zip/py4j/protocol.py\u001b[0m in \u001b[0;36mget_return_value\u001b[0;34m(answer, gateway_client, target_id, name)\u001b[0m\n\u001b[1;32m    326\u001b[0m                 raise Py4JJavaError(\n\u001b[1;32m    327\u001b[0m                     \u001b[0;34m\"An error occurred while calling {0}{1}{2}.\\n\"\u001b[0m\u001b[0;34m.\u001b[0m\u001b[0;34m\u001b[0m\u001b[0;34m\u001b[0m\u001b[0m\n\u001b[0;32m--> 328\u001b[0;31m                     format(target_id, \".\", name), value)\n\u001b[0m\u001b[1;32m    329\u001b[0m             \u001b[0;32melse\u001b[0m\u001b[0;34m:\u001b[0m\u001b[0;34m\u001b[0m\u001b[0;34m\u001b[0m\u001b[0m\n\u001b[1;32m    330\u001b[0m                 raise Py4JError(\n",
      "\u001b[0;31mPy4JJavaError\u001b[0m: An error occurred while calling z:org.apache.spark.api.python.PythonRDD.runJob.\n: org.apache.spark.SparkException: Job aborted due to stage failure: Task 236 in stage 69.0 failed 4 times, most recent failure: Lost task 236.3 in stage 69.0 (TID 4392, ist-deacuna-n2.syr.edu, executor 27): ExecutorLostFailure (executor 27 exited caused by one of the running tasks) Reason: Container from a bad node: container_1617388819238_0288_01_000037 on host: ist-deacuna-n2.syr.edu. Exit status: 1. Diagnostics: Exception from container-launch.\nContainer id: container_1617388819238_0288_01_000037\nExit code: 1\nStack trace: ExitCodeException exitCode=1: \n\tat org.apache.hadoop.util.Shell.runCommand(Shell.java:604)\n\tat org.apache.hadoop.util.Shell.run(Shell.java:507)\n\tat org.apache.hadoop.util.Shell$ShellCommandExecutor.execute(Shell.java:789)\n\tat org.apache.hadoop.yarn.server.nodemanager.LinuxContainerExecutor.launchContainer(LinuxContainerExecutor.java:399)\n\tat org.apache.hadoop.yarn.server.nodemanager.containermanager.launcher.ContainerLaunch.call(ContainerLaunch.java:302)\n\tat org.apache.hadoop.yarn.server.nodemanager.containermanager.launcher.ContainerLaunch.call(ContainerLaunch.java:82)\n\tat java.util.concurrent.FutureTask.run(FutureTask.java:266)\n\tat java.util.concurrent.ThreadPoolExecutor.runWorker(ThreadPoolExecutor.java:1149)\n\tat java.util.concurrent.ThreadPoolExecutor$Worker.run(ThreadPoolExecutor.java:624)\n\tat java.lang.Thread.run(Thread.java:748)\n\nShell output: main : command provided 1\nmain : run as user is nobody\nmain : requested yarn user is eileen\nWriting to tmp file /yarn/nm/nmPrivate/application_1617388819238_0288/container_1617388819238_0288_01_000037/container_1617388819238_0288_01_000037.pid.tmp\n\n\nContainer exited with a non-zero exit code 1\n.\nDriver stacktrace:\n\tat org.apache.spark.scheduler.DAGScheduler.org$apache$spark$scheduler$DAGScheduler$$failJobAndIndependentStages(DAGScheduler.scala:1889)\n\tat org.apache.spark.scheduler.DAGScheduler$$anonfun$abortStage$1.apply(DAGScheduler.scala:1877)\n\tat org.apache.spark.scheduler.DAGScheduler$$anonfun$abortStage$1.apply(DAGScheduler.scala:1876)\n\tat scala.collection.mutable.ResizableArray$class.foreach(ResizableArray.scala:59)\n\tat scala.collection.mutable.ArrayBuffer.foreach(ArrayBuffer.scala:48)\n\tat org.apache.spark.scheduler.DAGScheduler.abortStage(DAGScheduler.scala:1876)\n\tat org.apache.spark.scheduler.DAGScheduler$$anonfun$handleTaskSetFailed$1.apply(DAGScheduler.scala:926)\n\tat org.apache.spark.scheduler.DAGScheduler$$anonfun$handleTaskSetFailed$1.apply(DAGScheduler.scala:926)\n\tat scala.Option.foreach(Option.scala:257)\n\tat org.apache.spark.scheduler.DAGScheduler.handleTaskSetFailed(DAGScheduler.scala:926)\n\tat org.apache.spark.scheduler.DAGSchedulerEventProcessLoop.doOnReceive(DAGScheduler.scala:2110)\n\tat org.apache.spark.scheduler.DAGSchedulerEventProcessLoop.onReceive(DAGScheduler.scala:2059)\n\tat org.apache.spark.scheduler.DAGSchedulerEventProcessLoop.onReceive(DAGScheduler.scala:2048)\n\tat org.apache.spark.util.EventLoop$$anon$1.run(EventLoop.scala:49)\n\tat org.apache.spark.scheduler.DAGScheduler.runJob(DAGScheduler.scala:737)\n\tat org.apache.spark.SparkContext.runJob(SparkContext.scala:2061)\n\tat org.apache.spark.SparkContext.runJob(SparkContext.scala:2082)\n\tat org.apache.spark.SparkContext.runJob(SparkContext.scala:2101)\n\tat org.apache.spark.api.python.PythonRDD$.runJob(PythonRDD.scala:153)\n\tat org.apache.spark.api.python.PythonRDD.runJob(PythonRDD.scala)\n\tat sun.reflect.GeneratedMethodAccessor157.invoke(Unknown Source)\n\tat sun.reflect.DelegatingMethodAccessorImpl.invoke(DelegatingMethodAccessorImpl.java:43)\n\tat java.lang.reflect.Method.invoke(Method.java:498)\n\tat py4j.reflection.MethodInvoker.invoke(MethodInvoker.java:244)\n\tat py4j.reflection.ReflectionEngine.invoke(ReflectionEngine.java:357)\n\tat py4j.Gateway.invoke(Gateway.java:282)\n\tat py4j.commands.AbstractCommand.invokeMethod(AbstractCommand.java:132)\n\tat py4j.commands.CallCommand.execute(CallCommand.java:79)\n\tat py4j.GatewayConnection.run(GatewayConnection.java:238)\n\tat java.lang.Thread.run(Thread.java:748)\n"
     ]
    }
   ],
   "source": [
    "docs = sc.wholeTextFiles('test/test/pubmed21n0001.xml.gz').repartition(1000)\n",
    "dicts = docs.flatMap(parse_gzip_medline_str)\n",
    "medline_df = dicts.toDF()"
   ]
  },
  {
   "cell_type": "code",
   "execution_count": null,
   "metadata": {},
   "outputs": [],
   "source": [
    "import pandas as pd\n",
    "panda_df = pd.DataFrame(medline_df.head(5), columns=medline_df.columns)\n",
    "panda_df"
   ]
  },
  {
   "cell_type": "code",
   "execution_count": 19,
   "metadata": {},
   "outputs": [
    {
     "output_type": "stream",
     "name": "stdout",
     "text": [
      "/home/eileen/nsf_data_ingestion/nsf_data_ingestion/medline\n"
     ]
    }
   ],
   "source": [
    "!pwd"
   ]
  },
  {
   "cell_type": "code",
   "execution_count": 18,
   "metadata": {
    "tags": [
     "outputPrepend"
    ]
   },
   "outputs": [
    {
     "output_type": "stream",
     "name": "stdout",
     "text": [
      ".xml.gz  pubmed21n0973.xml.gz\npubmed21n0120.xml.gz  pubmed21n0547.xml.gz  pubmed21n0974.xml.gz\npubmed21n0121.xml.gz  pubmed21n0548.xml.gz  pubmed21n0975.xml.gz\npubmed21n0122.xml.gz  pubmed21n0549.xml.gz  pubmed21n0976.xml.gz\npubmed21n0123.xml.gz  pubmed21n0550.xml.gz  pubmed21n0977.xml.gz\npubmed21n0124.xml.gz  pubmed21n0551.xml.gz  pubmed21n0978.xml.gz\npubmed21n0125.xml.gz  pubmed21n0552.xml.gz  pubmed21n0979.xml.gz\npubmed21n0126.xml.gz  pubmed21n0553.xml.gz  pubmed21n0980.xml.gz\npubmed21n0127.xml.gz  pubmed21n0554.xml.gz  pubmed21n0981.xml.gz\npubmed21n0128.xml.gz  pubmed21n0555.xml.gz  pubmed21n0982.xml.gz\npubmed21n0129.xml.gz  pubmed21n0556.xml.gz  pubmed21n0983.xml.gz\npubmed21n0130.xml.gz  pubmed21n0557.xml.gz  pubmed21n0984.xml.gz\npubmed21n0131.xml.gz  pubmed21n0558.xml.gz  pubmed21n0985.xml.gz\npubmed21n0132.xml.gz  pubmed21n0559.xml.gz  pubmed21n0986.xml.gz\npubmed21n0133.xml.gz  pubmed21n0560.xml.gz  pubmed21n0987.xml.gz\npubmed21n0134.xml.gz  pubmed21n0561.xml.gz  pubmed21n0988.xml.gz\npubmed21n0135.xml.gz  pubmed21n0562.xml.gz  pubmed21n0989.xml.gz\npubmed21n0136.xml.gz  pubmed21n0563.xml.gz  pubmed21n0990.xml.gz\npubmed21n0137.xml.gz  pubmed21n0564.xml.gz  pubmed21n0991.xml.gz\npubmed21n0138.xml.gz  pubmed21n0565.xml.gz  pubmed21n0992.xml.gz\npubmed21n0139.xml.gz  pubmed21n0566.xml.gz  pubmed21n0993.xml.gz\npubmed21n0140.xml.gz  pubmed21n0567.xml.gz  pubmed21n0994.xml.gz\npubmed21n0141.xml.gz  pubmed21n0568.xml.gz  pubmed21n0995.xml.gz\npubmed21n0142.xml.gz  pubmed21n0569.xml.gz  pubmed21n0996.xml.gz\npubmed21n0143.xml.gz  pubmed21n0570.xml.gz  pubmed21n0997.xml.gz\npubmed21n0144.xml.gz  pubmed21n0571.xml.gz  pubmed21n0998.xml.gz\npubmed21n0145.xml.gz  pubmed21n0572.xml.gz  pubmed21n0999.xml.gz\npubmed21n0146.xml.gz  pubmed21n0573.xml.gz  pubmed21n1000.xml.gz\npubmed21n0147.xml.gz  pubmed21n0574.xml.gz  pubmed21n1001.xml.gz\npubmed21n0148.xml.gz  pubmed21n0575.xml.gz  pubmed21n1002.xml.gz\npubmed21n0149.xml.gz  pubmed21n0576.xml.gz  pubmed21n1003.xml.gz\npubmed21n0150.xml.gz  pubmed21n0577.xml.gz  pubmed21n1004.xml.gz\npubmed21n0151.xml.gz  pubmed21n0578.xml.gz  pubmed21n1005.xml.gz\npubmed21n0152.xml.gz  pubmed21n0579.xml.gz  pubmed21n1006.xml.gz\npubmed21n0153.xml.gz  pubmed21n0580.xml.gz  pubmed21n1007.xml.gz\npubmed21n0154.xml.gz  pubmed21n0581.xml.gz  pubmed21n1008.xml.gz\npubmed21n0155.xml.gz  pubmed21n0582.xml.gz  pubmed21n1009.xml.gz\npubmed21n0156.xml.gz  pubmed21n0583.xml.gz  pubmed21n1010.xml.gz\npubmed21n0157.xml.gz  pubmed21n0584.xml.gz  pubmed21n1011.xml.gz\npubmed21n0158.xml.gz  pubmed21n0585.xml.gz  pubmed21n1012.xml.gz\npubmed21n0159.xml.gz  pubmed21n0586.xml.gz  pubmed21n1013.xml.gz\npubmed21n0160.xml.gz  pubmed21n0587.xml.gz  pubmed21n1014.xml.gz\npubmed21n0161.xml.gz  pubmed21n0588.xml.gz  pubmed21n1015.xml.gz\npubmed21n0162.xml.gz  pubmed21n0589.xml.gz  pubmed21n1016.xml.gz\npubmed21n0163.xml.gz  pubmed21n0590.xml.gz  pubmed21n1017.xml.gz\npubmed21n0164.xml.gz  pubmed21n0591.xml.gz  pubmed21n1018.xml.gz\npubmed21n0165.xml.gz  pubmed21n0592.xml.gz  pubmed21n1019.xml.gz\npubmed21n0166.xml.gz  pubmed21n0593.xml.gz  pubmed21n1020.xml.gz\npubmed21n0167.xml.gz  pubmed21n0594.xml.gz  pubmed21n1021.xml.gz\npubmed21n0168.xml.gz  pubmed21n0595.xml.gz  pubmed21n1022.xml.gz\npubmed21n0169.xml.gz  pubmed21n0596.xml.gz  pubmed21n1023.xml.gz\npubmed21n0170.xml.gz  pubmed21n0597.xml.gz  pubmed21n1024.xml.gz\npubmed21n0171.xml.gz  pubmed21n0598.xml.gz  pubmed21n1025.xml.gz\npubmed21n0172.xml.gz  pubmed21n0599.xml.gz  pubmed21n1026.xml.gz\npubmed21n0173.xml.gz  pubmed21n0600.xml.gz  pubmed21n1027.xml.gz\npubmed21n0174.xml.gz  pubmed21n0601.xml.gz  pubmed21n1028.xml.gz\npubmed21n0175.xml.gz  pubmed21n0602.xml.gz  pubmed21n1029.xml.gz\npubmed21n0176.xml.gz  pubmed21n0603.xml.gz  pubmed21n1030.xml.gz\npubmed21n0177.xml.gz  pubmed21n0604.xml.gz  pubmed21n1031.xml.gz\npubmed21n0178.xml.gz  pubmed21n0605.xml.gz  pubmed21n1032.xml.gz\npubmed21n0179.xml.gz  pubmed21n0606.xml.gz  pubmed21n1033.xml.gz\npubmed21n0180.xml.gz  pubmed21n0607.xml.gz  pubmed21n1034.xml.gz\npubmed21n0181.xml.gz  pubmed21n0608.xml.gz  pubmed21n1035.xml.gz\npubmed21n0182.xml.gz  pubmed21n0609.xml.gz  pubmed21n1036.xml.gz\npubmed21n0183.xml.gz  pubmed21n0610.xml.gz  pubmed21n1037.xml.gz\npubmed21n0184.xml.gz  pubmed21n0611.xml.gz  pubmed21n1038.xml.gz\npubmed21n0185.xml.gz  pubmed21n0612.xml.gz  pubmed21n1039.xml.gz\npubmed21n0186.xml.gz  pubmed21n0613.xml.gz  pubmed21n1040.xml.gz\npubmed21n0187.xml.gz  pubmed21n0614.xml.gz  pubmed21n1041.xml.gz\npubmed21n0188.xml.gz  pubmed21n0615.xml.gz  pubmed21n1042.xml.gz\npubmed21n0189.xml.gz  pubmed21n0616.xml.gz  pubmed21n1043.xml.gz\npubmed21n0190.xml.gz  pubmed21n0617.xml.gz  pubmed21n1044.xml.gz\npubmed21n0191.xml.gz  pubmed21n0618.xml.gz  pubmed21n1045.xml.gz\npubmed21n0192.xml.gz  pubmed21n0619.xml.gz  pubmed21n1046.xml.gz\npubmed21n0193.xml.gz  pubmed21n0620.xml.gz  pubmed21n1047.xml.gz\npubmed21n0194.xml.gz  pubmed21n0621.xml.gz  pubmed21n1048.xml.gz\npubmed21n0195.xml.gz  pubmed21n0622.xml.gz  pubmed21n1049.xml.gz\npubmed21n0196.xml.gz  pubmed21n0623.xml.gz  pubmed21n1050.xml.gz\npubmed21n0197.xml.gz  pubmed21n0624.xml.gz  pubmed21n1051.xml.gz\npubmed21n0198.xml.gz  pubmed21n0625.xml.gz  pubmed21n1052.xml.gz\npubmed21n0199.xml.gz  pubmed21n0626.xml.gz  pubmed21n1053.xml.gz\npubmed21n0200.xml.gz  pubmed21n0627.xml.gz  pubmed21n1054.xml.gz\npubmed21n0201.xml.gz  pubmed21n0628.xml.gz  pubmed21n1055.xml.gz\npubmed21n0202.xml.gz  pubmed21n0629.xml.gz  pubmed21n1056.xml.gz\npubmed21n0203.xml.gz  pubmed21n0630.xml.gz  pubmed21n1057.xml.gz\npubmed21n0204.xml.gz  pubmed21n0631.xml.gz  pubmed21n1058.xml.gz\npubmed21n0205.xml.gz  pubmed21n0632.xml.gz  pubmed21n1059.xml.gz\npubmed21n0206.xml.gz  pubmed21n0633.xml.gz  pubmed21n1060.xml.gz\npubmed21n0207.xml.gz  pubmed21n0634.xml.gz  pubmed21n1061.xml.gz\npubmed21n0208.xml.gz  pubmed21n0635.xml.gz  pubmed21n1062.xml.gz\npubmed21n0209.xml.gz  pubmed21n0636.xml.gz  pubmed21n1063.xml.gz\npubmed21n0210.xml.gz  pubmed21n0637.xml.gz  pubmed21n1064.xml.gz\npubmed21n0211.xml.gz  pubmed21n0638.xml.gz  pubmed21n1065.xml.gz\npubmed21n0212.xml.gz  pubmed21n0639.xml.gz  pubmed21n1066.xml.gz\npubmed21n0213.xml.gz  pubmed21n0640.xml.gz  pubmed21n1067.xml.gz\npubmed21n0214.xml.gz  pubmed21n0641.xml.gz  pubmed21n1068.xml.gz\npubmed21n0215.xml.gz  pubmed21n0642.xml.gz  pubmed21n1069.xml.gz\npubmed21n0216.xml.gz  pubmed21n0643.xml.gz  pubmed21n1070.xml.gz\npubmed21n0217.xml.gz  pubmed21n0644.xml.gz  pubmed21n1071.xml.gz\npubmed21n0218.xml.gz  pubmed21n0645.xml.gz  pubmed21n1072.xml.gz\npubmed21n0219.xml.gz  pubmed21n0646.xml.gz  pubmed21n1073.xml.gz\npubmed21n0220.xml.gz  pubmed21n0647.xml.gz  pubmed21n1074.xml.gz\npubmed21n0221.xml.gz  pubmed21n0648.xml.gz  pubmed21n1075.xml.gz\npubmed21n0222.xml.gz  pubmed21n0649.xml.gz  pubmed21n1076.xml.gz\npubmed21n0223.xml.gz  pubmed21n0650.xml.gz  pubmed21n1077.xml.gz\npubmed21n0224.xml.gz  pubmed21n0651.xml.gz  pubmed21n1078.xml.gz\npubmed21n0225.xml.gz  pubmed21n0652.xml.gz  pubmed21n1079.xml.gz\npubmed21n0226.xml.gz  pubmed21n0653.xml.gz  pubmed21n1080.xml.gz\npubmed21n0227.xml.gz  pubmed21n0654.xml.gz  pubmed21n1081.xml.gz\npubmed21n0228.xml.gz  pubmed21n0655.xml.gz  pubmed21n1082.xml.gz\npubmed21n0229.xml.gz  pubmed21n0656.xml.gz  pubmed21n1083.xml.gz\npubmed21n0230.xml.gz  pubmed21n0657.xml.gz  pubmed21n1084.xml.gz\npubmed21n0231.xml.gz  pubmed21n0658.xml.gz  pubmed21n1085.xml.gz\npubmed21n0232.xml.gz  pubmed21n0659.xml.gz  pubmed21n1086.xml.gz\npubmed21n0233.xml.gz  pubmed21n0660.xml.gz  pubmed21n1087.xml.gz\npubmed21n0234.xml.gz  pubmed21n0661.xml.gz  pubmed21n1088.xml.gz\npubmed21n0235.xml.gz  pubmed21n0662.xml.gz  pubmed21n1089.xml.gz\npubmed21n0236.xml.gz  pubmed21n0663.xml.gz  pubmed21n1090.xml.gz\npubmed21n0237.xml.gz  pubmed21n0664.xml.gz  pubmed21n1091.xml.gz\npubmed21n0238.xml.gz  pubmed21n0665.xml.gz  pubmed21n1092.xml.gz\npubmed21n0239.xml.gz  pubmed21n0666.xml.gz  pubmed21n1093.xml.gz\npubmed21n0240.xml.gz  pubmed21n0667.xml.gz  pubmed21n1094.xml.gz\npubmed21n0241.xml.gz  pubmed21n0668.xml.gz  pubmed21n1095.xml.gz\npubmed21n0242.xml.gz  pubmed21n0669.xml.gz  pubmed21n1096.xml.gz\npubmed21n0243.xml.gz  pubmed21n0670.xml.gz  pubmed21n1097.xml.gz\npubmed21n0244.xml.gz  pubmed21n0671.xml.gz  pubmed21n1098.xml.gz\npubmed21n0245.xml.gz  pubmed21n0672.xml.gz  pubmed21n1099.xml.gz\npubmed21n0246.xml.gz  pubmed21n0673.xml.gz  pubmed21n1100.xml.gz\npubmed21n0247.xml.gz  pubmed21n0674.xml.gz  pubmed21n1101.xml.gz\npubmed21n0248.xml.gz  pubmed21n0675.xml.gz  pubmed21n1102.xml.gz\npubmed21n0249.xml.gz  pubmed21n0676.xml.gz  pubmed21n1103.xml.gz\npubmed21n0250.xml.gz  pubmed21n0677.xml.gz  pubmed21n1104.xml.gz\npubmed21n0251.xml.gz  pubmed21n0678.xml.gz  pubmed21n1105.xml.gz\npubmed21n0252.xml.gz  pubmed21n0679.xml.gz  pubmed21n1106.xml.gz\npubmed21n0253.xml.gz  pubmed21n0680.xml.gz  pubmed21n1107.xml.gz\npubmed21n0254.xml.gz  pubmed21n0681.xml.gz  pubmed21n1108.xml.gz\npubmed21n0255.xml.gz  pubmed21n0682.xml.gz  pubmed21n1109.xml.gz\npubmed21n0256.xml.gz  pubmed21n0683.xml.gz  pubmed21n1110.xml.gz\npubmed21n0257.xml.gz  pubmed21n0684.xml.gz  pubmed21n1111.xml.gz\npubmed21n0258.xml.gz  pubmed21n0685.xml.gz  pubmed21n1112.xml.gz\npubmed21n0259.xml.gz  pubmed21n0686.xml.gz  pubmed21n1113.xml.gz\npubmed21n0260.xml.gz  pubmed21n0687.xml.gz  pubmed21n1114.xml.gz\npubmed21n0261.xml.gz  pubmed21n0688.xml.gz  pubmed21n1115.xml.gz\npubmed21n0262.xml.gz  pubmed21n0689.xml.gz  pubmed21n1116.xml.gz\npubmed21n0263.xml.gz  pubmed21n0690.xml.gz  pubmed21n1117.xml.gz\npubmed21n0264.xml.gz  pubmed21n0691.xml.gz  pubmed21n1118.xml.gz\npubmed21n0265.xml.gz  pubmed21n0692.xml.gz  pubmed21n1119.xml.gz\npubmed21n0266.xml.gz  pubmed21n0693.xml.gz  pubmed21n1120.xml.gz\npubmed21n0267.xml.gz  pubmed21n0694.xml.gz  pubmed21n1121.xml.gz\npubmed21n0268.xml.gz  pubmed21n0695.xml.gz  pubmed21n1122.xml.gz\npubmed21n0269.xml.gz  pubmed21n0696.xml.gz  pubmed21n1123.xml.gz\npubmed21n0270.xml.gz  pubmed21n0697.xml.gz  pubmed21n1124.xml.gz\npubmed21n0271.xml.gz  pubmed21n0698.xml.gz  pubmed21n1125.xml.gz\npubmed21n0272.xml.gz  pubmed21n0699.xml.gz  pubmed21n1126.xml.gz\npubmed21n0273.xml.gz  pubmed21n0700.xml.gz  pubmed21n1127.xml.gz\npubmed21n0274.xml.gz  pubmed21n0701.xml.gz  pubmed21n1128.xml.gz\npubmed21n0275.xml.gz  pubmed21n0702.xml.gz  pubmed21n1129.xml.gz\npubmed21n0276.xml.gz  pubmed21n0703.xml.gz  pubmed21n1130.xml.gz\npubmed21n0277.xml.gz  pubmed21n0704.xml.gz  pubmed21n1131.xml.gz\npubmed21n0278.xml.gz  pubmed21n0705.xml.gz  pubmed21n1132.xml.gz\npubmed21n0279.xml.gz  pubmed21n0706.xml.gz  pubmed21n1133.xml.gz\npubmed21n0280.xml.gz  pubmed21n0707.xml.gz  pubmed21n1134.xml.gz\npubmed21n0281.xml.gz  pubmed21n0708.xml.gz  pubmed21n1135.xml.gz\npubmed21n0282.xml.gz  pubmed21n0709.xml.gz  pubmed21n1136.xml.gz\npubmed21n0283.xml.gz  pubmed21n0710.xml.gz  pubmed21n1137.xml.gz\npubmed21n0284.xml.gz  pubmed21n0711.xml.gz  pubmed21n1138.xml.gz\npubmed21n0285.xml.gz  pubmed21n0712.xml.gz  pubmed21n1139.xml.gz\npubmed21n0286.xml.gz  pubmed21n0713.xml.gz  pubmed21n1140.xml.gz\npubmed21n0287.xml.gz  pubmed21n0714.xml.gz  pubmed21n1141.xml.gz\npubmed21n0288.xml.gz  pubmed21n0715.xml.gz  pubmed21n1142.xml.gz\npubmed21n0289.xml.gz  pubmed21n0716.xml.gz  pubmed21n1143.xml.gz\npubmed21n0290.xml.gz  pubmed21n0717.xml.gz  pubmed21n1144.xml.gz\npubmed21n0291.xml.gz  pubmed21n0718.xml.gz  pubmed21n1145.xml.gz\npubmed21n0292.xml.gz  pubmed21n0719.xml.gz  pubmed21n1146.xml.gz\npubmed21n0293.xml.gz  pubmed21n0720.xml.gz  pubmed21n1147.xml.gz\npubmed21n0294.xml.gz  pubmed21n0721.xml.gz  pubmed21n1148.xml.gz\npubmed21n0295.xml.gz  pubmed21n0722.xml.gz  pubmed21n1149.xml.gz\npubmed21n0296.xml.gz  pubmed21n0723.xml.gz  pubmed21n1150.xml.gz\npubmed21n0297.xml.gz  pubmed21n0724.xml.gz  pubmed21n1151.xml.gz\npubmed21n0298.xml.gz  pubmed21n0725.xml.gz  pubmed21n1152.xml.gz\npubmed21n0299.xml.gz  pubmed21n0726.xml.gz  pubmed21n1153.xml.gz\npubmed21n0300.xml.gz  pubmed21n0727.xml.gz  pubmed21n1154.xml.gz\npubmed21n0301.xml.gz  pubmed21n0728.xml.gz  pubmed21n1155.xml.gz\npubmed21n0302.xml.gz  pubmed21n0729.xml.gz  pubmed21n1156.xml.gz\npubmed21n0303.xml.gz  pubmed21n0730.xml.gz  pubmed21n1157.xml.gz\npubmed21n0304.xml.gz  pubmed21n0731.xml.gz  pubmed21n1158.xml.gz\npubmed21n0305.xml.gz  pubmed21n0732.xml.gz  pubmed21n1159.xml.gz\npubmed21n0306.xml.gz  pubmed21n0733.xml.gz  pubmed21n1160.xml.gz\npubmed21n0307.xml.gz  pubmed21n0734.xml.gz  pubmed21n1161.xml.gz\npubmed21n0308.xml.gz  pubmed21n0735.xml.gz  pubmed21n1162.xml.gz\npubmed21n0309.xml.gz  pubmed21n0736.xml.gz  pubmed21n1163.xml.gz\npubmed21n0310.xml.gz  pubmed21n0737.xml.gz  pubmed21n1164.xml.gz\npubmed21n0311.xml.gz  pubmed21n0738.xml.gz  pubmed21n1165.xml.gz\npubmed21n0312.xml.gz  pubmed21n0739.xml.gz  pubmed21n1166.xml.gz\npubmed21n0313.xml.gz  pubmed21n0740.xml.gz  pubmed21n1167.xml.gz\npubmed21n0314.xml.gz  pubmed21n0741.xml.gz  pubmed21n1168.xml.gz\npubmed21n0315.xml.gz  pubmed21n0742.xml.gz  pubmed21n1169.xml.gz\npubmed21n0316.xml.gz  pubmed21n0743.xml.gz  pubmed21n1170.xml.gz\npubmed21n0317.xml.gz  pubmed21n0744.xml.gz  pubmed21n1171.xml.gz\npubmed21n0318.xml.gz  pubmed21n0745.xml.gz  pubmed21n1172.xml.gz\npubmed21n0319.xml.gz  pubmed21n0746.xml.gz  pubmed21n1173.xml.gz\npubmed21n0320.xml.gz  pubmed21n0747.xml.gz  pubmed21n1174.xml.gz\npubmed21n0321.xml.gz  pubmed21n0748.xml.gz  pubmed21n1175.xml.gz\npubmed21n0322.xml.gz  pubmed21n0749.xml.gz  pubmed21n1176.xml.gz\npubmed21n0323.xml.gz  pubmed21n0750.xml.gz  pubmed21n1177.xml.gz\npubmed21n0324.xml.gz  pubmed21n0751.xml.gz  pubmed21n1178.xml.gz\npubmed21n0325.xml.gz  pubmed21n0752.xml.gz  pubmed21n1179.xml.gz\npubmed21n0326.xml.gz  pubmed21n0753.xml.gz  pubmed21n1180.xml.gz\npubmed21n0327.xml.gz  pubmed21n0754.xml.gz  pubmed21n1181.xml.gz\npubmed21n0328.xml.gz  pubmed21n0755.xml.gz  pubmed21n1182.xml.gz\npubmed21n0329.xml.gz  pubmed21n0756.xml.gz  pubmed21n1183.xml.gz\npubmed21n0330.xml.gz  pubmed21n0757.xml.gz  pubmed21n1184.xml.gz\npubmed21n0331.xml.gz  pubmed21n0758.xml.gz  pubmed21n1185.xml.gz\npubmed21n0332.xml.gz  pubmed21n0759.xml.gz  pubmed21n1186.xml.gz\npubmed21n0333.xml.gz  pubmed21n0760.xml.gz  pubmed21n1187.xml.gz\npubmed21n0334.xml.gz  pubmed21n0761.xml.gz  pubmed21n1188.xml.gz\npubmed21n0335.xml.gz  pubmed21n0762.xml.gz  pubmed21n1189.xml.gz\npubmed21n0336.xml.gz  pubmed21n0763.xml.gz  pubmed21n1190.xml.gz\npubmed21n0337.xml.gz  pubmed21n0764.xml.gz  pubmed21n1191.xml.gz\npubmed21n0338.xml.gz  pubmed21n0765.xml.gz  pubmed21n1192.xml.gz\npubmed21n0339.xml.gz  pubmed21n0766.xml.gz  pubmed21n1193.xml.gz\npubmed21n0340.xml.gz  pubmed21n0767.xml.gz  pubmed21n1194.xml.gz\npubmed21n0341.xml.gz  pubmed21n0768.xml.gz  pubmed21n1195.xml.gz\npubmed21n0342.xml.gz  pubmed21n0769.xml.gz  pubmed21n1196.xml.gz\npubmed21n0343.xml.gz  pubmed21n0770.xml.gz  pubmed21n1197.xml.gz\npubmed21n0344.xml.gz  pubmed21n0771.xml.gz  pubmed21n1198.xml.gz\npubmed21n0345.xml.gz  pubmed21n0772.xml.gz  pubmed21n1199.xml.gz\npubmed21n0346.xml.gz  pubmed21n0773.xml.gz  pubmed21n1200.xml.gz\npubmed21n0347.xml.gz  pubmed21n0774.xml.gz  pubmed21n1201.xml.gz\npubmed21n0348.xml.gz  pubmed21n0775.xml.gz  pubmed21n1202.xml.gz\npubmed21n0349.xml.gz  pubmed21n0776.xml.gz  pubmed21n1203.xml.gz\npubmed21n0350.xml.gz  pubmed21n0777.xml.gz  pubmed21n1204.xml.gz\npubmed21n0351.xml.gz  pubmed21n0778.xml.gz  pubmed21n1205.xml.gz\npubmed21n0352.xml.gz  pubmed21n0779.xml.gz  pubmed21n1206.xml.gz\npubmed21n0353.xml.gz  pubmed21n0780.xml.gz  pubmed21n1207.xml.gz\npubmed21n0354.xml.gz  pubmed21n0781.xml.gz  pubmed21n1208.xml.gz\npubmed21n0355.xml.gz  pubmed21n0782.xml.gz  pubmed21n1209.xml.gz\npubmed21n0356.xml.gz  pubmed21n0783.xml.gz  pubmed21n1210.xml.gz\npubmed21n0357.xml.gz  pubmed21n0784.xml.gz  pubmed21n1211.xml.gz\npubmed21n0358.xml.gz  pubmed21n0785.xml.gz  pubmed21n1212.xml.gz\npubmed21n0359.xml.gz  pubmed21n0786.xml.gz  pubmed21n1213.xml.gz\npubmed21n0360.xml.gz  pubmed21n0787.xml.gz  pubmed21n1214.xml.gz\npubmed21n0361.xml.gz  pubmed21n0788.xml.gz  pubmed21n1215.xml.gz\npubmed21n0362.xml.gz  pubmed21n0789.xml.gz  pubmed21n1216.xml.gz\npubmed21n0363.xml.gz  pubmed21n0790.xml.gz  pubmed21n1217.xml.gz\npubmed21n0364.xml.gz  pubmed21n0791.xml.gz  pubmed21n1218.xml.gz\npubmed21n0365.xml.gz  pubmed21n0792.xml.gz  pubmed21n1219.xml.gz\npubmed21n0366.xml.gz  pubmed21n0793.xml.gz  pubmed21n1220.xml.gz\npubmed21n0367.xml.gz  pubmed21n0794.xml.gz  pubmed21n1221.xml.gz\npubmed21n0368.xml.gz  pubmed21n0795.xml.gz  pubmed21n1222.xml.gz\npubmed21n0369.xml.gz  pubmed21n0796.xml.gz  pubmed21n1223.xml.gz\npubmed21n0370.xml.gz  pubmed21n0797.xml.gz  pubmed21n1224.xml.gz\npubmed21n0371.xml.gz  pubmed21n0798.xml.gz  pubmed21n1225.xml.gz\npubmed21n0372.xml.gz  pubmed21n0799.xml.gz  pubmed21n1226.xml.gz\npubmed21n0373.xml.gz  pubmed21n0800.xml.gz  pubmed21n1227.xml.gz\npubmed21n0374.xml.gz  pubmed21n0801.xml.gz  pubmed21n1228.xml.gz\npubmed21n0375.xml.gz  pubmed21n0802.xml.gz  pubmed21n1229.xml.gz\npubmed21n0376.xml.gz  pubmed21n0803.xml.gz  pubmed21n1230.xml.gz\npubmed21n0377.xml.gz  pubmed21n0804.xml.gz  pubmed21n1231.xml.gz\npubmed21n0378.xml.gz  pubmed21n0805.xml.gz  pubmed21n1232.xml.gz\npubmed21n0379.xml.gz  pubmed21n0806.xml.gz  pubmed21n1233.xml.gz\npubmed21n0380.xml.gz  pubmed21n0807.xml.gz  pubmed21n1234.xml.gz\npubmed21n0381.xml.gz  pubmed21n0808.xml.gz  pubmed21n1235.xml.gz\npubmed21n0382.xml.gz  pubmed21n0809.xml.gz  pubmed21n1236.xml.gz\npubmed21n0383.xml.gz  pubmed21n0810.xml.gz  pubmed21n1237.xml.gz\npubmed21n0384.xml.gz  pubmed21n0811.xml.gz  pubmed21n1238.xml.gz\npubmed21n0385.xml.gz  pubmed21n0812.xml.gz  pubmed21n1239.xml.gz\npubmed21n0386.xml.gz  pubmed21n0813.xml.gz  pubmed21n1240.xml.gz\npubmed21n0387.xml.gz  pubmed21n0814.xml.gz  pubmed21n1241.xml.gz\npubmed21n0388.xml.gz  pubmed21n0815.xml.gz  pubmed21n1242.xml.gz\npubmed21n0389.xml.gz  pubmed21n0816.xml.gz  pubmed21n1243.xml.gz\npubmed21n0390.xml.gz  pubmed21n0817.xml.gz  pubmed21n1244.xml.gz\npubmed21n0391.xml.gz  pubmed21n0818.xml.gz  pubmed21n1245.xml.gz\npubmed21n0392.xml.gz  pubmed21n0819.xml.gz  pubmed21n1246.xml.gz\npubmed21n0393.xml.gz  pubmed21n0820.xml.gz  pubmed21n1247.xml.gz\npubmed21n0394.xml.gz  pubmed21n0821.xml.gz  pubmed21n1248.xml.gz\npubmed21n0395.xml.gz  pubmed21n0822.xml.gz  pubmed21n1249.xml.gz\npubmed21n0396.xml.gz  pubmed21n0823.xml.gz  pubmed21n1250.xml.gz\npubmed21n0397.xml.gz  pubmed21n0824.xml.gz  pubmed21n1251.xml.gz\npubmed21n0398.xml.gz  pubmed21n0825.xml.gz  pubmed21n1252.xml.gz\npubmed21n0399.xml.gz  pubmed21n0826.xml.gz  pubmed21n1253.xml.gz\npubmed21n0400.xml.gz  pubmed21n0827.xml.gz  pubmed21n1254.xml.gz\npubmed21n0401.xml.gz  pubmed21n0828.xml.gz  pubmed21n1255.xml.gz\npubmed21n0402.xml.gz  pubmed21n0829.xml.gz  pubmed21n1256.xml.gz\npubmed21n0403.xml.gz  pubmed21n0830.xml.gz  pubmed21n1257.xml.gz\npubmed21n0404.xml.gz  pubmed21n0831.xml.gz  pubmed21n1258.xml.gz\npubmed21n0405.xml.gz  pubmed21n0832.xml.gz  pubmed21n1259.xml.gz\npubmed21n0406.xml.gz  pubmed21n0833.xml.gz  pubmed21n1260.xml.gz\npubmed21n0407.xml.gz  pubmed21n0834.xml.gz  pubmed21n1261.xml.gz\npubmed21n0408.xml.gz  pubmed21n0835.xml.gz  pubmed21n1262.xml.gz\npubmed21n0409.xml.gz  pubmed21n0836.xml.gz  pubmed21n1263.xml.gz\npubmed21n0410.xml.gz  pubmed21n0837.xml.gz  pubmed21n1264.xml.gz\npubmed21n0411.xml.gz  pubmed21n0838.xml.gz  pubmed21n1265.xml.gz\npubmed21n0412.xml.gz  pubmed21n0839.xml.gz  pubmed21n1266.xml.gz\npubmed21n0413.xml.gz  pubmed21n0840.xml.gz  pubmed21n1267.xml.gz\npubmed21n0414.xml.gz  pubmed21n0841.xml.gz  pubmed21n1268.xml.gz\npubmed21n0415.xml.gz  pubmed21n0842.xml.gz  pubmed21n1269.xml.gz\npubmed21n0416.xml.gz  pubmed21n0843.xml.gz  pubmed21n1270.xml.gz\npubmed21n0417.xml.gz  pubmed21n0844.xml.gz  pubmed21n1271.xml.gz\npubmed21n0418.xml.gz  pubmed21n0845.xml.gz  pubmed21n1272.xml.gz\npubmed21n0419.xml.gz  pubmed21n0846.xml.gz  pubmed21n1273.xml.gz\npubmed21n0420.xml.gz  pubmed21n0847.xml.gz  pubmed21n1274.xml.gz\npubmed21n0421.xml.gz  pubmed21n0848.xml.gz  pubmed21n1275.xml.gz\npubmed21n0422.xml.gz  pubmed21n0849.xml.gz  pubmed21n1276.xml.gz\npubmed21n0423.xml.gz  pubmed21n0850.xml.gz  pubmed21n1277.xml.gz\npubmed21n0424.xml.gz  pubmed21n0851.xml.gz  pubmed21n1278.xml.gz\npubmed21n0425.xml.gz  pubmed21n0852.xml.gz  time_stamp.txt\npubmed21n0426.xml.gz  pubmed21n0853.xml.gz\npubmed21n0427.xml.gz  pubmed21n0854.xml.gz\n"
     ]
    }
   ],
   "source": [
    "!ls ~/medline_data/pubmed21n0974.xml.gz"
   ]
  },
  {
   "cell_type": "code",
   "execution_count": 20,
   "metadata": {},
   "outputs": [
    {
     "output_type": "execute_result",
     "data": {
      "text/plain": [
       "                                                   title  \\\n",
       "0      Integrated wastewater management: The future o...   \n",
       "1        Learned Discourses: Timely Scientific Opinions.   \n",
       "2      Efficacy and tolerability of adjunctive peramp...   \n",
       "3      Clinical practice guideline for the diagnosis ...   \n",
       "4      The association between preeclampsia and autis...   \n",
       "...                                                  ...   \n",
       "29995  Azaindolo[3,2,1-jk]carbazoles: New Building Bl...   \n",
       "29996  Heteroatom-Doped Porous Carbon Materials with ...   \n",
       "29997  Cervical and High-Thoracic Dorsal Root Ganglio...   \n",
       "29998                                           Erratum.   \n",
       "29999  Nuclear FGFR2 regulates musculoskeletal integr...   \n",
       "\n",
       "                                                abstract  \\\n",
       "0                                                          \n",
       "1                                                          \n",
       "2      PURPOSE\\nThere is limited data on the use of p...   \n",
       "3      The Committee on Pediatric Obesity of the Kore...   \n",
       "4      PURPOSE\\nThis meta-analysis pooled relevant ca...   \n",
       "...                                                  ...   \n",
       "29995  The preparation and characterization of 12 aza...   \n",
       "29996  The design of carbon-based materials with a hi...   \n",
       "29997  INTRODUCTION\\nDorsal root ganglion stimulation...   \n",
       "29998                                                      \n",
       "29999  BACKGROUND\\nBent bone dysplasia syndrome (BBDS...   \n",
       "\n",
       "                                                 journal  \\\n",
       "0      Integrated environmental assessment and manage...   \n",
       "1      Integrated environmental assessment and manage...   \n",
       "2                           Korean journal of pediatrics   \n",
       "3                           Korean journal of pediatrics   \n",
       "4                           Korean journal of pediatrics   \n",
       "...                                                  ...   \n",
       "29995   Chemistry (Weinheim an der Bergstrasse, Germany)   \n",
       "29996   Angewandte Chemie (International ed. in English)   \n",
       "29997  Neuromodulation : journal of the International...   \n",
       "29998  Conservation biology : the journal of the Soci...   \n",
       "29999  Developmental dynamics : an official publicati...   \n",
       "\n",
       "                                                 authors pubdate      pmid  \\\n",
       "0                                        G Tchobanoglous    2019  30589997   \n",
       "1                                                           2019  30589998   \n",
       "2                     Y Yun;D Kim;YJ Lee;S Kwon;SK Hwang    2019  30590000   \n",
       "3      DY Yi;SC Kim;JH Lee;EH Lee;JY Kim;YJ Kim;KS Ka...    2019  30589999   \n",
       "4                E Jenabi;M Karami;S Khazaei;S Bashirian    2019  30590001   \n",
       "...                                                  ...     ...       ...   \n",
       "29995               T Kader;B Stöger;J Fröhlich;P Kautny    2019  30620787   \n",
       "29996  H Jin;X Feng;J Li;M Li;Y Xia;Y Yuan;C Yang;B D...    2019  30620788   \n",
       "29997       GS Piedade;J Vesper;A Chatzikalfas;PJ Slotty    2019  30620789   \n",
       "29998                                                       2019  30620791   \n",
       "29999           JE Salva;RR Roberts;TS Stucky;AE Merrill    2019  30620790   \n",
       "\n",
       "                                              mesh_terms  \\\n",
       "0      D003247:Conservation of Natural Resources; D01...   \n",
       "1                                        D012586:Science   \n",
       "2                                                          \n",
       "3                                                          \n",
       "4                                                          \n",
       "...                                                  ...   \n",
       "29995                                                      \n",
       "29996                                                      \n",
       "29997  D000328:Adult; D000368:Aged; D002574:Cervical ...   \n",
       "29998                                                      \n",
       "29999  D000818:Animals; D001848:Bone Diseases, Develo...   \n",
       "\n",
       "                                       publication_types  \\\n",
       "0                                D016428:Journal Article   \n",
       "1                                D016428:Journal Article   \n",
       "2                                D016428:Journal Article   \n",
       "3                                D016428:Journal Article   \n",
       "4                                D016428:Journal Article   \n",
       "...                                                  ...   \n",
       "29995                            D016428:Journal Article   \n",
       "29996                            D016428:Journal Article   \n",
       "29997                               D002363:Case Reports   \n",
       "29998                          D016425:Published Erratum   \n",
       "29999  D016428:Journal Article; D052061:Research Supp...   \n",
       "\n",
       "                                           chemical_list  \\\n",
       "0                                    D062065:Waste Water   \n",
       "1                                                          \n",
       "2                                                          \n",
       "3                                                          \n",
       "4                                                          \n",
       "...                                                  ...   \n",
       "29995                                                      \n",
       "29996                                                      \n",
       "29997                                                      \n",
       "29998                                                      \n",
       "29999  D017468:Receptors, Fibroblast Growth Factor; C...   \n",
       "\n",
       "                                                keywords  \\\n",
       "0                                                          \n",
       "1                                                          \n",
       "2      Adverse events; Child; Efficacy; Perampanel; T...   \n",
       "3        Child; Diagnosis; Guideline; Obesity; Treatment   \n",
       "4      Autism; Autism spectrum disorder; Preeclampsia...   \n",
       "...                                                  ...   \n",
       "29995  C−H activation; carbazole; functional organic ...   \n",
       "29996  heteroatoms; high-density carbon materials; po...   \n",
       "29997  Dorsal root ganglion stimulation; neuromodulat...   \n",
       "29998                                                      \n",
       "29999  bent bone dysplasia syndrome; connective tissu...   \n",
       "\n",
       "                          doi  \\\n",
       "0           10.1002/ieam.4103   \n",
       "1           10.1002/ieam.4114   \n",
       "2      10.3345/kjp.2018.06863   \n",
       "3      10.3345/kjp.2018.07360   \n",
       "4      10.3345/kjp.2018.07010   \n",
       "...                       ...   \n",
       "29995  10.1002/chem.201805578   \n",
       "29996  10.1002/anie.201813686   \n",
       "29997       10.1111/ner.12916   \n",
       "29998      10.1111/cobi.13243   \n",
       "29999          10.1002/dvdy.9   \n",
       "\n",
       "                                              references  delete  \\\n",
       "0                                                          False   \n",
       "1                                                          False   \n",
       "2      21075011;21426333;22738069;23179642;23772853;2...   False   \n",
       "3      10730683;10805034;11126229;11134471;11291375;1...   False   \n",
       "4      15184241;15870155;17404128;19841112;19936906;2...   False   \n",
       "...                                                  ...     ...   \n",
       "29995  12746820;15844924;16402846;16551119;17165682;1...   False   \n",
       "29996                                                      False   \n",
       "29997                                                      False   \n",
       "29998                                                      False   \n",
       "29999  14667415;21750035;28386539;16501574;6096007;18...   False   \n",
       "\n",
       "                                            affiliations pmc other_id  \\\n",
       "0      Department of Civil and Environmental Engineer...                \n",
       "1                                                                       \n",
       "2      Department of Pediatrics, School of Medicine, ...                \n",
       "3      Department of Pediatrics, Chung-Ang University...                \n",
       "4      Pediatric Developmental Disorders Research Cen...                \n",
       "...                                                  ...  ..      ...   \n",
       "29995  Institute of Applied Synthetic Chemistry, TU W...                \n",
       "29996  College of Chemistry and Materials Engineering...                \n",
       "29997  Department of Neurosurgery, Heinrich-Heine-Uni...                \n",
       "29998                                                                   \n",
       "29999  Center for Craniofacial Molecular Biology, Her...                \n",
       "\n",
       "                        medline_ta nlm_unique_id issn_linking        country  \n",
       "0      Integr Environ Assess Manag     101234521    1551-3777  United States  \n",
       "1      Integr Environ Assess Manag     101234521    1551-3777  United States  \n",
       "2                 Korean J Pediatr     101215374    1738-1061  Korea (South)  \n",
       "3                 Korean J Pediatr     101215374    1738-1061  Korea (South)  \n",
       "4                 Korean J Pediatr     101215374    1738-1061  Korea (South)  \n",
       "...                            ...           ...          ...            ...  \n",
       "29995                    Chemistry       9513783    0947-6539        Germany  \n",
       "29996       Angew Chem Int Ed Engl       0370543    1433-7851        Germany  \n",
       "29997              Neuromodulation       9804159    1094-7159  United States  \n",
       "29998                 Conserv Biol       9882301    0888-8892  United States  \n",
       "29999                      Dev Dyn       9201927    1058-8388  United States  \n",
       "\n",
       "[30000 rows x 20 columns]"
      ],
      "text/html": "<div>\n<style scoped>\n    .dataframe tbody tr th:only-of-type {\n        vertical-align: middle;\n    }\n\n    .dataframe tbody tr th {\n        vertical-align: top;\n    }\n\n    .dataframe thead th {\n        text-align: right;\n    }\n</style>\n<table border=\"1\" class=\"dataframe\">\n  <thead>\n    <tr style=\"text-align: right;\">\n      <th></th>\n      <th>title</th>\n      <th>abstract</th>\n      <th>journal</th>\n      <th>authors</th>\n      <th>pubdate</th>\n      <th>pmid</th>\n      <th>mesh_terms</th>\n      <th>publication_types</th>\n      <th>chemical_list</th>\n      <th>keywords</th>\n      <th>doi</th>\n      <th>references</th>\n      <th>delete</th>\n      <th>affiliations</th>\n      <th>pmc</th>\n      <th>other_id</th>\n      <th>medline_ta</th>\n      <th>nlm_unique_id</th>\n      <th>issn_linking</th>\n      <th>country</th>\n    </tr>\n  </thead>\n  <tbody>\n    <tr>\n      <th>0</th>\n      <td>Integrated wastewater management: The future o...</td>\n      <td></td>\n      <td>Integrated environmental assessment and manage...</td>\n      <td>G Tchobanoglous</td>\n      <td>2019</td>\n      <td>30589997</td>\n      <td>D003247:Conservation of Natural Resources; D01...</td>\n      <td>D016428:Journal Article</td>\n      <td>D062065:Waste Water</td>\n      <td></td>\n      <td>10.1002/ieam.4103</td>\n      <td></td>\n      <td>False</td>\n      <td>Department of Civil and Environmental Engineer...</td>\n      <td></td>\n      <td></td>\n      <td>Integr Environ Assess Manag</td>\n      <td>101234521</td>\n      <td>1551-3777</td>\n      <td>United States</td>\n    </tr>\n    <tr>\n      <th>1</th>\n      <td>Learned Discourses: Timely Scientific Opinions.</td>\n      <td></td>\n      <td>Integrated environmental assessment and manage...</td>\n      <td></td>\n      <td>2019</td>\n      <td>30589998</td>\n      <td>D012586:Science</td>\n      <td>D016428:Journal Article</td>\n      <td></td>\n      <td></td>\n      <td>10.1002/ieam.4114</td>\n      <td></td>\n      <td>False</td>\n      <td></td>\n      <td></td>\n      <td></td>\n      <td>Integr Environ Assess Manag</td>\n      <td>101234521</td>\n      <td>1551-3777</td>\n      <td>United States</td>\n    </tr>\n    <tr>\n      <th>2</th>\n      <td>Efficacy and tolerability of adjunctive peramp...</td>\n      <td>PURPOSE\\nThere is limited data on the use of p...</td>\n      <td>Korean journal of pediatrics</td>\n      <td>Y Yun;D Kim;YJ Lee;S Kwon;SK Hwang</td>\n      <td>2019</td>\n      <td>30590000</td>\n      <td></td>\n      <td>D016428:Journal Article</td>\n      <td></td>\n      <td>Adverse events; Child; Efficacy; Perampanel; T...</td>\n      <td>10.3345/kjp.2018.06863</td>\n      <td>21075011;21426333;22738069;23179642;23772853;2...</td>\n      <td>False</td>\n      <td>Department of Pediatrics, School of Medicine, ...</td>\n      <td></td>\n      <td></td>\n      <td>Korean J Pediatr</td>\n      <td>101215374</td>\n      <td>1738-1061</td>\n      <td>Korea (South)</td>\n    </tr>\n    <tr>\n      <th>3</th>\n      <td>Clinical practice guideline for the diagnosis ...</td>\n      <td>The Committee on Pediatric Obesity of the Kore...</td>\n      <td>Korean journal of pediatrics</td>\n      <td>DY Yi;SC Kim;JH Lee;EH Lee;JY Kim;YJ Kim;KS Ka...</td>\n      <td>2019</td>\n      <td>30589999</td>\n      <td></td>\n      <td>D016428:Journal Article</td>\n      <td></td>\n      <td>Child; Diagnosis; Guideline; Obesity; Treatment</td>\n      <td>10.3345/kjp.2018.07360</td>\n      <td>10730683;10805034;11126229;11134471;11291375;1...</td>\n      <td>False</td>\n      <td>Department of Pediatrics, Chung-Ang University...</td>\n      <td></td>\n      <td></td>\n      <td>Korean J Pediatr</td>\n      <td>101215374</td>\n      <td>1738-1061</td>\n      <td>Korea (South)</td>\n    </tr>\n    <tr>\n      <th>4</th>\n      <td>The association between preeclampsia and autis...</td>\n      <td>PURPOSE\\nThis meta-analysis pooled relevant ca...</td>\n      <td>Korean journal of pediatrics</td>\n      <td>E Jenabi;M Karami;S Khazaei;S Bashirian</td>\n      <td>2019</td>\n      <td>30590001</td>\n      <td></td>\n      <td>D016428:Journal Article</td>\n      <td></td>\n      <td>Autism; Autism spectrum disorder; Preeclampsia...</td>\n      <td>10.3345/kjp.2018.07010</td>\n      <td>15184241;15870155;17404128;19841112;19936906;2...</td>\n      <td>False</td>\n      <td>Pediatric Developmental Disorders Research Cen...</td>\n      <td></td>\n      <td></td>\n      <td>Korean J Pediatr</td>\n      <td>101215374</td>\n      <td>1738-1061</td>\n      <td>Korea (South)</td>\n    </tr>\n    <tr>\n      <th>...</th>\n      <td>...</td>\n      <td>...</td>\n      <td>...</td>\n      <td>...</td>\n      <td>...</td>\n      <td>...</td>\n      <td>...</td>\n      <td>...</td>\n      <td>...</td>\n      <td>...</td>\n      <td>...</td>\n      <td>...</td>\n      <td>...</td>\n      <td>...</td>\n      <td>...</td>\n      <td>...</td>\n      <td>...</td>\n      <td>...</td>\n      <td>...</td>\n      <td>...</td>\n    </tr>\n    <tr>\n      <th>29995</th>\n      <td>Azaindolo[3,2,1-jk]carbazoles: New Building Bl...</td>\n      <td>The preparation and characterization of 12 aza...</td>\n      <td>Chemistry (Weinheim an der Bergstrasse, Germany)</td>\n      <td>T Kader;B Stöger;J Fröhlich;P Kautny</td>\n      <td>2019</td>\n      <td>30620787</td>\n      <td></td>\n      <td>D016428:Journal Article</td>\n      <td></td>\n      <td>C−H activation; carbazole; functional organic ...</td>\n      <td>10.1002/chem.201805578</td>\n      <td>12746820;15844924;16402846;16551119;17165682;1...</td>\n      <td>False</td>\n      <td>Institute of Applied Synthetic Chemistry, TU W...</td>\n      <td></td>\n      <td></td>\n      <td>Chemistry</td>\n      <td>9513783</td>\n      <td>0947-6539</td>\n      <td>Germany</td>\n    </tr>\n    <tr>\n      <th>29996</th>\n      <td>Heteroatom-Doped Porous Carbon Materials with ...</td>\n      <td>The design of carbon-based materials with a hi...</td>\n      <td>Angewandte Chemie (International ed. in English)</td>\n      <td>H Jin;X Feng;J Li;M Li;Y Xia;Y Yuan;C Yang;B D...</td>\n      <td>2019</td>\n      <td>30620788</td>\n      <td></td>\n      <td>D016428:Journal Article</td>\n      <td></td>\n      <td>heteroatoms; high-density carbon materials; po...</td>\n      <td>10.1002/anie.201813686</td>\n      <td></td>\n      <td>False</td>\n      <td>College of Chemistry and Materials Engineering...</td>\n      <td></td>\n      <td></td>\n      <td>Angew Chem Int Ed Engl</td>\n      <td>0370543</td>\n      <td>1433-7851</td>\n      <td>Germany</td>\n    </tr>\n    <tr>\n      <th>29997</th>\n      <td>Cervical and High-Thoracic Dorsal Root Ganglio...</td>\n      <td>INTRODUCTION\\nDorsal root ganglion stimulation...</td>\n      <td>Neuromodulation : journal of the International...</td>\n      <td>GS Piedade;J Vesper;A Chatzikalfas;PJ Slotty</td>\n      <td>2019</td>\n      <td>30620789</td>\n      <td>D000328:Adult; D000368:Aged; D002574:Cervical ...</td>\n      <td>D002363:Case Reports</td>\n      <td></td>\n      <td>Dorsal root ganglion stimulation; neuromodulat...</td>\n      <td>10.1111/ner.12916</td>\n      <td></td>\n      <td>False</td>\n      <td>Department of Neurosurgery, Heinrich-Heine-Uni...</td>\n      <td></td>\n      <td></td>\n      <td>Neuromodulation</td>\n      <td>9804159</td>\n      <td>1094-7159</td>\n      <td>United States</td>\n    </tr>\n    <tr>\n      <th>29998</th>\n      <td>Erratum.</td>\n      <td></td>\n      <td>Conservation biology : the journal of the Soci...</td>\n      <td></td>\n      <td>2019</td>\n      <td>30620791</td>\n      <td></td>\n      <td>D016425:Published Erratum</td>\n      <td></td>\n      <td></td>\n      <td>10.1111/cobi.13243</td>\n      <td></td>\n      <td>False</td>\n      <td></td>\n      <td></td>\n      <td></td>\n      <td>Conserv Biol</td>\n      <td>9882301</td>\n      <td>0888-8892</td>\n      <td>United States</td>\n    </tr>\n    <tr>\n      <th>29999</th>\n      <td>Nuclear FGFR2 regulates musculoskeletal integr...</td>\n      <td>BACKGROUND\\nBent bone dysplasia syndrome (BBDS...</td>\n      <td>Developmental dynamics : an official publicati...</td>\n      <td>JE Salva;RR Roberts;TS Stucky;AE Merrill</td>\n      <td>2019</td>\n      <td>30620790</td>\n      <td>D000818:Animals; D001848:Bone Diseases, Develo...</td>\n      <td>D016428:Journal Article; D052061:Research Supp...</td>\n      <td>D017468:Receptors, Fibroblast Growth Factor; C...</td>\n      <td>bent bone dysplasia syndrome; connective tissu...</td>\n      <td>10.1002/dvdy.9</td>\n      <td>14667415;21750035;28386539;16501574;6096007;18...</td>\n      <td>False</td>\n      <td>Center for Craniofacial Molecular Biology, Her...</td>\n      <td></td>\n      <td></td>\n      <td>Dev Dyn</td>\n      <td>9201927</td>\n      <td>1058-8388</td>\n      <td>United States</td>\n    </tr>\n  </tbody>\n</table>\n<p>30000 rows × 20 columns</p>\n</div>"
     },
     "metadata": {},
     "execution_count": 20
    }
   ],
   "source": [
    "import pubmed_parser as pp\n",
    "path_f = \"/home/eileen/medline_data/pubmed21n0974.xml.gz\"\n",
    "dict = pp.parse_medline_xml(path_f)\n",
    "local_df = pd.DataFrame(dict)\n",
    "local_df"
   ]
  },
  {
   "cell_type": "code",
   "execution_count": 21,
   "metadata": {},
   "outputs": [
    {
     "output_type": "execute_result",
     "data": {
      "text/plain": [
       "'0.2.2'"
      ]
     },
     "metadata": {},
     "execution_count": 21
    }
   ],
   "source": [
    "pp.__version__"
   ]
  },
  {
   "cell_type": "code",
   "execution_count": 22,
   "metadata": {},
   "outputs": [
    {
     "output_type": "stream",
     "name": "stdout",
     "text": [
      "Package                            Version    Location\n",
      "---------------------------------- ---------- -------------------------------\n",
      "absl-py                            0.11.0\n",
      "affinegap                          1.11\n",
      "alabaster                          0.7.12\n",
      "alembic                            1.4.3\n",
      "anaconda-client                    1.7.2\n",
      "anaconda-navigator                 1.9.7\n",
      "anaconda-project                   0.8.3\n",
      "apache-airflow                     1.10.12\n",
      "apispec                            1.3.3\n",
      "argcomplete                        1.12.1\n",
      "asn1crypto                         0.24.0\n",
      "astor                              0.8.1\n",
      "astroid                            2.2.5\n",
      "astropy                            3.2.1\n",
      "astunparse                         1.6.3\n",
      "async-generator                    1.10\n",
      "atomicwrites                       1.3.0\n",
      "attrs                              19.3.0\n",
      "awscli                             1.18.158\n",
      "Babel                              2.7.0\n",
      "backcall                           0.1.0\n",
      "backports.functools-lru-cache      1.5\n",
      "backports.os                       0.1.1\n",
      "backports.shutil-get-terminal-size 1.0.0\n",
      "backports.tempfile                 1.0\n",
      "backports.weakref                  1.0.post1\n",
      "bcrypt                             3.2.0\n",
      "beautifulsoup4                     4.7.1\n",
      "bitarray                           0.9.3\n",
      "bkcharts                           0.2\n",
      "bleach                             3.1.0\n",
      "blinker                            1.4\n",
      "blis                               0.4.1\n",
      "bokeh                              1.2.0\n",
      "boto                               2.49.0\n",
      "boto3                              1.15.17\n",
      "botocore                           1.18.17\n",
      "Bottleneck                         1.2.1\n",
      "BTrees                             4.7.2\n",
      "cached-property                    1.5.2\n",
      "cachetools                         4.2.0\n",
      "catalogue                          1.0.0\n",
      "categorical-distance               1.9\n",
      "cattrs                             1.0.0\n",
      "certifi                            2019.6.16\n",
      "certipy                            0.1.3\n",
      "cffi                               1.12.3\n",
      "chardet                            3.0.4\n",
      "Click                              7.0\n",
      "cloudpickle                        1.2.1\n",
      "clyent                             1.2.2\n",
      "colorama                           0.4.1\n",
      "colorlog                           4.0.2\n",
      "conda                              4.9.2\n",
      "conda-build                        3.18.8\n",
      "conda-package-handling             1.3.11\n",
      "conda-verify                       3.4.2\n",
      "configparser                       3.5.3\n",
      "contextlib2                        0.5.5\n",
      "coverage                           5.5\n",
      "croniter                           0.3.35\n",
      "cryptography                       2.7\n",
      "cycler                             0.10.0\n",
      "cymem                              2.0.3\n",
      "Cython                             0.29.12\n",
      "cytoolz                            0.10.0\n",
      "dask                               2.1.0\n",
      "datetime-distance                  0.1.3\n",
      "decorator                          4.4.0\n",
      "dedupe                             2.0.6\n",
      "dedupe-hcluster                    0.3.8\n",
      "dedupe-variable-datetime           0.1.5\n",
      "defusedxml                         0.6.0\n",
      "descartes                          1.1.0\n",
      "dill                               0.3.2\n",
      "distributed                        2.1.0\n",
      "dnspython                          2.0.0\n",
      "docutils                           0.14\n",
      "DoubleMetaphone                    0.1\n",
      "dumb-init                          1.2.2\n",
      "email-validator                    1.1.1\n",
      "entrypoints                        0.3\n",
      "et-xmlfile                         1.0.1\n",
      "faiss                              1.5.3\n",
      "fastcache                          1.1.0\n",
      "fastcluster                        1.1.26\n",
      "faster-than-walk                   0.9.5\n",
      "filelock                           3.0.12\n",
      "findspark                          1.4.2\n",
      "flaky                              3.7.0\n",
      "Flask                              1.1.1\n",
      "Flask-Admin                        1.5.4\n",
      "Flask-AppBuilder                   2.3.4\n",
      "Flask-Babel                        1.0.0\n",
      "Flask-Bcrypt                       0.7.1\n",
      "Flask-Caching                      1.3.3\n",
      "Flask-JWT-Extended                 3.24.1\n",
      "Flask-Login                        0.4.1\n",
      "Flask-OpenID                       1.2.5\n",
      "Flask-SQLAlchemy                   2.4.4\n",
      "flask-swagger                      0.2.14\n",
      "Flask-WTF                          0.14.3\n",
      "flatbuffers                        1.12\n",
      "funcsigs                           1.0.2\n",
      "future                             0.17.1\n",
      "Fuzzy                              1.2.2\n",
      "gast                               0.3.3\n",
      "gensim                             3.8.3\n",
      "gevent                             1.4.0\n",
      "glob2                              0.7\n",
      "gmpy2                              2.0.8\n",
      "google-auth                        1.24.0\n",
      "google-auth-oauthlib               0.4.2\n",
      "google-pasta                       0.2.0\n",
      "graphviz                           0.14.2\n",
      "greenlet                           0.4.15\n",
      "grpcio                             1.32.0\n",
      "gunicorn                           20.0.4\n",
      "h5py                               2.10.0\n",
      "haversine                          2.3.0\n",
      "hdfs3                              0.3.1\n",
      "heapdict                           1.0.0\n",
      "highered                           0.2.1\n",
      "html5lib                           1.0.1\n",
      "idna                               2.8\n",
      "imageio                            2.5.0\n",
      "imagesize                          1.1.0\n",
      "importlib-metadata                 2.0.0\n",
      "ipykernel                          5.1.1\n",
      "ipython                            7.6.1\n",
      "ipython-genutils                   0.2.0\n",
      "ipywidgets                         7.5.0\n",
      "iso8601                            0.1.13\n",
      "isort                              4.3.21\n",
      "itsdangerous                       1.1.0\n",
      "jdcal                              1.4.1\n",
      "jedi                               0.13.3\n",
      "jeepney                            0.4\n",
      "jep                                3.9.1\n",
      "Jinja2                             2.10.1\n",
      "jmespath                           0.10.0\n",
      "joblib                             0.13.2\n",
      "json-merge-patch                   0.2\n",
      "json5                              0.8.4\n",
      "jsonschema                         3.0.1\n",
      "jupyter                            1.0.0\n",
      "jupyter-client                     5.3.1\n",
      "jupyter-console                    6.0.0\n",
      "jupyter-contrib-core               0.3.3\n",
      "jupyter-contrib-nbextensions       0.5.1\n",
      "jupyter-core                       4.5.0\n",
      "jupyter-highlight-selected-word    0.2.0\n",
      "jupyter-latex-envs                 1.4.6\n",
      "jupyter-nbextensions-configurator  0.4.1\n",
      "jupyter-telemetry                  0.0.5\n",
      "jupyterhub                         1.1.0\n",
      "jupyterlab                         1.0.2\n",
      "jupyterlab-server                  1.0.0\n",
      "Keras-Applications                 1.0.8\n",
      "Keras-Preprocessing                1.1.2\n",
      "keyring                            18.0.0\n",
      "kiwisolver                         1.1.0\n",
      "lazy-object-proxy                  1.4.1\n",
      "Levenshtein-search                 1.4.5\n",
      "libarchive-c                       2.8\n",
      "lief                               0.9.0\n",
      "lightgbm                           3.0.0\n",
      "llvmlite                           0.29.0\n",
      "locket                             0.2.0\n",
      "lockfile                           0.12.2\n",
      "lxml                               4.3.4\n",
      "Mako                               1.1.3\n",
      "Markdown                           2.6.11\n",
      "MarkupSafe                         1.1.1\n",
      "marshmallow                        2.21.0\n",
      "marshmallow-enum                   1.5.1\n",
      "marshmallow-sqlalchemy             0.23.1\n",
      "matplotlib                         3.1.3\n",
      "mccabe                             0.6.1\n",
      "mistune                            0.8.4\n",
      "mkl-fft                            1.0.12\n",
      "mkl-random                         1.0.2\n",
      "mkl-service                        2.0.2\n",
      "mock                               3.0.5\n",
      "more-itertools                     7.0.0\n",
      "mpmath                             1.1.0\n",
      "msgpack                            0.6.1\n",
      "multipledispatch                   0.6.0\n",
      "murmurhash                         1.0.2\n",
      "natsort                            7.0.1\n",
      "navigator-updater                  0.2.1\n",
      "nbconvert                          5.5.0\n",
      "nbformat                           4.4.0\n",
      "networkx                           2.3\n",
      "nimporter                          1.0.2\n",
      "nltk                               3.4.4\n",
      "nose                               1.3.7\n",
      "notebook                           6.0.0\n",
      "nsf-data-ingestion                 0.0.1      /home/eileen/nsf_data_ingestion\n",
      "numba                              0.44.1\n",
      "numexpr                            2.6.9\n",
      "numpy                              1.19.4\n",
      "numpydoc                           0.9.1\n",
      "oauthlib                           3.0.1\n",
      "olefile                            0.46\n",
      "openpyxl                           2.6.2\n",
      "opt-einsum                         3.3.0\n",
      "packaging                          19.0\n",
      "palettable                         3.3.0\n",
      "pamela                             1.0.0\n",
      "pandas                             1.1.3\n",
      "pandocfilters                      1.4.2\n",
      "parso                              0.5.0\n",
      "partd                              1.0.0\n",
      "path.py                            12.0.1\n",
      "pathlib2                           2.3.4\n",
      "patsy                              0.5.1\n",
      "pendulum                           1.4.4\n",
      "pep8                               1.7.1\n",
      "persistent                         4.6.4\n",
      "pexpect                            4.7.0\n",
      "pickleshare                        0.7.5\n",
      "Pillow                             8.0.0\n",
      "pip                                21.0.1\n",
      "pkginfo                            1.5.0.1\n",
      "plac                               1.1.3\n",
      "plotly                             4.11.0\n",
      "pluggy                             0.12.0\n",
      "ply                                3.11\n",
      "preshed                            3.0.2\n",
      "prison                             0.1.3\n",
      "prometheus-client                  0.7.1\n",
      "prompt-toolkit                     2.0.9\n",
      "protobuf                           3.14.0\n",
      "psutil                             5.6.3\n",
      "ptyprocess                         0.6.0\n",
      "pubmed-parser                      0.2.2\n",
      "py                                 1.8.0\n",
      "py4j                               0.10.7\n",
      "pyarrow                            1.0.1\n",
      "pyasn1                             0.4.8\n",
      "pyasn1-modules                     0.2.8\n",
      "pycodestyle                        2.5.0\n",
      "pycosat                            0.6.3\n",
      "pycparser                          2.19\n",
      "pycrypto                           2.6.1\n",
      "pycurl                             7.43.0.3\n",
      "pyflakes                           2.1.1\n",
      "Pygments                           2.4.2\n",
      "pyhacrf-datamade                   0.2.5\n",
      "PyJWT                              1.7.1\n",
      "PyLBFGS                            0.2.0.13\n",
      "pylint                             2.3.1\n",
      "pyodbc                             4.0.26\n",
      "pyOpenSSL                          19.0.0\n",
      "pyparsing                          2.4.0\n",
      "PyQt5                              5.12.3\n",
      "PyQt5-sip                          12.8.1\n",
      "PyQtWebEngine                      5.12.1\n",
      "pyrsistent                         0.14.11\n",
      "PySocks                            1.7.0\n",
      "pyspark                            2.4.0\n",
      "pytest                             5.0.1\n",
      "pytest-arraydiff                   0.3\n",
      "pytest-astropy                     0.5.0\n",
      "pytest-cov                         2.11.1\n",
      "pytest-doctestplus                 0.3.0\n",
      "pytest-openfiles                   0.3.2\n",
      "pytest-remotedata                  0.3.1\n",
      "python-daemon                      2.2.4\n",
      "python-dateutil                    2.8.0\n",
      "python-editor                      1.0.4\n",
      "python-json-logger                 2.0.1\n",
      "python-nvd3                        0.15.0\n",
      "python-slugify                     4.0.1\n",
      "python3-openid                     3.2.0\n",
      "pytz                               2019.1\n",
      "pytzdata                           2020.1\n",
      "PyWavelets                         1.0.3\n",
      "PyYAML                             5.1.1\n",
      "pyzmq                              18.0.0\n",
      "QtAwesome                          0.5.7\n",
      "qtconsole                          4.5.1\n",
      "QtPy                               1.8.0\n",
      "reconnecting-ftp                   1.0.12\n",
      "regex                              2020.10.15\n",
      "requests                           2.22.0\n",
      "requests-oauthlib                  1.3.0\n",
      "retrying                           1.3.3\n",
      "reverse-geocoder                   1.5.1\n",
      "rlr                                2.4.5\n",
      "rope                               0.14.0\n",
      "rsa                                4.5\n",
      "ruamel-yaml                        0.15.46\n",
      "ruamel.yaml                        0.16.12\n",
      "ruamel.yaml.clib                   0.2.2\n",
      "s3transfer                         0.3.3\n",
      "sacremoses                         0.0.43\n",
      "scikit-image                       0.15.0\n",
      "scikit-learn                       0.21.2\n",
      "scipy                              1.4.1\n",
      "seaborn                            0.9.0\n",
      "SecretStorage                      3.1.1\n",
      "Send2Trash                         1.5.0\n",
      "sentence-transformers              0.3.7.2\n",
      "sentencepiece                      0.1.91\n",
      "setproctitle                       1.1.10\n",
      "setuptools                         41.0.1\n",
      "shap                               0.37.0\n",
      "simplecosine                       1.2\n",
      "simplegeneric                      0.8.1\n",
      "simplejson                         3.17.2\n",
      "singledispatch                     3.4.0.3\n",
      "six                                1.15.0\n",
      "slicer                             0.0.3\n",
      "smart-open                         3.0.0\n",
      "snowballstemmer                    1.9.0\n",
      "sortedcollections                  1.1.2\n",
      "sortedcontainers                   2.1.0\n",
      "soupsieve                          1.8\n",
      "spacy                              2.3.2\n",
      "spacy-lookups-data                 0.3.2\n",
      "Sphinx                             2.1.2\n",
      "sphinxcontrib-applehelp            1.0.1\n",
      "sphinxcontrib-devhelp              1.0.1\n",
      "sphinxcontrib-htmlhelp             1.0.2\n",
      "sphinxcontrib-jsmath               1.0.1\n",
      "sphinxcontrib-qthelp               1.0.2\n",
      "sphinxcontrib-serializinghtml      1.1.3\n",
      "sphinxcontrib-websupport           1.1.2\n",
      "spyder                             3.3.6\n",
      "spyder-kernels                     0.5.1\n",
      "SQLAlchemy                         1.3.5\n",
      "SQLAlchemy-JSONField               0.9.0\n",
      "SQLAlchemy-Utils                   0.36.8\n",
      "srsly                              1.0.2\n",
      "statsmodels                        0.10.0\n",
      "sympy                              1.4\n",
      "tables                             3.5.2\n",
      "tabulate                           0.8.7\n",
      "tblib                              1.4.0\n",
      "tenacity                           4.12.0\n",
      "tensorboard                        1.14.0\n",
      "tensorboard-plugin-wit             1.7.0\n",
      "tensorflow                         1.14.0\n",
      "tensorflow-estimator               1.14.0\n",
      "termcolor                          1.1.0\n",
      "terminado                          0.8.2\n",
      "testpath                           0.4.2\n",
      "text-unidecode                     1.3\n",
      "thinc                              7.4.1\n",
      "thrift                             0.13.0\n",
      "tokenizers                         0.8.1rc2\n",
      "toolz                              0.10.0\n",
      "tornado                            6.0.3\n",
      "tqdm                               4.50.2\n",
      "traitlets                          4.3.2\n",
      "transformers                       3.3.1\n",
      "typed-ast                          1.4.1\n",
      "typing-extensions                  3.7.4.3\n",
      "tzlocal                            1.5.1\n",
      "unicodecsv                         0.14.1\n",
      "Unidecode                          1.1.1\n",
      "urllib3                            1.24.2\n",
      "wasabi                             0.8.0\n",
      "wcwidth                            0.1.7\n",
      "webencodings                       0.5.1\n",
      "Werkzeug                           0.15.4\n",
      "wheel                              0.36.2\n",
      "widgetsnbextension                 3.5.0\n",
      "wrapt                              1.12.1\n",
      "WTForms                            2.3.3\n",
      "wurlitzer                          1.0.2\n",
      "xlrd                               1.2.0\n",
      "XlsxWriter                         1.1.8\n",
      "xlwt                               1.3.0\n",
      "yapf                               0.30.0\n",
      "zict                               1.0.0\n",
      "zipp                               0.5.1\n",
      "zope.deprecation                   4.4.0\n",
      "zope.index                         5.0.0\n",
      "zope.interface                     5.1.2\n",
      "\u001b[33mWARNING: You are using pip version 21.0.1; however, version 21.1.2 is available.\n",
      "You should consider upgrading via the '/home/hzhuang/anaconda3/bin/python -m pip install --upgrade pip' command.\u001b[0m\n"
     ]
    }
   ],
   "source": [
    "!pip list"
   ]
  },
  {
   "cell_type": "code",
   "execution_count": 23,
   "metadata": {},
   "outputs": [
    {
     "output_type": "execute_result",
     "data": {
      "text/plain": [
       "'/home/eileen/.local/lib/python3.7/site-packages/pubmed_parser/__init__.py'"
      ]
     },
     "metadata": {},
     "execution_count": 23
    }
   ],
   "source": [
    "pp.__file__"
   ]
  },
  {
   "cell_type": "code",
   "execution_count": 25,
   "metadata": {},
   "outputs": [
    {
     "output_type": "stream",
     "name": "stdout",
     "text": [
      "__init__.py\t   pubmed_oa_parser.py\t __pycache__\nmedline_parser.py  pubmed_web_parser.py  utils.py\n"
     ]
    }
   ],
   "source": [
    "!ls /home/eileen/.local/lib/python3.7/site-packages/"
   ]
  },
  {
   "cell_type": "code",
   "execution_count": null,
   "metadata": {},
   "outputs": [],
   "source": [
    "rdd0 = sc.parallelize(list(range(10000))).repartition(1000)"
   ]
  },
  {
   "cell_type": "code",
   "execution_count": null,
   "metadata": {},
   "outputs": [],
   "source": [
    "def get_hostnode(e):\n",
    "    import sys\n",
    "    import socket\n",
    "    \n",
    "    return str(sys.version_info), str(socket.gethostname())\n"
   ]
  },
  {
   "cell_type": "code",
   "execution_count": null,
   "metadata": {},
   "outputs": [],
   "source": [
    "def check_version(e):\n",
    "    import pyarrow as pa\n",
    "    hdfs = pa.hdfs.connect()\n",
    "    \n",
    "    return str(pa.__version__), str(hdfs)"
   ]
  },
  {
   "cell_type": "code",
   "execution_count": null,
   "metadata": {
    "scrolled": true
   },
   "outputs": [],
   "source": [
    "rdd0.map(check_version).distinct().collect()"
   ]
  },
  {
   "cell_type": "code",
   "execution_count": null,
   "metadata": {},
   "outputs": [],
   "source": [
    "hdfs = pa.hdfs.connect()"
   ]
  },
  {
   "cell_type": "code",
   "execution_count": null,
   "metadata": {},
   "outputs": [],
   "source": [
    "print(hdfs)"
   ]
  },
  {
   "cell_type": "code",
   "execution_count": null,
   "metadata": {
    "scrolled": true
   },
   "outputs": [],
   "source": [
    "rdd0.map(get_hostnode).distinct().collect()"
   ]
  },
  {
   "cell_type": "code",
   "execution_count": null,
   "metadata": {},
   "outputs": [],
   "source": [
    "get_hostnode(2)"
   ]
  },
  {
   "cell_type": "code",
   "execution_count": null,
   "metadata": {},
   "outputs": [],
   "source": [
    "!/home/tozeng/anaconda3/bin/python --version"
   ]
  },
  {
   "cell_type": "code",
   "execution_count": null,
   "metadata": {},
   "outputs": [],
   "source": []
  },
  {
   "cell_type": "code",
   "execution_count": 35,
   "metadata": {},
   "outputs": [
    {
     "data": {
      "text/plain": [
       "'2.2.1'"
      ]
     },
     "execution_count": 35,
     "metadata": {},
     "output_type": "execute_result"
    }
   ],
   "source": [
    "re.__version__"
   ]
  },
  {
   "cell_type": "code",
   "execution_count": null,
   "metadata": {},
   "outputs": [],
   "source": [
    "test_p = spark.sparkContext.parallelize(file_paths)\n",
    "test_p.collect()"
   ]
  },
  {
   "cell_type": "code",
   "execution_count": 38,
   "metadata": {},
   "outputs": [],
   "source": [
    "def find_journal(gzip):\n",
    "    import re\n",
    "    l = re.findall('<Title>[\\s\\S]*?<\\/Title>', gzip[1])\n",
    "\n",
    "    return(l)"
   ]
  },
  {
   "cell_type": "code",
   "execution_count": null,
   "metadata": {},
   "outputs": [],
   "source": [
    "def test_medline_parquet(gzip):\n",
    "    import pubmed_parser as pa\n",
    "    dicts = pa.parse_medline_xml(gzip[1])\n",
    "    return [Row(**doc) for doc in dicts]"
   ]
  },
  {
   "cell_type": "code",
   "execution_count": null,
   "metadata": {},
   "outputs": [],
   "source": [
    "docs = spark.sparkContext.wholeTextFiles('test/test/pubmed21n0001.xml.gz')\n",
    "dicts = docs.flatMap(find_journal)\n",
    "dicts.take(10)"
   ]
  },
  {
   "cell_type": "code",
   "execution_count": null,
   "metadata": {},
   "outputs": [],
   "source": [
    "\n",
    "def parse_gzip_medline_str(gzip_str):\n",
    "    import pubmed_parser as pp\n",
    "    import unidecode\n",
    "    \n",
    "    filepath = gzip_str[0]\n",
    "    xml_string = gzip_str[1]\n",
    "    _, file_name = path.split(filepath)\n",
    "    # decompress gzip\n",
    "\n",
    "    articles = pp.parse_medline_xml(xml_string)\n",
    "    return [Row(file_name=file_name, **article_dict)\n",
    "            for article_dict in articles]\n",
    "\n"
   ]
  },
  {
   "cell_type": "code",
   "execution_count": null,
   "metadata": {
    "scrolled": true
   },
   "outputs": [],
   "source": [
    "docs = spark.sparkContext.wholeTextFiles('test/test/pubmed21n0001.xml.gz')\n",
    "dicts = docs.flatMap(parse_gzip_medline_str)\n",
    "dicts.take(10)\n",
    "\n"
   ]
  },
  {
   "cell_type": "code",
   "execution_count": null,
   "metadata": {},
   "outputs": [],
   "source": [
    "!hdfs dfs "
   ]
  },
  {
   "cell_type": "code",
   "execution_count": null,
   "metadata": {},
   "outputs": [],
   "source": [
    "spark.stop()"
   ]
  },
  {
   "cell_type": "code",
   "execution_count": null,
   "metadata": {},
   "outputs": [],
   "source": [
    "def test_medline_parquet(file_path):\n",
    "    import subprocess\n",
    "    (ret, out, err)= run_cmd(['hdfs', 'dfs', '-ls', 'test/test/'])\n",
    "    \n",
    "    return (out,err)"
   ]
  },
  {
   "cell_type": "code",
   "execution_count": null,
   "metadata": {},
   "outputs": [],
   "source": [
    "def run_cmd(args_list):\n",
    "        \"\"\"\n",
    "        run linux commands\n",
    "        \"\"\"\n",
    "        # import subprocess\n",
    "        print('Running system command: {0}'.format(' '.join(args_list)))\n",
    "        proc = subprocess.Popen(args_list, stdout=subprocess.PIPE, stderr=subprocess.PIPE)\n",
    "        s_output, s_err = proc.communicate()\n",
    "        s_return =  proc.returncode\n",
    "        return s_return, s_output, s_err "
   ]
  },
  {
   "cell_type": "code",
   "execution_count": null,
   "metadata": {},
   "outputs": [],
   "source": [
    "(ret, out, err)= run_cmd(['hdfs', 'dfs', '-ls', 'test/test/'])\n",
    "out.decode('ascii').split('\\n')"
   ]
  },
  {
   "cell_type": "code",
   "execution_count": null,
   "metadata": {
    "scrolled": false
   },
   "outputs": [],
   "source": [
    "err = test_p.map(test_medline_parquet).take(1)"
   ]
  },
  {
   "cell_type": "code",
   "execution_count": null,
   "metadata": {},
   "outputs": [],
   "source": [
    "err[0][1].decode('ascii').split('\\n')"
   ]
  },
  {
   "cell_type": "code",
   "execution_count": null,
   "metadata": {},
   "outputs": [],
   "source": [
    "tet = spark.sparkContext.wholeTextFiles('test/test/*.xml.gz')"
   ]
  },
  {
   "cell_type": "code",
   "execution_count": null,
   "metadata": {},
   "outputs": [],
   "source": [
    "tet.map(lambda x : x[0]).take(1)"
   ]
  },
  {
   "cell_type": "code",
   "execution_count": null,
   "metadata": {},
   "outputs": [],
   "source": [
    "pa.hdfs.connect()"
   ]
  },
  {
   "cell_type": "code",
   "execution_count": null,
   "metadata": {},
   "outputs": [],
   "source": [
    "spark.stop()"
   ]
  }
 ],
 "metadata": {
  "kernelspec": {
   "name": "python373jvsc74a57bd09f9127846a4e2991673c18367713baaab9c118995b914f01a7998576a1f0d8bf",
   "display_name": "Python 3.7.3 64-bit ('base': conda)"
  },
  "language_info": {
   "codemirror_mode": {
    "name": "ipython",
    "version": 3
   },
   "file_extension": ".py",
   "mimetype": "text/x-python",
   "name": "python",
   "nbconvert_exporter": "python",
   "pygments_lexer": "ipython3",
   "version": "3.7.3"
  },
  "metadata": {
   "interpreter": {
    "hash": "9f9127846a4e2991673c18367713baaab9c118995b914f01a7998576a1f0d8bf"
   }
  }
 },
 "nbformat": 4,
 "nbformat_minor": 2
}