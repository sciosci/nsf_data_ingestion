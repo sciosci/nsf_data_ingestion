{
 "cells": [
  {
   "cell_type": "code",
   "execution_count": 3,
   "metadata": {},
   "outputs": [],
   "source": [
    "spark.stop()"
   ]
  },
  {
   "cell_type": "code",
   "execution_count": 4,
   "metadata": {},
   "outputs": [
    {
     "name": "stderr",
     "output_type": "stream",
     "text": [
      "INFO:root:Creating Spark Session....\n",
      "INFO:root:Session Created!\n"
     ]
    }
   ],
   "source": [
    "import findspark\n",
    "findspark.init('/opt/cloudera/parcels/SPARK2-2.4.0.cloudera2-1.cdh5.13.3.p0.1041012/lib/spark2/')\n",
    "import os, findspark\n",
    "os.environ['PYSPARK_PYTHON'] = '/home/tozeng/anaconda3/bin/python'\n",
    "os.environ['PYSPARK_DRIVER_PYTHON'] = '/home/tozeng/anaconda3/bin/python'\n",
    "import sys\n",
    "sys.path.append('/home/eileen/nsf_data_ingestion/')\n",
    "import zipfile\n",
    "import zipimport\n",
    "import io\n",
    "import logging\n",
    "logging.getLogger().setLevel(logging.INFO)\n",
    "from pyspark.sql import functions\n",
    "from pyspark.sql import SparkSession\n",
    "from pyspark import SparkContext\n",
    "from pyspark.sql import Row\n",
    "from pyspark.sql import Window\n",
    "from pyspark.sql.functions import rank, max, sum, desc\n",
    "import zlib\n",
    "import importlib\n",
    "import os\n",
    "from os import path\n",
    "from shutil import copyfile\n",
    "from shutil import rmtree\n",
    "from subprocess import call\n",
    "import pubmed_parser as pp\n",
    "from nsf_data_ingestion.config import spark_config\n",
    "from nsf_data_ingestion.objects import data_source_params\n",
    "\n",
    "\n",
    "def create_session():\n",
    "    logging.info('Creating Spark Session....')\n",
    "    spark = SparkSession.builder.\\\n",
    "            appName('test_pubmed_parser_that').\\\n",
    "            config('spark.driver.memory', '60g').\\\n",
    "            config('spark.network.timeout', '600s').\\\n",
    "            config('spark.driver.maxResultSize', '10g').\\\n",
    "            config('spark.executor.memory', '30g').\\\n",
    "            config('spark.kryoserializer.buffer.max', '1g').\\\n",
    "            config('spark.cores.max', '40').\\\n",
    "            getOrCreate()\n",
    "    spark.sparkContext.addPyFile('/home/eileen/nsf_data_ingestion/libraries/pubmed_parser-0.1.0-py3.6.egg')\n",
    "    spark.sparkContext.addPyFile('/home/eileen/nsf_data_ingestion/libraries/Unidecode-1.1.1-py3.6.egg')\n",
    "#         logging.info('Adding Libraries' + str(library))\n",
    "#         spark.sparkContext.addPyFile(library)    # adding libraries\n",
    "#         spark.sparkContext.addPyFile(library)\n",
    "\n",
    "    logging.info(\"Session Created!\")\n",
    "    return spark\n",
    "\n",
    "\n",
    "\n",
    "spark = create_session()\n",
    "sc = spark.sparkContext"
   ]
  },
  {
   "cell_type": "code",
   "execution_count": 7,
   "metadata": {},
   "outputs": [],
   "source": [
    "def parse_gzip_medline_str(gzip_str):\n",
    "    import pubmed_parser as pp\n",
    "    import unidecode\n",
    "    \n",
    "    filepath = gzip_str[0]\n",
    "    xml_string = gzip_str[1]\n",
    "    _, file_name = path.split(filepath)\n",
    "\n",
    "    articles = pp.parse_medline_xml(xml_string)\n",
    "    return [Row(file_name=file_name, **article_dict)\n",
    "            for article_dict in articles]"
   ]
  },
  {
   "cell_type": "code",
   "execution_count": 8,
   "metadata": {},
   "outputs": [],
   "source": [
    "\n",
    "docs = sc.wholeTextFiles('test/test/pubmed21n0001.xml.gz').repartition(1000)\n",
    "dicts = docs.flatMap(parse_gzip_medline_str)\n",
    "medline_df = dicts.toDF()"
   ]
  },
  {
   "cell_type": "code",
   "execution_count": 9,
   "metadata": {},
   "outputs": [
    {
     "data": {
      "text/html": [
       "<div>\n",
       "<style scoped>\n",
       "    .dataframe tbody tr th:only-of-type {\n",
       "        vertical-align: middle;\n",
       "    }\n",
       "\n",
       "    .dataframe tbody tr th {\n",
       "        vertical-align: top;\n",
       "    }\n",
       "\n",
       "    .dataframe thead th {\n",
       "        text-align: right;\n",
       "    }\n",
       "</style>\n",
       "<table border=\"1\" class=\"dataframe\">\n",
       "  <thead>\n",
       "    <tr style=\"text-align: right;\">\n",
       "      <th></th>\n",
       "      <th>abstract</th>\n",
       "      <th>affiliation</th>\n",
       "      <th>author</th>\n",
       "      <th>country</th>\n",
       "      <th>delete</th>\n",
       "      <th>file_name</th>\n",
       "      <th>issn_linking</th>\n",
       "      <th>journal</th>\n",
       "      <th>keywords</th>\n",
       "      <th>medline_ta</th>\n",
       "      <th>mesh_terms</th>\n",
       "      <th>nlm_unique_id</th>\n",
       "      <th>other_id</th>\n",
       "      <th>pmc</th>\n",
       "      <th>pmid</th>\n",
       "      <th>pubdate</th>\n",
       "      <th>title</th>\n",
       "    </tr>\n",
       "  </thead>\n",
       "  <tbody>\n",
       "    <tr>\n",
       "      <th>0</th>\n",
       "      <td></td>\n",
       "      <td></td>\n",
       "      <td>AB Makar; KE McMartin; M Palese; TR Tephly</td>\n",
       "      <td>United States</td>\n",
       "      <td>False</td>\n",
       "      <td>pubmed21n0001.xml.gz</td>\n",
       "      <td>0006-2944</td>\n",
       "      <td></td>\n",
       "      <td></td>\n",
       "      <td>Biochem Med</td>\n",
       "      <td>D000445:Aldehyde Oxidoreductases; D000818:Anim...</td>\n",
       "      <td>0151424</td>\n",
       "      <td></td>\n",
       "      <td></td>\n",
       "      <td>1</td>\n",
       "      <td>1975</td>\n",
       "      <td>Formate assay in body fluids: application in m...</td>\n",
       "    </tr>\n",
       "    <tr>\n",
       "      <th>1</th>\n",
       "      <td></td>\n",
       "      <td></td>\n",
       "      <td>KS Bose; RH Sarma</td>\n",
       "      <td>United States</td>\n",
       "      <td>False</td>\n",
       "      <td>pubmed21n0001.xml.gz</td>\n",
       "      <td>0006-291X</td>\n",
       "      <td></td>\n",
       "      <td></td>\n",
       "      <td>Biochem Biophys Res Commun</td>\n",
       "      <td>D005583:Fourier Analysis; D009682:Magnetic Res...</td>\n",
       "      <td>0372516</td>\n",
       "      <td></td>\n",
       "      <td></td>\n",
       "      <td>2</td>\n",
       "      <td>1975</td>\n",
       "      <td>Delineation of the intimate details of the bac...</td>\n",
       "    </tr>\n",
       "    <tr>\n",
       "      <th>2</th>\n",
       "      <td></td>\n",
       "      <td></td>\n",
       "      <td>RJ Smith; RG Bryant</td>\n",
       "      <td>United States</td>\n",
       "      <td>False</td>\n",
       "      <td>pubmed21n0001.xml.gz</td>\n",
       "      <td>0006-291X</td>\n",
       "      <td></td>\n",
       "      <td></td>\n",
       "      <td>Biochem Biophys Res Commun</td>\n",
       "      <td>D000818:Animals; D001665:Binding Sites; D00210...</td>\n",
       "      <td>0372516</td>\n",
       "      <td></td>\n",
       "      <td></td>\n",
       "      <td>3</td>\n",
       "      <td>1975</td>\n",
       "      <td>Metal substitutions incarbonic anhydrase: a ha...</td>\n",
       "    </tr>\n",
       "    <tr>\n",
       "      <th>3</th>\n",
       "      <td></td>\n",
       "      <td></td>\n",
       "      <td>UN Wiesmann; S DiDonato; NN Herschkowitz</td>\n",
       "      <td>United States</td>\n",
       "      <td>False</td>\n",
       "      <td>pubmed21n0001.xml.gz</td>\n",
       "      <td>0006-291X</td>\n",
       "      <td></td>\n",
       "      <td></td>\n",
       "      <td>Biochem Biophys Res Commun</td>\n",
       "      <td>D001692:Biological Transport; D002478:Cells, C...</td>\n",
       "      <td>0372516</td>\n",
       "      <td></td>\n",
       "      <td></td>\n",
       "      <td>4</td>\n",
       "      <td>1975</td>\n",
       "      <td>Effect of chloroquine on cultured fibroblasts:...</td>\n",
       "    </tr>\n",
       "    <tr>\n",
       "      <th>4</th>\n",
       "      <td></td>\n",
       "      <td></td>\n",
       "      <td>WA Hendrickson; KB Ward</td>\n",
       "      <td>United States</td>\n",
       "      <td>False</td>\n",
       "      <td>pubmed21n0001.xml.gz</td>\n",
       "      <td>0006-291X</td>\n",
       "      <td></td>\n",
       "      <td></td>\n",
       "      <td>Biochem Biophys Res Commun</td>\n",
       "      <td>D000818:Animals; D003063:Cnidaria; D003201:Com...</td>\n",
       "      <td>0372516</td>\n",
       "      <td></td>\n",
       "      <td></td>\n",
       "      <td>5</td>\n",
       "      <td>1975</td>\n",
       "      <td>Atomic models for the polypeptide backbones of...</td>\n",
       "    </tr>\n",
       "  </tbody>\n",
       "</table>\n",
       "</div>"
      ],
      "text/plain": [
       "  abstract affiliation                                      author  \\\n",
       "0                       AB Makar; KE McMartin; M Palese; TR Tephly   \n",
       "1                                                KS Bose; RH Sarma   \n",
       "2                                              RJ Smith; RG Bryant   \n",
       "3                         UN Wiesmann; S DiDonato; NN Herschkowitz   \n",
       "4                                          WA Hendrickson; KB Ward   \n",
       "\n",
       "         country  delete             file_name issn_linking journal keywords  \\\n",
       "0  United States   False  pubmed21n0001.xml.gz    0006-2944                    \n",
       "1  United States   False  pubmed21n0001.xml.gz    0006-291X                    \n",
       "2  United States   False  pubmed21n0001.xml.gz    0006-291X                    \n",
       "3  United States   False  pubmed21n0001.xml.gz    0006-291X                    \n",
       "4  United States   False  pubmed21n0001.xml.gz    0006-291X                    \n",
       "\n",
       "                   medline_ta  \\\n",
       "0                 Biochem Med   \n",
       "1  Biochem Biophys Res Commun   \n",
       "2  Biochem Biophys Res Commun   \n",
       "3  Biochem Biophys Res Commun   \n",
       "4  Biochem Biophys Res Commun   \n",
       "\n",
       "                                          mesh_terms nlm_unique_id other_id  \\\n",
       "0  D000445:Aldehyde Oxidoreductases; D000818:Anim...       0151424            \n",
       "1  D005583:Fourier Analysis; D009682:Magnetic Res...       0372516            \n",
       "2  D000818:Animals; D001665:Binding Sites; D00210...       0372516            \n",
       "3  D001692:Biological Transport; D002478:Cells, C...       0372516            \n",
       "4  D000818:Animals; D003063:Cnidaria; D003201:Com...       0372516            \n",
       "\n",
       "  pmc pmid pubdate                                              title  \n",
       "0        1    1975  Formate assay in body fluids: application in m...  \n",
       "1        2    1975  Delineation of the intimate details of the bac...  \n",
       "2        3    1975  Metal substitutions incarbonic anhydrase: a ha...  \n",
       "3        4    1975  Effect of chloroquine on cultured fibroblasts:...  \n",
       "4        5    1975  Atomic models for the polypeptide backbones of...  "
      ]
     },
     "execution_count": 9,
     "metadata": {},
     "output_type": "execute_result"
    }
   ],
   "source": [
    "import pandas as pd\n",
    "panda_df = pd.DataFrame(medline_df.head(5), columns=medline_df.columns)\n",
    "panda_df"
   ]
  },
  {
   "cell_type": "code",
   "execution_count": null,
   "metadata": {},
   "outputs": [],
   "source": [
    "def parse_gzip_medline_str(gzip_str):\n",
    "    import pubmed_parser as pp\n",
    "    import unidecode\n",
    "    \n",
    "    filepath = gzip_str[0]\n",
    "    xml_string = gzip_str[1]\n",
    "    _, file_name = path.split(filepath)\n",
    "\n",
    "    articles = pp.parse_medline_xml(bytes(xml_string, 'utf-8'))\n",
    "    return [Row(file_name=file_name, **article_dict)\n",
    "            for article_dict in articles]"
   ]
  },
  {
   "cell_type": "code",
   "execution_count": null,
   "metadata": {},
   "outputs": [],
   "source": [
    "\n",
    "docs = sc.wholeTextFiles('test/test/pubmed21n0001.xml.gz').repartition(1000)\n",
    "dicts = docs.flatMap(parse_gzip_medline_str)\n",
    "medline_df = dicts.toDF()"
   ]
  },
  {
   "cell_type": "code",
   "execution_count": 4,
   "metadata": {},
   "outputs": [
    {
     "data": {
      "text/html": [
       "<div>\n",
       "<style scoped>\n",
       "    .dataframe tbody tr th:only-of-type {\n",
       "        vertical-align: middle;\n",
       "    }\n",
       "\n",
       "    .dataframe tbody tr th {\n",
       "        vertical-align: top;\n",
       "    }\n",
       "\n",
       "    .dataframe thead th {\n",
       "        text-align: right;\n",
       "    }\n",
       "</style>\n",
       "<table border=\"1\" class=\"dataframe\">\n",
       "  <thead>\n",
       "    <tr style=\"text-align: right;\">\n",
       "      <th></th>\n",
       "      <th>abstract</th>\n",
       "      <th>affiliations</th>\n",
       "      <th>authors</th>\n",
       "      <th>chemical_list</th>\n",
       "      <th>country</th>\n",
       "      <th>delete</th>\n",
       "      <th>doi</th>\n",
       "      <th>file_name</th>\n",
       "      <th>issn_linking</th>\n",
       "      <th>journal</th>\n",
       "      <th>...</th>\n",
       "      <th>medline_ta</th>\n",
       "      <th>mesh_terms</th>\n",
       "      <th>nlm_unique_id</th>\n",
       "      <th>other_id</th>\n",
       "      <th>pmc</th>\n",
       "      <th>pmid</th>\n",
       "      <th>pubdate</th>\n",
       "      <th>publication_types</th>\n",
       "      <th>references</th>\n",
       "      <th>title</th>\n",
       "    </tr>\n",
       "  </thead>\n",
       "  <tbody>\n",
       "    <tr>\n",
       "      <th>0</th>\n",
       "      <td></td>\n",
       "      <td></td>\n",
       "      <td>AB Makar;KE McMartin;M Palese;TR Tephly</td>\n",
       "      <td>D005561:Formates; D002245:Carbon Dioxide; D000...</td>\n",
       "      <td>United States</td>\n",
       "      <td>False</td>\n",
       "      <td>10.1016/0006-2944(75)90147-7</td>\n",
       "      <td>pubmed21n0001.xml.gz</td>\n",
       "      <td>0006-2944</td>\n",
       "      <td>Biochemical medicine</td>\n",
       "      <td>...</td>\n",
       "      <td>Biochem Med</td>\n",
       "      <td>D000445:Aldehyde Oxidoreductases; D000818:Anim...</td>\n",
       "      <td>0151424</td>\n",
       "      <td></td>\n",
       "      <td></td>\n",
       "      <td>1</td>\n",
       "      <td>1975</td>\n",
       "      <td>D016428:Journal Article; D013487:Research Supp...</td>\n",
       "      <td></td>\n",
       "      <td>Formate assay in body fluids: application in m...</td>\n",
       "    </tr>\n",
       "    <tr>\n",
       "      <th>1</th>\n",
       "      <td></td>\n",
       "      <td></td>\n",
       "      <td>KS Bose;RH Sarma</td>\n",
       "      <td>D009243:NAD; D009249:NADP</td>\n",
       "      <td>United States</td>\n",
       "      <td>False</td>\n",
       "      <td>10.1016/0006-291x(75)90482-9</td>\n",
       "      <td>pubmed21n0001.xml.gz</td>\n",
       "      <td>0006-291X</td>\n",
       "      <td>Biochemical and biophysical research communica...</td>\n",
       "      <td>...</td>\n",
       "      <td>Biochem Biophys Res Commun</td>\n",
       "      <td>D005583:Fourier Analysis; D009682:Magnetic Res...</td>\n",
       "      <td>0372516</td>\n",
       "      <td></td>\n",
       "      <td></td>\n",
       "      <td>2</td>\n",
       "      <td>1975</td>\n",
       "      <td>D016428:Journal Article; D013486:Research Supp...</td>\n",
       "      <td></td>\n",
       "      <td>Delineation of the intimate details of the bac...</td>\n",
       "    </tr>\n",
       "    <tr>\n",
       "      <th>2</th>\n",
       "      <td></td>\n",
       "      <td></td>\n",
       "      <td>RJ Smith;RG Bryant</td>\n",
       "      <td>D002104:Cadmium; D002256:Carbonic Anhydrases; ...</td>\n",
       "      <td>United States</td>\n",
       "      <td>False</td>\n",
       "      <td>10.1016/0006-291x(75)90498-2</td>\n",
       "      <td>pubmed21n0001.xml.gz</td>\n",
       "      <td>0006-291X</td>\n",
       "      <td>Biochemical and biophysical research communica...</td>\n",
       "      <td>...</td>\n",
       "      <td>Biochem Biophys Res Commun</td>\n",
       "      <td>D000818:Animals; D001665:Binding Sites; D00210...</td>\n",
       "      <td>0372516</td>\n",
       "      <td></td>\n",
       "      <td></td>\n",
       "      <td>3</td>\n",
       "      <td>1975</td>\n",
       "      <td>D016428:Journal Article; D013487:Research Supp...</td>\n",
       "      <td></td>\n",
       "      <td>Metal substitutions incarbonic anhydrase: a ha...</td>\n",
       "    </tr>\n",
       "    <tr>\n",
       "      <th>3</th>\n",
       "      <td></td>\n",
       "      <td></td>\n",
       "      <td>UN Wiesmann;S DiDonato;NN Herschkowitz</td>\n",
       "      <td>D003911:Dextrans; D002738:Chloroquine; D013429...</td>\n",
       "      <td>United States</td>\n",
       "      <td>False</td>\n",
       "      <td>10.1016/0006-291x(75)90506-9</td>\n",
       "      <td>pubmed21n0001.xml.gz</td>\n",
       "      <td>0006-291X</td>\n",
       "      <td>Biochemical and biophysical research communica...</td>\n",
       "      <td>...</td>\n",
       "      <td>Biochem Biophys Res Commun</td>\n",
       "      <td>D001692:Biological Transport; D002478:Cells, C...</td>\n",
       "      <td>0372516</td>\n",
       "      <td></td>\n",
       "      <td></td>\n",
       "      <td>4</td>\n",
       "      <td>1975</td>\n",
       "      <td>D016428:Journal Article</td>\n",
       "      <td></td>\n",
       "      <td>Effect of chloroquine on cultured fibroblasts:...</td>\n",
       "    </tr>\n",
       "    <tr>\n",
       "      <th>4</th>\n",
       "      <td></td>\n",
       "      <td></td>\n",
       "      <td>WA Hendrickson;KB Ward</td>\n",
       "      <td>D006422:Hemerythrin; D008667:Metalloproteins; ...</td>\n",
       "      <td>United States</td>\n",
       "      <td>False</td>\n",
       "      <td>10.1016/0006-291x(75)90508-2</td>\n",
       "      <td>pubmed21n0001.xml.gz</td>\n",
       "      <td>0006-291X</td>\n",
       "      <td>Biochemical and biophysical research communica...</td>\n",
       "      <td>...</td>\n",
       "      <td>Biochem Biophys Res Commun</td>\n",
       "      <td>D000818:Animals; D003063:Cnidaria; D003201:Com...</td>\n",
       "      <td>0372516</td>\n",
       "      <td></td>\n",
       "      <td></td>\n",
       "      <td>5</td>\n",
       "      <td>1975</td>\n",
       "      <td>D016428:Journal Article</td>\n",
       "      <td></td>\n",
       "      <td>Atomic models for the polypeptide backbones of...</td>\n",
       "    </tr>\n",
       "  </tbody>\n",
       "</table>\n",
       "<p>5 rows × 21 columns</p>\n",
       "</div>"
      ],
      "text/plain": [
       "  abstract affiliations                                  authors  \\\n",
       "0                        AB Makar;KE McMartin;M Palese;TR Tephly   \n",
       "1                                               KS Bose;RH Sarma   \n",
       "2                                             RJ Smith;RG Bryant   \n",
       "3                         UN Wiesmann;S DiDonato;NN Herschkowitz   \n",
       "4                                         WA Hendrickson;KB Ward   \n",
       "\n",
       "                                       chemical_list        country  delete  \\\n",
       "0  D005561:Formates; D002245:Carbon Dioxide; D000...  United States   False   \n",
       "1                          D009243:NAD; D009249:NADP  United States   False   \n",
       "2  D002104:Cadmium; D002256:Carbonic Anhydrases; ...  United States   False   \n",
       "3  D003911:Dextrans; D002738:Chloroquine; D013429...  United States   False   \n",
       "4  D006422:Hemerythrin; D008667:Metalloproteins; ...  United States   False   \n",
       "\n",
       "                            doi             file_name issn_linking  \\\n",
       "0  10.1016/0006-2944(75)90147-7  pubmed21n0001.xml.gz    0006-2944   \n",
       "1  10.1016/0006-291x(75)90482-9  pubmed21n0001.xml.gz    0006-291X   \n",
       "2  10.1016/0006-291x(75)90498-2  pubmed21n0001.xml.gz    0006-291X   \n",
       "3  10.1016/0006-291x(75)90506-9  pubmed21n0001.xml.gz    0006-291X   \n",
       "4  10.1016/0006-291x(75)90508-2  pubmed21n0001.xml.gz    0006-291X   \n",
       "\n",
       "                                             journal  ...  \\\n",
       "0                               Biochemical medicine  ...   \n",
       "1  Biochemical and biophysical research communica...  ...   \n",
       "2  Biochemical and biophysical research communica...  ...   \n",
       "3  Biochemical and biophysical research communica...  ...   \n",
       "4  Biochemical and biophysical research communica...  ...   \n",
       "\n",
       "                   medline_ta  \\\n",
       "0                 Biochem Med   \n",
       "1  Biochem Biophys Res Commun   \n",
       "2  Biochem Biophys Res Commun   \n",
       "3  Biochem Biophys Res Commun   \n",
       "4  Biochem Biophys Res Commun   \n",
       "\n",
       "                                          mesh_terms nlm_unique_id other_id  \\\n",
       "0  D000445:Aldehyde Oxidoreductases; D000818:Anim...       0151424            \n",
       "1  D005583:Fourier Analysis; D009682:Magnetic Res...       0372516            \n",
       "2  D000818:Animals; D001665:Binding Sites; D00210...       0372516            \n",
       "3  D001692:Biological Transport; D002478:Cells, C...       0372516            \n",
       "4  D000818:Animals; D003063:Cnidaria; D003201:Com...       0372516            \n",
       "\n",
       "  pmc pmid pubdate                                  publication_types  \\\n",
       "0        1    1975  D016428:Journal Article; D013487:Research Supp...   \n",
       "1        2    1975  D016428:Journal Article; D013486:Research Supp...   \n",
       "2        3    1975  D016428:Journal Article; D013487:Research Supp...   \n",
       "3        4    1975                            D016428:Journal Article   \n",
       "4        5    1975                            D016428:Journal Article   \n",
       "\n",
       "  references                                              title  \n",
       "0             Formate assay in body fluids: application in m...  \n",
       "1             Delineation of the intimate details of the bac...  \n",
       "2             Metal substitutions incarbonic anhydrase: a ha...  \n",
       "3             Effect of chloroquine on cultured fibroblasts:...  \n",
       "4             Atomic models for the polypeptide backbones of...  \n",
       "\n",
       "[5 rows x 21 columns]"
      ]
     },
     "execution_count": 4,
     "metadata": {},
     "output_type": "execute_result"
    }
   ],
   "source": [
    "import pandas as pd\n",
    "panda_df_new = pd.DataFrame(medline_df.head(5), columns=medline_df.columns)\n",
    "panda_df_new"
   ]
  },
  {
   "cell_type": "code",
   "execution_count": 10,
   "metadata": {},
   "outputs": [
    {
     "data": {
      "text/plain": [
       "Index(['abstract', 'affiliation', 'author', 'country', 'delete', 'file_name',\n",
       "       'issn_linking', 'journal', 'keywords', 'medline_ta', 'mesh_terms',\n",
       "       'nlm_unique_id', 'other_id', 'pmc', 'pmid', 'pubdate', 'title'],\n",
       "      dtype='object')"
      ]
     },
     "execution_count": 10,
     "metadata": {},
     "output_type": "execute_result"
    }
   ],
   "source": [
    "panda_df.columns"
   ]
  },
  {
   "cell_type": "code",
   "execution_count": null,
   "metadata": {},
   "outputs": [],
   "source": [
    "!pwd"
   ]
  },
  {
   "cell_type": "code",
   "execution_count": null,
   "metadata": {},
   "outputs": [],
   "source": [
    "import pubmed_parser as pp\n",
    "path_f = \"/home/eileen/medline_data/pubmed21n0974.xml.gz\"\n",
    "dict = pp.parse_medline_xml(path_f)\n",
    "local_df = pd.DataFrame(dict)\n",
    "local_df"
   ]
  },
  {
   "cell_type": "code",
   "execution_count": null,
   "metadata": {},
   "outputs": [],
   "source": [
    "pp.__version__"
   ]
  },
  {
   "cell_type": "code",
   "execution_count": null,
   "metadata": {},
   "outputs": [],
   "source": [
    "!pip list"
   ]
  },
  {
   "cell_type": "code",
   "execution_count": null,
   "metadata": {},
   "outputs": [],
   "source": [
    "pp.__file__"
   ]
  },
  {
   "cell_type": "code",
   "execution_count": null,
   "metadata": {},
   "outputs": [],
   "source": [
    "!ls /home/eileen/.local/lib/python3.7/site-packages/"
   ]
  },
  {
   "cell_type": "code",
   "execution_count": null,
   "metadata": {},
   "outputs": [],
   "source": [
    "rdd0 = sc.parallelize(list(range(10000))).repartition(1000)"
   ]
  },
  {
   "cell_type": "code",
   "execution_count": null,
   "metadata": {},
   "outputs": [],
   "source": [
    "def get_hostnode(e):\n",
    "    import sys\n",
    "    import socket\n",
    "    \n",
    "    return str(sys.version_info), str(socket.gethostname())\n"
   ]
  },
  {
   "cell_type": "code",
   "execution_count": null,
   "metadata": {},
   "outputs": [],
   "source": [
    "def check_version(e):\n",
    "    import pyarrow as pa\n",
    "    hdfs = pa.hdfs.connect()\n",
    "    \n",
    "    return str(pa.__version__), str(hdfs)"
   ]
  },
  {
   "cell_type": "code",
   "execution_count": null,
   "metadata": {
    "scrolled": true
   },
   "outputs": [],
   "source": [
    "rdd0.map(check_version).distinct().collect()"
   ]
  },
  {
   "cell_type": "code",
   "execution_count": null,
   "metadata": {},
   "outputs": [],
   "source": [
    "hdfs = pa.hdfs.connect()"
   ]
  },
  {
   "cell_type": "code",
   "execution_count": null,
   "metadata": {},
   "outputs": [],
   "source": [
    "print(hdfs)"
   ]
  },
  {
   "cell_type": "code",
   "execution_count": null,
   "metadata": {
    "scrolled": true
   },
   "outputs": [],
   "source": [
    "rdd0.map(get_hostnode).distinct().collect()"
   ]
  },
  {
   "cell_type": "code",
   "execution_count": null,
   "metadata": {},
   "outputs": [],
   "source": [
    "get_hostnode(2)"
   ]
  },
  {
   "cell_type": "code",
   "execution_count": null,
   "metadata": {},
   "outputs": [],
   "source": [
    "!/home/tozeng/anaconda3/bin/python --version"
   ]
  },
  {
   "cell_type": "code",
   "execution_count": null,
   "metadata": {},
   "outputs": [],
   "source": []
  },
  {
   "cell_type": "code",
   "execution_count": null,
   "metadata": {},
   "outputs": [],
   "source": [
    "re.__version__"
   ]
  },
  {
   "cell_type": "code",
   "execution_count": null,
   "metadata": {},
   "outputs": [],
   "source": [
    "test_p = spark.sparkContext.parallelize(file_paths)\n",
    "test_p.collect()"
   ]
  },
  {
   "cell_type": "code",
   "execution_count": null,
   "metadata": {},
   "outputs": [],
   "source": [
    "def find_journal(gzip):\n",
    "    import re\n",
    "    l = re.findall('<Title>[\\s\\S]*?<\\/Title>', gzip[1])\n",
    "\n",
    "    return(l)"
   ]
  },
  {
   "cell_type": "code",
   "execution_count": null,
   "metadata": {},
   "outputs": [],
   "source": [
    "def test_medline_parquet(gzip):\n",
    "    import pubmed_parser as pa\n",
    "    dicts = pa.parse_medline_xml(gzip[1])\n",
    "    return [Row(**doc) for doc in dicts]"
   ]
  },
  {
   "cell_type": "code",
   "execution_count": null,
   "metadata": {},
   "outputs": [],
   "source": [
    "docs = spark.sparkContext.wholeTextFiles('test/test/pubmed21n0001.xml.gz')\n",
    "dicts = docs.flatMap(find_journal)\n",
    "dicts.take(10)"
   ]
  },
  {
   "cell_type": "code",
   "execution_count": null,
   "metadata": {},
   "outputs": [],
   "source": [
    "\n",
    "def parse_gzip_medline_str(gzip_str):\n",
    "    import pubmed_parser as pp\n",
    "    import unidecode\n",
    "    \n",
    "    filepath = gzip_str[0]\n",
    "    xml_string = gzip_str[1]\n",
    "    _, file_name = path.split(filepath)\n",
    "    # decompress gzip\n",
    "\n",
    "    articles = pp.parse_medline_xml(xml_string)\n",
    "    return [Row(file_name=file_name, **article_dict)\n",
    "            for article_dict in articles]\n",
    "\n"
   ]
  },
  {
   "cell_type": "code",
   "execution_count": null,
   "metadata": {
    "scrolled": true
   },
   "outputs": [],
   "source": [
    "docs = spark.sparkContext.wholeTextFiles('test/test/pubmed21n0001.xml.gz')\n",
    "dicts = docs.flatMap(parse_gzip_medline_str)\n",
    "dicts.take(10)\n",
    "\n"
   ]
  },
  {
   "cell_type": "code",
   "execution_count": null,
   "metadata": {},
   "outputs": [],
   "source": [
    "!hdfs dfs "
   ]
  },
  {
   "cell_type": "code",
   "execution_count": null,
   "metadata": {},
   "outputs": [],
   "source": [
    "spark.stop()"
   ]
  },
  {
   "cell_type": "code",
   "execution_count": null,
   "metadata": {},
   "outputs": [],
   "source": [
    "def test_medline_parquet(file_path):\n",
    "    import subprocess\n",
    "    (ret, out, err)= run_cmd(['hdfs', 'dfs', '-ls', 'test/test/'])\n",
    "    \n",
    "    return (out,err)"
   ]
  },
  {
   "cell_type": "code",
   "execution_count": null,
   "metadata": {},
   "outputs": [],
   "source": [
    "def run_cmd(args_list):\n",
    "        \"\"\"\n",
    "        run linux commands\n",
    "        \"\"\"\n",
    "        # import subprocess\n",
    "        print('Running system command: {0}'.format(' '.join(args_list)))\n",
    "        proc = subprocess.Popen(args_list, stdout=subprocess.PIPE, stderr=subprocess.PIPE)\n",
    "        s_output, s_err = proc.communicate()\n",
    "        s_return =  proc.returncode\n",
    "        return s_return, s_output, s_err "
   ]
  },
  {
   "cell_type": "code",
   "execution_count": null,
   "metadata": {},
   "outputs": [],
   "source": [
    "(ret, out, err)= run_cmd(['hdfs', 'dfs', '-ls', 'test/test/'])\n",
    "out.decode('ascii').split('\\n')"
   ]
  },
  {
   "cell_type": "code",
   "execution_count": null,
   "metadata": {
    "scrolled": false
   },
   "outputs": [],
   "source": [
    "err = test_p.map(test_medline_parquet).take(1)"
   ]
  },
  {
   "cell_type": "code",
   "execution_count": null,
   "metadata": {},
   "outputs": [],
   "source": [
    "err[0][1].decode('ascii').split('\\n')"
   ]
  },
  {
   "cell_type": "code",
   "execution_count": null,
   "metadata": {},
   "outputs": [],
   "source": [
    "tet = spark.sparkContext.wholeTextFiles('test/test/*.xml.gz')"
   ]
  },
  {
   "cell_type": "code",
   "execution_count": null,
   "metadata": {},
   "outputs": [],
   "source": [
    "tet.map(lambda x : x[0]).take(1)"
   ]
  },
  {
   "cell_type": "code",
   "execution_count": null,
   "metadata": {},
   "outputs": [],
   "source": [
    "pa.hdfs.connect()"
   ]
  },
  {
   "cell_type": "code",
   "execution_count": null,
   "metadata": {},
   "outputs": [],
   "source": [
    "spark.stop()"
   ]
  }
 ],
 "metadata": {
  "kernelspec": {
   "display_name": "Python 3.7.3 64-bit ('base': conda)",
   "language": "python",
   "name": "python373jvsc74a57bd09f9127846a4e2991673c18367713baaab9c118995b914f01a7998576a1f0d8bf"
  },
  "language_info": {
   "codemirror_mode": {
    "name": "ipython",
    "version": 3
   },
   "file_extension": ".py",
   "mimetype": "text/x-python",
   "name": "python",
   "nbconvert_exporter": "python",
   "pygments_lexer": "ipython3",
   "version": "3.7.3"
  },
  "metadata": {
   "interpreter": {
    "hash": "9f9127846a4e2991673c18367713baaab9c118995b914f01a7998576a1f0d8bf"
   }
  }
 },
 "nbformat": 4,
 "nbformat_minor": 2
}
