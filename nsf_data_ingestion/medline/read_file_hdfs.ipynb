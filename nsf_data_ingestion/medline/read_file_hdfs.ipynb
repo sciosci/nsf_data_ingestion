{
 "cells": [
  {
   "cell_type": "code",
   "execution_count": 44,
   "metadata": {},
   "outputs": [],
   "source": [
    "import pyarrow as pa"
   ]
  },
  {
   "cell_type": "code",
   "execution_count": 70,
   "metadata": {},
   "outputs": [],
   "source": [
    "hdfs = pa.hdfs.connect()"
   ]
  },
  {
   "cell_type": "code",
   "execution_count": 71,
   "metadata": {},
   "outputs": [],
   "source": [
    "path0 = hdfs.ls('test/test')[0]"
   ]
  },
  {
   "cell_type": "code",
   "execution_count": 72,
   "metadata": {},
   "outputs": [],
   "source": [
    "import pubmed_parser as pp"
   ]
  },
  {
   "cell_type": "code",
   "execution_count": 73,
   "metadata": {},
   "outputs": [],
   "source": [
    "import gzip"
   ]
  },
  {
   "cell_type": "code",
   "execution_count": 74,
   "metadata": {},
   "outputs": [],
   "source": [
    "hdfs.download(path0, '/tmp/tmp.xml.gz')"
   ]
  },
  {
   "cell_type": "code",
   "execution_count": 79,
   "metadata": {
    "scrolled": true
   },
   "outputs": [],
   "source": [
    "with gzip.open('/tmp/tmp.xml.gz', 'rt') as fp:\n",
    "    data = pp.parse_medline_xml(fp)"
   ]
  },
  {
   "cell_type": "code",
   "execution_count": 61,
   "metadata": {},
   "outputs": [],
   "source": [
    "from pyspark.sql import Row"
   ]
  },
  {
   "cell_type": "code",
   "execution_count": 80,
   "metadata": {},
   "outputs": [
    {
     "data": {
      "text/plain": [
       "Row(abstract='', affiliations='', authors='AB Makar;KE McMartin;M Palese;TR Tephly', chemical_list='D005561:Formates; D002245:Carbon Dioxide; D000445:Aldehyde Oxidoreductases; D000432:Methanol', country='United States', delete=False, doi='10.1016/0006-2944(75)90147-7', issn_linking='0006-2944', journal='Biochemical medicine', keywords='', medline_ta='Biochem Med', mesh_terms='D000445:Aldehyde Oxidoreductases; D000818:Animals; D001826:Body Fluids; D002245:Carbon Dioxide; D005561:Formates; D000882:Haplorhini; D006801:Humans; D006863:Hydrogen-Ion Concentration; D007700:Kinetics; D000432:Methanol; D008722:Methods; D011549:Pseudomonas', nlm_unique_id='0151424', other_id='', pmc='', pmid='1', pubdate='1975', publication_types=\"D016428:Journal Article; D013487:Research Support, U.S. Gov't, P.H.S.\", references='', title='Formate assay in body fluids: application in methanol poisoning.')"
      ]
     },
     "execution_count": 80,
     "metadata": {},
     "output_type": "execute_result"
    }
   ],
   "source": [
    "Row(**data[0])"
   ]
  },
  {
   "cell_type": "code",
   "execution_count": 63,
   "metadata": {},
   "outputs": [],
   "source": [
    "import os\n",
    "os.remove('/tmp/tmp.xml.gz')"
   ]
  }
 ],
 "metadata": {
  "kernelspec": {
   "display_name": "Python 3",
   "language": "python",
   "name": "python3"
  },
  "language_info": {
   "codemirror_mode": {
    "name": "ipython",
    "version": 3
   },
   "file_extension": ".py",
   "mimetype": "text/x-python",
   "name": "python",
   "nbconvert_exporter": "python",
   "pygments_lexer": "ipython3",
   "version": "3.7.3"
  }
 },
 "nbformat": 4,
 "nbformat_minor": 2
}
