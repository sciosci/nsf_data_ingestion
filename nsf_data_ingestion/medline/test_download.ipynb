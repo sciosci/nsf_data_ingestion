{
 "cells": [
  {
   "cell_type": "code",
   "execution_count": 1,
   "metadata": {},
   "outputs": [],
   "source": [
    "import sys\n",
    "## sys.path.append('/home/ananth/nsf_data_ingestion/')\n",
    "sys.path.append('/home/eileen/nsf_data_ingestion/')\n",
    "from nsf_data_ingestion.config import nsf_config\n",
    "from nsf_data_ingestion.objects import data_source_params\n",
    "from nsf_data_ingestion.utils.utils_functions import get_last_load\n",
    "import os\n",
    "from shutil import copyfile\n",
    "from shutil import rmtree\n",
    "import tarfile\n",
    "import shutil\n",
    "import zipfile\n",
    "from ftplib import FTP\n",
    "import logging\n",
    "import calendar\n",
    "import time\n",
    "from subprocess import call\n",
    "logging.getLogger().setLevel(logging.INFO)"
   ]
  },
  {
   "cell_type": "code",
   "execution_count": null,
   "metadata": {},
   "outputs": [],
   "source": [
    "def download_med_data(param_list):\n",
    "    medline_ftp_server = 'ftp.ncbi.nlm.nih.gov'\n",
    "    medline_directory_path_data = '/home/eileen/medline_data/'\n",
    "    timestamp_file = 'time_stamp.txt'\n",
    "    medline_medlease_urls = ['/pubmed/baseline','/pubmed/updatefiles']\n",
    "    \n",
    "    last_load = get_last_load(medline_directory_path_data, timestamp_file)\n",
    "    \n",
    "    if 1:\n",
    "        logging.info('Old Data. Downloading Updated Data')\n",
    "        rmtree(medline_directory_path_data)\n",
    "        os.makedirs(medline_directory_path_data)\n",
    "        \n",
    "        for medline_url in medline_medlease_urls:\n",
    "            ftp = FTP(medline_ftp_server)\n",
    "            ftp.login(user='', passwd='')\n",
    "            ftp.cwd(medline_url)\n",
    "            files = ftp.nlst()\n",
    "\n",
    "            for file in files:\n",
    "                if file.endswith('.xml.gz'):\n",
    "                    localfile = open(medline_directory_path_data + file, 'wb')\n",
    "#                     EOFError as e:\n",
    "#                         continue:\n",
    "                    ftp.retrbinary(\"RETR \" + file, localfile.write)\n",
    "                    logging.info('Downloading file - ' + file + ', from ' + medline_url + '. Pleae Wait.................')\n",
    "            ftp.quit()\n",
    "            localfile.close()\n",
    "            \n",
    "            logging.info('Updating TimeStamp')\n",
    "            f = open(medline_directory_path_data + \"time_stamp.txt\", \"a\")\n",
    "            cur_time = calendar.timegm(time.gmtime())\n",
    "            f.write(str(cur_time))\n",
    "            f.close()\n",
    "            \n",
    "def download(data_source_name):\n",
    "    download_med_data(data_source_params.mapping.get(data_source_name))\n",
    "    \n",
    "download('medline')"
   ]
  },
  {
   "cell_type": "code",
   "execution_count": null,
   "metadata": {},
   "outputs": [],
   "source": [
    "def persist(param_list):\n",
    "    medline_hdfs_path = '/user/eileen/medline/'\n",
    "    #medline_hdfs_path = param_list.get('hdfs_path')\n",
    "    medline_directory_path_data = '/home/eileen/medline_data/'\n",
    "    #medline_directory_path_data = param_list.get('directory_path')\n",
    "    logging.info('Persisting data to HDFS')\n",
    "    if not call([\"hdfs\", \"dfs\", \"-test\", \"-d\", medline_hdfs_path]):\n",
    "        call([\"hdfs\", \"dfs\", \"-rm\", \"-r\", \"-f\", medline_hdfs_path])\n",
    "\n",
    "    call([\"hdfs\", \"dfs\", \"-mkdir\", medline_hdfs_path])\n",
    "    call([\"hdfs\", \"dfs\", \"-put\", medline_directory_path_data, medline_hdfs_path])\n",
    "    logging.info('Files Persisted to - %s', medline_hdfs_path)"
   ]
  },
  {
   "cell_type": "code",
   "execution_count": null,
   "metadata": {},
   "outputs": [],
   "source": [
    "                                            \n",
    "def persist_hdfs(data_source_name):\n",
    "    persist(data_source_params.mapping.get(data_source_name))"
   ]
  }
 ],
 "metadata": {
  "kernelspec": {
   "display_name": "Python 3",
   "language": "python",
   "name": "python3"
  },
  "language_info": {
   "codemirror_mode": {
    "name": "ipython",
    "version": 3
   },
   "file_extension": ".py",
   "mimetype": "text/x-python",
   "name": "python",
   "nbconvert_exporter": "python",
   "pygments_lexer": "ipython3",
   "version": "3.7.3"
  }
 },
 "nbformat": 4,
 "nbformat_minor": 2
}
