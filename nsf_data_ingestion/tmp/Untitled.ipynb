{
 "cells": [
  {
   "cell_type": "code",
   "execution_count": 15,
   "metadata": {},
   "outputs": [],
   "source": [
    "import sys\n",
    "sys.path.append('/home/ananth/nsf_data_ingestion/nsf_data_ingestion/main/download/')\n",
    "sys.path.append('/home/ananth/nsf_data_ingestion/nsf_data_ingestion/main/persist_hdfs/')\n",
    "from dowload_data import download\n",
    "from persist_data import persist_hdfs\n",
    "#from nsf_data_ingestion.main.download.download_data import download"
   ]
  },
  {
   "cell_type": "code",
   "execution_count": 10,
   "metadata": {},
   "outputs": [
    {
     "name": "stderr",
     "output_type": "stream",
     "text": [
      "INFO:root:Downloading Fed Data\n"
     ]
    }
   ],
   "source": [
    "download('federal_reporter')"
   ]
  },
  {
   "cell_type": "code",
   "execution_count": 17,
   "metadata": {},
   "outputs": [
    {
     "name": "stderr",
     "output_type": "stream",
     "text": [
      "INFO:root:Persisting data to HDFS\n",
      "INFO:root:Files Persisted to - /user/ananth/federal/\n"
     ]
    }
   ],
   "source": [
    "persist_hdfs('federal_reporter')"
   ]
  },
  {
   "cell_type": "code",
   "execution_count": null,
   "metadata": {},
   "outputs": [],
   "source": []
  }
 ],
 "metadata": {
  "kernelspec": {
   "display_name": "Python 3",
   "language": "python",
   "name": "python3"
  },
  "language_info": {
   "codemirror_mode": {
    "name": "ipython",
    "version": 3
   },
   "file_extension": ".py",
   "mimetype": "text/x-python",
   "name": "python",
   "nbconvert_exporter": "python",
   "pygments_lexer": "ipython3",
   "version": "3.6.5"
  }
 },
 "nbformat": 4,
 "nbformat_minor": 2
}
